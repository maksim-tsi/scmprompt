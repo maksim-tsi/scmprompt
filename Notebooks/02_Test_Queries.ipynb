{
 "cells": [
  {
   "cell_type": "markdown",
   "metadata": {},
   "source": [
    "# Test Qdrant Search and Query Capabilities\n",
    "\n",
    "This notebook demonstrates various ways to search and retrieve datapoints from your Qdrant collection."
   ]
  },
  {
   "cell_type": "code",
   "execution_count": 4,
   "metadata": {},
   "outputs": [
    {
     "name": "stdout",
     "output_type": "stream",
     "text": [
      "✅ Successfully connected to Qdrant Cloud.\n",
      "Available collections: ['logistics_datapoints']\n",
      "✅ Successfully connected to Google Embedding API.\n",
      "Embedding dimension: 768\n",
      "✅ Collection 'logistics_datapoints' exists with None points\n"
     ]
    },
    {
     "data": {
      "text/plain": [
       "True"
      ]
     },
     "execution_count": 4,
     "metadata": {},
     "output_type": "execute_result"
    }
   ],
   "source": [
    "# Import necessary libraries\n",
    "import sys\n",
    "import os\n",
    "sys.path.append(\"..\")\n",
    "from utils.qdrant_client import get_qdrant_client, get_embedding, search_datapoints, test_connection, COLLECTION_NAME\n",
    "from dotenv import load_dotenv\n",
    "import pandas as pd\n",
    "from IPython.display import display, Markdown, HTML\n",
    "\n",
    "# Load environment variables\n",
    "load_dotenv()\n",
    "\n",
    "# Test connection\n",
    "test_connection()"
   ]
  },
  {
   "cell_type": "markdown",
   "metadata": {},
   "source": [
    "## Basic Semantic Search"
   ]
  },
  {
   "cell_type": "code",
   "execution_count": 5,
   "metadata": {},
   "outputs": [],
   "source": [
    "def display_results(results, query=None):\n",
    "    \"\"\"Format and display search results in a readable way\"\"\"\n",
    "    if query:\n",
    "        display(Markdown(f\"## Search results for: '{query}'\"))\n",
    "    \n",
    "    if not results:\n",
    "        display(Markdown(\"*No results found*\"))\n",
    "        return\n",
    "        \n",
    "    for i, result in enumerate(results, 1):\n",
    "        display(Markdown(f\"### Result {i} - Score: {result.score:.4f}\"))\n",
    "        \n",
    "        # Extract basic info\n",
    "        datapoint_id = result.payload.get('datapoint_id', 'No ID')\n",
    "        datapoint_type = result.payload.get('datapoint_type', 'N/A')\n",
    "        port_area = result.payload.get('port_area', result.payload.get('domain_area', 'N/A'))\n",
    "        entity = result.payload.get('relevant_entity', 'N/A')\n",
    "        category = result.payload.get('regulation_category', 'N/A')\n",
    "        subcategory = result.payload.get('regulation_subcategory', 'N/A')\n",
    "        detail = result.payload.get('regulation_detail', 'N/A')\n",
    "        \n",
    "        # Display basic info\n",
    "        info = f\"**ID:** {datapoint_id}  \\n\"\n",
    "        info += f\"**Type:** {datapoint_type}  \\n\"\n",
    "        info += f\"**Area:** {port_area}  \\n\"\n",
    "        info += f\"**Entity:** {entity}  \\n\"\n",
    "        info += f\"**Category:** {category}  \\n\"\n",
    "        info += f\"**Subcategory:** {subcategory}  \\n\\n\"\n",
    "        info += f\"**Detail:** {detail}  \\n\"\n",
    "        \n",
    "        # Add keywords if available\n",
    "        if 'keywords' in result.payload and result.payload['keywords']:\n",
    "            keywords = ', '.join(result.payload['keywords'])\n",
    "            info += f\"\\n**Keywords:** {keywords}\"\n",
    "        \n",
    "        display(Markdown(info))\n",
    "        display(Markdown(\"---\"))"
   ]
  },
  {
   "cell_type": "code",
   "execution_count": 7,
   "metadata": {},
   "outputs": [
    {
     "data": {
      "text/markdown": [
       "## Search results for: 'Requirements for container seals and security'"
      ],
      "text/plain": [
       "<IPython.core.display.Markdown object>"
      ]
     },
     "metadata": {},
     "output_type": "display_data"
    },
    {
     "data": {
      "text/markdown": [
       "### Result 1 - Score: 0.8198"
      ],
      "text/plain": [
       "<IPython.core.display.Markdown object>"
      ]
     },
     "metadata": {},
     "output_type": "display_data"
    },
    {
     "data": {
      "text/markdown": [
       "**ID:** YANGSHAN_DP_MARITIME_CODE_CARRIER_DUE_DILIGENCE_CARGO_FITNESS_022  \n",
       "**Type:** Regulation  \n",
       "**Area:** International  \n",
       "**Entity:** Carrier  \n",
       "**Category:** Carrier Obligations  \n",
       "**Subcategory:** Due Diligence - Cargo Fitness  \n",
       "\n",
       "**Detail:** Carriers must ensure vessel components are 'fit and safe for their reception, carriage and preservation' of goods.  \n",
       "\n",
       "**Keywords:** legal framework, maritime code, carrier obligation, due diligence, cargo fitness, vessel components, cargo reception, cargo carriage, cargo preservation, article 47"
      ],
      "text/plain": [
       "<IPython.core.display.Markdown object>"
      ]
     },
     "metadata": {},
     "output_type": "display_data"
    },
    {
     "data": {
      "text/markdown": [
       "---"
      ],
      "text/plain": [
       "<IPython.core.display.Markdown object>"
      ]
     },
     "metadata": {},
     "output_type": "display_data"
    },
    {
     "data": {
      "text/markdown": [
       "### Result 2 - Score: 0.7975"
      ],
      "text/plain": [
       "<IPython.core.display.Markdown object>"
      ]
     },
     "metadata": {},
     "output_type": "display_data"
    },
    {
     "data": {
      "text/markdown": [
       "**ID:** YANGSHAN_DP_ENV_PROTECTION_HAZARDOUS_CARGO_SAFETY_OBLIGATION_REVISITED_084  \n",
       "**Type:** Obligation  \n",
       "**Area:** Yangshan  \n",
       "**Entity:** Shipper (Hazardous/Dangerous Goods)  \n",
       "**Category:** Environmental Protection  \n",
       "**Subcategory:** Hazardous Cargo Handling Safety  \n",
       "\n",
       "**Detail:** Shippers, cargo owners, and agents handling hazardous cargo are subject to enhanced obligations to ensure safety and environmental protection.  \n",
       "\n",
       "**Keywords:** environmental protection, hazardous cargo, shipper obligation, cargo owner obligation, agent obligation, enhanced obligations, safety protocols, dangerous goods"
      ],
      "text/plain": [
       "<IPython.core.display.Markdown object>"
      ]
     },
     "metadata": {},
     "output_type": "display_data"
    },
    {
     "data": {
      "text/markdown": [
       "---"
      ],
      "text/plain": [
       "<IPython.core.display.Markdown object>"
      ]
     },
     "metadata": {},
     "output_type": "display_data"
    },
    {
     "data": {
      "text/markdown": [
       "### Result 3 - Score: 0.7771"
      ],
      "text/plain": [
       "<IPython.core.display.Markdown object>"
      ]
     },
     "metadata": {},
     "output_type": "display_data"
    },
    {
     "data": {
      "text/markdown": [
       "**ID:** IMO_DP_SOLAS_CSM_MANDATORY_VESSEL_007  \n",
       "**Type:** Requirement  \n",
       "**Area:** International - IMO  \n",
       "**Entity:** Vessel  \n",
       "**Category:** Carriage of Cargoes  \n",
       "**Subcategory:** SOLAS - Chapter VI  \n",
       "\n",
       "**Detail:** Cargo Securing Manual (CSM) is mandatory on vessels carrying containers, detailing the proper stowage and securing arrangements.  \n",
       "\n",
       "**Keywords:** SOLAS, CSM, Cargo Securing Manual, vessel, containers, stowage, securing"
      ],
      "text/plain": [
       "<IPython.core.display.Markdown object>"
      ]
     },
     "metadata": {},
     "output_type": "display_data"
    },
    {
     "data": {
      "text/markdown": [
       "---"
      ],
      "text/plain": [
       "<IPython.core.display.Markdown object>"
      ]
     },
     "metadata": {},
     "output_type": "display_data"
    },
    {
     "data": {
      "text/markdown": [
       "## Search results for: 'Customs documentation requirements (in Singapore)'"
      ],
      "text/plain": [
       "<IPython.core.display.Markdown object>"
      ]
     },
     "metadata": {},
     "output_type": "display_data"
    },
    {
     "data": {
      "text/markdown": [
       "### Result 1 - Score: 0.8164"
      ],
      "text/plain": [
       "<IPython.core.display.Markdown object>"
      ]
     },
     "metadata": {},
     "output_type": "display_data"
    },
    {
     "data": {
      "text/markdown": [
       "**ID:** SINGAPORE_DP_PORT_CLEARANCE_CERTIFICATE_REGISTRY_PRODUCTION_205  \n",
       "**Type:** Requirement  \n",
       "**Area:** Singapore  \n",
       "**Entity:** Vessel Operator  \n",
       "**Category:** Port Clearance  \n",
       "**Subcategory:** Port Clearance Conditions  \n",
       "\n",
       "**Detail:** Port Master may require production of certificate of registry for port clearance.  \n",
       "\n",
       "**Keywords:** port clearance condition, certificate of registry, vessel documents, document production, Port Master discretion"
      ],
      "text/plain": [
       "<IPython.core.display.Markdown object>"
      ]
     },
     "metadata": {},
     "output_type": "display_data"
    },
    {
     "data": {
      "text/markdown": [
       "---"
      ],
      "text/plain": [
       "<IPython.core.display.Markdown object>"
      ]
     },
     "metadata": {},
     "output_type": "display_data"
    },
    {
     "data": {
      "text/markdown": [
       "### Result 2 - Score: 0.8068"
      ],
      "text/plain": [
       "<IPython.core.display.Markdown object>"
      ]
     },
     "metadata": {},
     "output_type": "display_data"
    },
    {
     "data": {
      "text/markdown": [
       "**ID:** SINGAPORE_DP_PORT_CLEARANCE_APPLICATION_DOCS_OTHER_DEPARTURE_198  \n",
       "**Type:** Requirement  \n",
       "**Area:** Singapore  \n",
       "**Entity:** Vessel Operator  \n",
       "**Category:** Documentation  \n",
       "**Subcategory:** Departure Documents  \n",
       "\n",
       "**Detail:** Port clearance application requires providing any other documents required by Port Master.  \n",
       "\n",
       "**Keywords:** port clearance application, departure documents, other documents, additional documents, Port Master discretion, mandatory documents"
      ],
      "text/plain": [
       "<IPython.core.display.Markdown object>"
      ]
     },
     "metadata": {},
     "output_type": "display_data"
    },
    {
     "data": {
      "text/markdown": [
       "---"
      ],
      "text/plain": [
       "<IPython.core.display.Markdown object>"
      ]
     },
     "metadata": {},
     "output_type": "display_data"
    },
    {
     "data": {
      "text/markdown": [
       "### Result 3 - Score: 0.8061"
      ],
      "text/plain": [
       "<IPython.core.display.Markdown object>"
      ]
     },
     "metadata": {},
     "output_type": "display_data"
    },
    {
     "data": {
      "text/markdown": [
       "**ID:** SINGAPORE_DP_PORT_CLEARANCE_CUSTOMS_COMPLIANCE_CONDITION_203  \n",
       "**Type:** Requirement  \n",
       "**Area:** Singapore  \n",
       "**Entity:** Vessel Operator  \n",
       "**Category:** Port Clearance  \n",
       "**Subcategory:** Port Clearance Conditions  \n",
       "\n",
       "**Detail:** Port clearance not granted if owner/agent/master has not complied with Regulation of Imports and Exports Act.  \n",
       "\n",
       "**Keywords:** port clearance condition, customs compliance, import/export regulations, regulatory compliance"
      ],
      "text/plain": [
       "<IPython.core.display.Markdown object>"
      ]
     },
     "metadata": {},
     "output_type": "display_data"
    },
    {
     "data": {
      "text/markdown": [
       "---"
      ],
      "text/plain": [
       "<IPython.core.display.Markdown object>"
      ]
     },
     "metadata": {},
     "output_type": "display_data"
    },
    {
     "data": {
      "text/markdown": [
       "## Search results for: 'Safety requirements (for Vessels)'"
      ],
      "text/plain": [
       "<IPython.core.display.Markdown object>"
      ]
     },
     "metadata": {},
     "output_type": "display_data"
    },
    {
     "data": {
      "text/markdown": [
       "### Result 1 - Score: 0.6951"
      ],
      "text/plain": [
       "<IPython.core.display.Markdown object>"
      ]
     },
     "metadata": {},
     "output_type": "display_data"
    },
    {
     "data": {
      "text/markdown": [
       "**ID:** YANGSHAN_DP_ENV_PROTECTION_VESSEL_STRUCTURE_EQUIPMENT_COMPLIANCE_054  \n",
       "**Type:** Requirement  \n",
       "**Area:** Yangshan  \n",
       "**Entity:** Vessel  \n",
       "**Category:** Environmental Protection  \n",
       "**Subcategory:** Vessel Standards  \n",
       "\n",
       "**Detail:** Vessel structures and anti-pollution equipment must comply with relevant regulations and undergo qualification examinations at Yangshan.  \n",
       "\n",
       "**Keywords:** environmental protection, vessel structure, anti-pollution equipment, compliance, regulation compliance, qualification examination, vessel standards, equipment standards, vessel integrity"
      ],
      "text/plain": [
       "<IPython.core.display.Markdown object>"
      ]
     },
     "metadata": {},
     "output_type": "display_data"
    },
    {
     "data": {
      "text/markdown": [
       "---"
      ],
      "text/plain": [
       "<IPython.core.display.Markdown object>"
      ]
     },
     "metadata": {},
     "output_type": "display_data"
    },
    {
     "data": {
      "text/markdown": [
       "### Result 2 - Score: 0.6834"
      ],
      "text/plain": [
       "<IPython.core.display.Markdown object>"
      ]
     },
     "metadata": {},
     "output_type": "display_data"
    },
    {
     "data": {
      "text/markdown": [
       "**ID:** IMO_DP_MLC_MEDICAL_CARE_ONBOARD_039  \n",
       "**Type:** Requirement  \n",
       "**Area:** International - ILO/IMO  \n",
       "**Entity:** Vessel  \n",
       "**Category:** Health Protection and Medical Care  \n",
       "**Subcategory:** MLC, 2006 - Title 4  \n",
       "\n",
       "**Detail:** Ships are required to carry a medical chest, medical equipment, and have trained personnel to provide medical care on board, in accordance with MLC, 2006.  \n",
       "\n",
       "**Keywords:** MLC, 2006, medical care, onboard medical care, medical chest, medical equipment, health protection, requirement, ship"
      ],
      "text/plain": [
       "<IPython.core.display.Markdown object>"
      ]
     },
     "metadata": {},
     "output_type": "display_data"
    },
    {
     "data": {
      "text/markdown": [
       "---"
      ],
      "text/plain": [
       "<IPython.core.display.Markdown object>"
      ]
     },
     "metadata": {},
     "output_type": "display_data"
    },
    {
     "data": {
      "text/markdown": [
       "### Result 3 - Score: 0.6559"
      ],
      "text/plain": [
       "<IPython.core.display.Markdown object>"
      ]
     },
     "metadata": {},
     "output_type": "display_data"
    },
    {
     "data": {
      "text/markdown": [
       "**ID:** SINGAPORE_DP_DEFINITION_VESSEL_152  \n",
       "**Type:** Definition  \n",
       "**Area:** Singapore  \n",
       "**Entity:** Vessel  \n",
       "**Category:** Definitions  \n",
       "**Subcategory:** Vessels  \n",
       "\n",
       "**Detail:** \"vessel\" includes any ship or boat or air‑cushioned vehicle or floating rig or platform used in any form of operations at sea.  \n",
       "\n",
       "**Keywords:** definition, vessel, ship, boat, maritime vessel, vessel type"
      ],
      "text/plain": [
       "<IPython.core.display.Markdown object>"
      ]
     },
     "metadata": {},
     "output_type": "display_data"
    },
    {
     "data": {
      "text/markdown": [
       "---"
      ],
      "text/plain": [
       "<IPython.core.display.Markdown object>"
      ]
     },
     "metadata": {},
     "output_type": "display_data"
    },
    {
     "data": {
      "text/markdown": [
       "## Search results for: 'Documentation requirements (for Shippers and Customs Authorities)'"
      ],
      "text/plain": [
       "<IPython.core.display.Markdown object>"
      ]
     },
     "metadata": {},
     "output_type": "display_data"
    },
    {
     "data": {
      "text/markdown": [
       "### Result 1 - Score: 0.6843"
      ],
      "text/plain": [
       "<IPython.core.display.Markdown object>"
      ]
     },
     "metadata": {},
     "output_type": "display_data"
    },
    {
     "data": {
      "text/markdown": [
       "**ID:** IMO_DP_DGD_CERTIFICATION_SHIPPER_RESPONSIBILITY_097  \n",
       "**Type:** Responsibility  \n",
       "**Area:** International - Safety/Regulations  \n",
       "**Entity:** Shipper  \n",
       "**Category:** Dangerous Goods Regulations  \n",
       "**Subcategory:** Dangerous Goods Declaration (DGD) - Key Information  \n",
       "\n",
       "**Detail:** A signed certification statement on the DGD signifies the shipper's responsibility for the accurate classification, packaging, marking, labeling, and documentation of the dangerous goods.  \n",
       "\n",
       "**Keywords:** Dangerous Goods Declaration, DGD, certification statement, shipper responsibility, responsibility, accuracy, compliance, legal responsibility"
      ],
      "text/plain": [
       "<IPython.core.display.Markdown object>"
      ]
     },
     "metadata": {},
     "output_type": "display_data"
    },
    {
     "data": {
      "text/markdown": [
       "---"
      ],
      "text/plain": [
       "<IPython.core.display.Markdown object>"
      ]
     },
     "metadata": {},
     "output_type": "display_data"
    },
    {
     "data": {
      "text/markdown": [
       "### Result 2 - Score: 0.6544"
      ],
      "text/plain": [
       "<IPython.core.display.Markdown object>"
      ]
     },
     "metadata": {},
     "output_type": "display_data"
    },
    {
     "data": {
      "text/markdown": [
       "**ID:** IMO_DP_SOLAS_VGM_REQ_001  \n",
       "**Type:** Requirement  \n",
       "**Area:** International - IMO  \n",
       "**Entity:** Shipper  \n",
       "**Category:** Safety Regulations  \n",
       "**Subcategory:** SOLAS - Container Weight Verification (VGM)  \n",
       "\n",
       "**Detail:** Shippers are required to provide the Verified Gross Mass (VGM) of a packed container to the carrier and the terminal before loading onto a ship.  \n",
       "\n",
       "**Keywords:** SOLAS, VGM, container weight, verified gross mass, mandatory, shipper, documentation"
      ],
      "text/plain": [
       "<IPython.core.display.Markdown object>"
      ]
     },
     "metadata": {},
     "output_type": "display_data"
    },
    {
     "data": {
      "text/markdown": [
       "---"
      ],
      "text/plain": [
       "<IPython.core.display.Markdown object>"
      ]
     },
     "metadata": {},
     "output_type": "display_data"
    },
    {
     "data": {
      "text/markdown": [
       "### Result 3 - Score: 0.6714"
      ],
      "text/plain": [
       "<IPython.core.display.Markdown object>"
      ]
     },
     "metadata": {},
     "output_type": "display_data"
    },
    {
     "data": {
      "text/markdown": [
       "**ID:** IMO_DP_SAFE_ADVANCE_CARGO_INFO_STD_042  \n",
       "**Type:** Standard  \n",
       "**Area:** International - WCO  \n",
       "**Entity:** Customs Authority  \n",
       "**Category:** Customs Procedures  \n",
       "**Subcategory:** WCO SAFE Framework - Core Element 1  \n",
       "\n",
       "**Detail:** The WCO SAFE Framework standard requires customs administrations to harmonize the collection of advance electronic cargo information for risk assessment.  \n",
       "\n",
       "**Keywords:** WCO SAFE Framework, advance cargo information, electronic data, customs data, data harmonization, standard, risk assessment"
      ],
      "text/plain": [
       "<IPython.core.display.Markdown object>"
      ]
     },
     "metadata": {},
     "output_type": "display_data"
    },
    {
     "data": {
      "text/markdown": [
       "---"
      ],
      "text/plain": [
       "<IPython.core.display.Markdown object>"
      ]
     },
     "metadata": {},
     "output_type": "display_data"
    },
    {
     "data": {
      "text/markdown": [
       "### Result 4 - Score: 0.6309"
      ],
      "text/plain": [
       "<IPython.core.display.Markdown object>"
      ]
     },
     "metadata": {},
     "output_type": "display_data"
    },
    {
     "data": {
      "text/markdown": [
       "**ID:** IMO_DP_SAFE_RISK_MANAGEMENT_PRINCIPLE_045  \n",
       "**Type:** Principle  \n",
       "**Area:** International - WCO  \n",
       "**Entity:** Customs Authority  \n",
       "**Category:** Customs Procedures  \n",
       "**Subcategory:** WCO SAFE Framework - Core Element 2  \n",
       "\n",
       "**Detail:** The WCO SAFE Framework promotes the principle of consistent risk management approach by customs administrations to focus on high-risk shipments and expedite low-risk cargo.  \n",
       "\n",
       "**Keywords:** WCO SAFE Framework, risk management, principle, customs control, targeting, high-risk cargo, trade facilitation"
      ],
      "text/plain": [
       "<IPython.core.display.Markdown object>"
      ]
     },
     "metadata": {},
     "output_type": "display_data"
    },
    {
     "data": {
      "text/markdown": [
       "---"
      ],
      "text/plain": [
       "<IPython.core.display.Markdown object>"
      ]
     },
     "metadata": {},
     "output_type": "display_data"
    }
   ],
   "source": [
    "# Basic semantic search\n",
    "query = \"Requirements for container seals and security\"\n",
    "results = search_datapoints(query, limit=3)\n",
    "display_results(results, query)\n",
    "\n",
    "# Search with port area filter\n",
    "port_query = \"Customs documentation requirements\"\n",
    "port_results = search_datapoints(\n",
    "    port_query, \n",
    "    filter_conditions={\"port_area\": \"Singapore\"},\n",
    "    limit=3\n",
    ")\n",
    "display_results(port_results, f\"{port_query} (in Singapore)\")\n",
    "\n",
    "# Search with normalized entity filter\n",
    "entity_query = \"Safety requirements\"\n",
    "entity_results = search_datapoints(\n",
    "    entity_query, \n",
    "    filter_conditions={\"relevant_entity\": \"Vessel\"}, # Using normalized entity name\n",
    "    limit=3\n",
    ")\n",
    "display_results(entity_results, f\"{entity_query} (for Vessels)\")\n",
    "\n",
    "# Search for multiple normalized entities\n",
    "multi_entity_query = \"Documentation requirements\"\n",
    "# Perform separate searches for each entity and combine results\n",
    "shipper_results = search_datapoints(\n",
    "    multi_entity_query,\n",
    "    filter_conditions={\"relevant_entity\": \"Shipper\"},\n",
    "    limit=2\n",
    ")\n",
    "customs_results = search_datapoints(\n",
    "    multi_entity_query,\n",
    "    filter_conditions={\"relevant_entity\": \"Customs Authority\"},\n",
    "    limit=2\n",
    ")\n",
    "# Combine the results\n",
    "multi_entity_results = shipper_results + customs_results\n",
    "display_results(multi_entity_results, f\"{multi_entity_query} (for Shippers and Customs Authorities)\")"
   ]
  },
  {
   "cell_type": "markdown",
   "metadata": {},
   "source": [
    "## Filtered Search by Port Area"
   ]
  },
  {
   "cell_type": "code",
   "execution_count": 8,
   "metadata": {},
   "outputs": [
    {
     "data": {
      "text/markdown": [
       "## Search results for: 'Customs documentation requirements (in Singapore)'"
      ],
      "text/plain": [
       "<IPython.core.display.Markdown object>"
      ]
     },
     "metadata": {},
     "output_type": "display_data"
    },
    {
     "data": {
      "text/markdown": [
       "### Result 1 - Score: 0.8164"
      ],
      "text/plain": [
       "<IPython.core.display.Markdown object>"
      ]
     },
     "metadata": {},
     "output_type": "display_data"
    },
    {
     "data": {
      "text/markdown": [
       "**ID:** SINGAPORE_DP_PORT_CLEARANCE_CERTIFICATE_REGISTRY_PRODUCTION_205  \n",
       "**Type:** Requirement  \n",
       "**Area:** Singapore  \n",
       "**Entity:** Vessel Operator  \n",
       "**Category:** Port Clearance  \n",
       "**Subcategory:** Port Clearance Conditions  \n",
       "\n",
       "**Detail:** Port Master may require production of certificate of registry for port clearance.  \n",
       "\n",
       "**Keywords:** port clearance condition, certificate of registry, vessel documents, document production, Port Master discretion"
      ],
      "text/plain": [
       "<IPython.core.display.Markdown object>"
      ]
     },
     "metadata": {},
     "output_type": "display_data"
    },
    {
     "data": {
      "text/markdown": [
       "---"
      ],
      "text/plain": [
       "<IPython.core.display.Markdown object>"
      ]
     },
     "metadata": {},
     "output_type": "display_data"
    },
    {
     "data": {
      "text/markdown": [
       "### Result 2 - Score: 0.8068"
      ],
      "text/plain": [
       "<IPython.core.display.Markdown object>"
      ]
     },
     "metadata": {},
     "output_type": "display_data"
    },
    {
     "data": {
      "text/markdown": [
       "**ID:** SINGAPORE_DP_PORT_CLEARANCE_APPLICATION_DOCS_OTHER_DEPARTURE_198  \n",
       "**Type:** Requirement  \n",
       "**Area:** Singapore  \n",
       "**Entity:** Vessel Operator  \n",
       "**Category:** Documentation  \n",
       "**Subcategory:** Departure Documents  \n",
       "\n",
       "**Detail:** Port clearance application requires providing any other documents required by Port Master.  \n",
       "\n",
       "**Keywords:** port clearance application, departure documents, other documents, additional documents, Port Master discretion, mandatory documents"
      ],
      "text/plain": [
       "<IPython.core.display.Markdown object>"
      ]
     },
     "metadata": {},
     "output_type": "display_data"
    },
    {
     "data": {
      "text/markdown": [
       "---"
      ],
      "text/plain": [
       "<IPython.core.display.Markdown object>"
      ]
     },
     "metadata": {},
     "output_type": "display_data"
    },
    {
     "data": {
      "text/markdown": [
       "### Result 3 - Score: 0.8061"
      ],
      "text/plain": [
       "<IPython.core.display.Markdown object>"
      ]
     },
     "metadata": {},
     "output_type": "display_data"
    },
    {
     "data": {
      "text/markdown": [
       "**ID:** SINGAPORE_DP_PORT_CLEARANCE_CUSTOMS_COMPLIANCE_CONDITION_203  \n",
       "**Type:** Requirement  \n",
       "**Area:** Singapore  \n",
       "**Entity:** Vessel Operator  \n",
       "**Category:** Port Clearance  \n",
       "**Subcategory:** Port Clearance Conditions  \n",
       "\n",
       "**Detail:** Port clearance not granted if owner/agent/master has not complied with Regulation of Imports and Exports Act.  \n",
       "\n",
       "**Keywords:** port clearance condition, customs compliance, import/export regulations, regulatory compliance"
      ],
      "text/plain": [
       "<IPython.core.display.Markdown object>"
      ]
     },
     "metadata": {},
     "output_type": "display_data"
    },
    {
     "data": {
      "text/markdown": [
       "---"
      ],
      "text/plain": [
       "<IPython.core.display.Markdown object>"
      ]
     },
     "metadata": {},
     "output_type": "display_data"
    }
   ],
   "source": [
    "# Search with port area filter\n",
    "port_query = \"Customs documentation requirements\"\n",
    "port_results = search_datapoints(\n",
    "    port_query, \n",
    "    filter_conditions={\"port_area\": \"Singapore\"},\n",
    "    limit=3\n",
    ")\n",
    "display_results(port_results, f\"{port_query} (in Singapore)\")"
   ]
  },
  {
   "cell_type": "markdown",
   "metadata": {},
   "source": [
    "## Search with Entity Filter"
   ]
  },
  {
   "cell_type": "code",
   "execution_count": 9,
   "metadata": {},
   "outputs": [
    {
     "data": {
      "text/markdown": [
       "## Search results for: 'Safety requirements (for Vessels)'"
      ],
      "text/plain": [
       "<IPython.core.display.Markdown object>"
      ]
     },
     "metadata": {},
     "output_type": "display_data"
    },
    {
     "data": {
      "text/markdown": [
       "### Result 1 - Score: 0.6951"
      ],
      "text/plain": [
       "<IPython.core.display.Markdown object>"
      ]
     },
     "metadata": {},
     "output_type": "display_data"
    },
    {
     "data": {
      "text/markdown": [
       "**ID:** YANGSHAN_DP_ENV_PROTECTION_VESSEL_STRUCTURE_EQUIPMENT_COMPLIANCE_054  \n",
       "**Type:** Requirement  \n",
       "**Area:** Yangshan  \n",
       "**Entity:** Vessel  \n",
       "**Category:** Environmental Protection  \n",
       "**Subcategory:** Vessel Standards  \n",
       "\n",
       "**Detail:** Vessel structures and anti-pollution equipment must comply with relevant regulations and undergo qualification examinations at Yangshan.  \n",
       "\n",
       "**Keywords:** environmental protection, vessel structure, anti-pollution equipment, compliance, regulation compliance, qualification examination, vessel standards, equipment standards, vessel integrity"
      ],
      "text/plain": [
       "<IPython.core.display.Markdown object>"
      ]
     },
     "metadata": {},
     "output_type": "display_data"
    },
    {
     "data": {
      "text/markdown": [
       "---"
      ],
      "text/plain": [
       "<IPython.core.display.Markdown object>"
      ]
     },
     "metadata": {},
     "output_type": "display_data"
    },
    {
     "data": {
      "text/markdown": [
       "### Result 2 - Score: 0.6834"
      ],
      "text/plain": [
       "<IPython.core.display.Markdown object>"
      ]
     },
     "metadata": {},
     "output_type": "display_data"
    },
    {
     "data": {
      "text/markdown": [
       "**ID:** IMO_DP_MLC_MEDICAL_CARE_ONBOARD_039  \n",
       "**Type:** Requirement  \n",
       "**Area:** International - ILO/IMO  \n",
       "**Entity:** Vessel  \n",
       "**Category:** Health Protection and Medical Care  \n",
       "**Subcategory:** MLC, 2006 - Title 4  \n",
       "\n",
       "**Detail:** Ships are required to carry a medical chest, medical equipment, and have trained personnel to provide medical care on board, in accordance with MLC, 2006.  \n",
       "\n",
       "**Keywords:** MLC, 2006, medical care, onboard medical care, medical chest, medical equipment, health protection, requirement, ship"
      ],
      "text/plain": [
       "<IPython.core.display.Markdown object>"
      ]
     },
     "metadata": {},
     "output_type": "display_data"
    },
    {
     "data": {
      "text/markdown": [
       "---"
      ],
      "text/plain": [
       "<IPython.core.display.Markdown object>"
      ]
     },
     "metadata": {},
     "output_type": "display_data"
    },
    {
     "data": {
      "text/markdown": [
       "### Result 3 - Score: 0.6559"
      ],
      "text/plain": [
       "<IPython.core.display.Markdown object>"
      ]
     },
     "metadata": {},
     "output_type": "display_data"
    },
    {
     "data": {
      "text/markdown": [
       "**ID:** SINGAPORE_DP_DEFINITION_VESSEL_152  \n",
       "**Type:** Definition  \n",
       "**Area:** Singapore  \n",
       "**Entity:** Vessel  \n",
       "**Category:** Definitions  \n",
       "**Subcategory:** Vessels  \n",
       "\n",
       "**Detail:** \"vessel\" includes any ship or boat or air‑cushioned vehicle or floating rig or platform used in any form of operations at sea.  \n",
       "\n",
       "**Keywords:** definition, vessel, ship, boat, maritime vessel, vessel type"
      ],
      "text/plain": [
       "<IPython.core.display.Markdown object>"
      ]
     },
     "metadata": {},
     "output_type": "display_data"
    },
    {
     "data": {
      "text/markdown": [
       "---"
      ],
      "text/plain": [
       "<IPython.core.display.Markdown object>"
      ]
     },
     "metadata": {},
     "output_type": "display_data"
    }
   ],
   "source": [
    "# Search with entity filter\n",
    "entity_query = \"Safety requirements\"\n",
    "entity_results = search_datapoints(\n",
    "    entity_query, \n",
    "    filter_conditions={\"relevant_entity\": \"Vessel\"}, \n",
    "    limit=3\n",
    ")\n",
    "display_results(entity_results, f\"{entity_query} (for Vessels)\")"
   ]
  },
  {
   "cell_type": "markdown",
   "metadata": {},
   "source": [
    "## Keyword-Based Search"
   ]
  },
  {
   "cell_type": "code",
   "execution_count": 10,
   "metadata": {},
   "outputs": [
    {
     "data": {
      "text/markdown": [
       "## Search results for: 'Environmental requirements (with environmental keywords)'"
      ],
      "text/plain": [
       "<IPython.core.display.Markdown object>"
      ]
     },
     "metadata": {},
     "output_type": "display_data"
    },
    {
     "data": {
      "text/markdown": [
       "### Result 1 - Score: 0.6454"
      ],
      "text/plain": [
       "<IPython.core.display.Markdown object>"
      ]
     },
     "metadata": {},
     "output_type": "display_data"
    },
    {
     "data": {
      "text/markdown": [
       "**ID:** ANTWERP_DP_ENVIRONMENT_WASTE_CONTAINER_VESSEL_NOTIFICATION_24H_008  \n",
       "**Type:** Requirement  \n",
       "**Area:** N/A  \n",
       "**Entity:** Container Vessel (Sea-going)  \n",
       "**Category:** Environment - Waste Management  \n",
       "**Subcategory:** Waste Notification  \n",
       "\n",
       "**Detail:** Masters of seagoing vessels, including container vessels, must provide prior notification of waste 24 hours before arrival.  \n",
       "\n",
       "**Keywords:** waste notification, 24 hours, seagoing vessels, container vessels, waste management, Port of Antwerp, environment, requirement"
      ],
      "text/plain": [
       "<IPython.core.display.Markdown object>"
      ]
     },
     "metadata": {},
     "output_type": "display_data"
    },
    {
     "data": {
      "text/markdown": [
       "---"
      ],
      "text/plain": [
       "<IPython.core.display.Markdown object>"
      ]
     },
     "metadata": {},
     "output_type": "display_data"
    },
    {
     "data": {
      "text/markdown": [
       "### Result 2 - Score: 0.6400"
      ],
      "text/plain": [
       "<IPython.core.display.Markdown object>"
      ]
     },
     "metadata": {},
     "output_type": "display_data"
    },
    {
     "data": {
      "text/markdown": [
       "**ID:** YANGSHAN_DP_ENVIRONMENT_EMISSION_REDUCTION_CO2_011  \n",
       "**Type:** Fact  \n",
       "**Area:** Yangshan  \n",
       "**Entity:** Intelligent Production Control System  \n",
       "**Category:** Environment  \n",
       "**Subcategory:** Emission Reduction  \n",
       "\n",
       "**Detail:** Utilizing the intelligent production management control system contributes to reducing carbon dioxide emissions by about 10%.  \n",
       "\n",
       "**Keywords:** environment, emission reduction, carbon dioxide, CO2, sustainability, green port, intelligent system, automation, environmental impact"
      ],
      "text/plain": [
       "<IPython.core.display.Markdown object>"
      ]
     },
     "metadata": {},
     "output_type": "display_data"
    },
    {
     "data": {
      "text/markdown": [
       "---"
      ],
      "text/plain": [
       "<IPython.core.display.Markdown object>"
      ]
     },
     "metadata": {},
     "output_type": "display_data"
    },
    {
     "data": {
      "text/markdown": [
       "### Result 3 - Score: 0.5783"
      ],
      "text/plain": [
       "<IPython.core.display.Markdown object>"
      ]
     },
     "metadata": {},
     "output_type": "display_data"
    },
    {
     "data": {
      "text/markdown": [
       "**ID:** ANTWERP_DP_ENVIRONMENT_WASTE_CONTAINER_VESSEL_MANDATORY_DEPOSIT_010  \n",
       "**Type:** Regulation  \n",
       "**Area:** N/A  \n",
       "**Entity:** Container Vessel (Sea-going)  \n",
       "**Category:** Environment - Waste Management  \n",
       "**Subcategory:** Waste Delivery  \n",
       "\n",
       "**Detail:** Seagoing vessels calling at Port of Antwerp, including container vessels, must deposit waste at a port reception facility before leaving.  \n",
       "\n",
       "**Keywords:** waste deposit, port reception facility, seagoing vessels, container vessels, waste management, Port of Antwerp, environment, regulation, mandatory"
      ],
      "text/plain": [
       "<IPython.core.display.Markdown object>"
      ]
     },
     "metadata": {},
     "output_type": "display_data"
    },
    {
     "data": {
      "text/markdown": [
       "---"
      ],
      "text/plain": [
       "<IPython.core.display.Markdown object>"
      ]
     },
     "metadata": {},
     "output_type": "display_data"
    }
   ],
   "source": [
    "# Search with keywords filter\n",
    "keyword_query = \"Environmental requirements\"\n",
    "keyword_results = search_datapoints(\n",
    "    keyword_query, \n",
    "    filter_conditions={\"keywords\": [\"environment\", \"emission\", \"pollution\"]},\n",
    "    limit=3\n",
    ")\n",
    "display_results(keyword_results, f\"{keyword_query} (with environmental keywords)\")"
   ]
  },
  {
   "cell_type": "markdown",
   "metadata": {},
   "source": [
    "## Advanced Query Examples"
   ]
  },
  {
   "cell_type": "code",
   "execution_count": 12,
   "metadata": {},
   "outputs": [
    {
     "data": {
      "text/markdown": [
       "## Search results for: 'Environmental compliance (with environmental keywords, for Vessels)'"
      ],
      "text/plain": [
       "<IPython.core.display.Markdown object>"
      ]
     },
     "metadata": {},
     "output_type": "display_data"
    },
    {
     "data": {
      "text/markdown": [
       "*No results found*"
      ],
      "text/plain": [
       "<IPython.core.display.Markdown object>"
      ]
     },
     "metadata": {},
     "output_type": "display_data"
    },
    {
     "data": {
      "text/markdown": [
       "## Search results for: 'Container inspection procedures (in Rotterdam)'"
      ],
      "text/plain": [
       "<IPython.core.display.Markdown object>"
      ]
     },
     "metadata": {},
     "output_type": "display_data"
    },
    {
     "data": {
      "text/markdown": [
       "### Result 1 - Score: 0.7048"
      ],
      "text/plain": [
       "<IPython.core.display.Markdown object>"
      ]
     },
     "metadata": {},
     "output_type": "display_data"
    },
    {
     "data": {
      "text/markdown": [
       "**ID:** ASIA_EUROPE_DIFF_REGULATORY_CHINA_STATE_CONTROLLED_031  \n",
       "**Type:** Difference  \n",
       "**Area:** ['Shanghai', 'Rotterdam', 'Hamburg', 'Singapore']  \n",
       "**Entity:** Regulatory Environment  \n",
       "**Category:** Regulatory Environment  \n",
       "**Subcategory:** General Regulatory Style  \n",
       "\n",
       "**Detail:** China's customs regulations (Shanghai) are part of a comprehensive state-controlled system, potentially more bureaucratic compared to EU.  \n",
       "\n",
       "**Keywords:** regulatory environment, state-controlled, bureaucracy, China, EU, comparison"
      ],
      "text/plain": [
       "<IPython.core.display.Markdown object>"
      ]
     },
     "metadata": {},
     "output_type": "display_data"
    },
    {
     "data": {
      "text/markdown": [
       "---"
      ],
      "text/plain": [
       "<IPython.core.display.Markdown object>"
      ]
     },
     "metadata": {},
     "output_type": "display_data"
    },
    {
     "data": {
      "text/markdown": [
       "## Search results for: 'Container inspection procedures (in Singapore)'"
      ],
      "text/plain": [
       "<IPython.core.display.Markdown object>"
      ]
     },
     "metadata": {},
     "output_type": "display_data"
    },
    {
     "data": {
      "text/markdown": [
       "### Result 1 - Score: 0.7588"
      ],
      "text/plain": [
       "<IPython.core.display.Markdown object>"
      ]
     },
     "metadata": {},
     "output_type": "display_data"
    },
    {
     "data": {
      "text/markdown": [
       "**ID:** SINGAPORE_DP_PORT_REG_DANGEROUS_CARGO_STOWAGE_CONVEYANCE_169  \n",
       "**Type:** Regulation  \n",
       "**Area:** Singapore  \n",
       "**Entity:** Dangerous Goods Handling  \n",
       "**Category:** Port Regulations  \n",
       "**Subcategory:** Dangerous Cargo Handling  \n",
       "\n",
       "**Detail:** Authority may regulate utilizing, stowing, keeping dangerous cargoes on vessels, conveyance with other goods in port.  \n",
       "\n",
       "**Keywords:** port regulations, dangerous cargo, hazardous materials, cargo stowage, cargo handling, cargo segregation"
      ],
      "text/plain": [
       "<IPython.core.display.Markdown object>"
      ]
     },
     "metadata": {},
     "output_type": "display_data"
    },
    {
     "data": {
      "text/markdown": [
       "---"
      ],
      "text/plain": [
       "<IPython.core.display.Markdown object>"
      ]
     },
     "metadata": {},
     "output_type": "display_data"
    },
    {
     "data": {
      "text/markdown": [
       "## Search results for: 'Container inspection procedures (in Hamburg)'"
      ],
      "text/plain": [
       "<IPython.core.display.Markdown object>"
      ]
     },
     "metadata": {},
     "output_type": "display_data"
    },
    {
     "data": {
      "text/markdown": [
       "### Result 1 - Score: 0.7048"
      ],
      "text/plain": [
       "<IPython.core.display.Markdown object>"
      ]
     },
     "metadata": {},
     "output_type": "display_data"
    },
    {
     "data": {
      "text/markdown": [
       "**ID:** ASIA_EUROPE_DIFF_REGULATORY_CHINA_STATE_CONTROLLED_031  \n",
       "**Type:** Difference  \n",
       "**Area:** ['Shanghai', 'Rotterdam', 'Hamburg', 'Singapore']  \n",
       "**Entity:** Regulatory Environment  \n",
       "**Category:** Regulatory Environment  \n",
       "**Subcategory:** General Regulatory Style  \n",
       "\n",
       "**Detail:** China's customs regulations (Shanghai) are part of a comprehensive state-controlled system, potentially more bureaucratic compared to EU.  \n",
       "\n",
       "**Keywords:** regulatory environment, state-controlled, bureaucracy, China, EU, comparison"
      ],
      "text/plain": [
       "<IPython.core.display.Markdown object>"
      ]
     },
     "metadata": {},
     "output_type": "display_data"
    },
    {
     "data": {
      "text/markdown": [
       "---"
      ],
      "text/plain": [
       "<IPython.core.display.Markdown object>"
      ]
     },
     "metadata": {},
     "output_type": "display_data"
    }
   ],
   "source": [
    "# Keyword-based search with normalized entities\n",
    "keyword_query = \"Environmental compliance\"\n",
    "keyword_results = search_datapoints(\n",
    "    keyword_query, \n",
    "    filter_conditions={\n",
    "        \"keywords\": [\"environment\", \"emission\", \"pollution\"],\n",
    "        \"relevant_entity\": \"Vessel\" # Using normalized entity\n",
    "    },\n",
    "    limit=3\n",
    ")\n",
    "display_results(keyword_results, f\"{keyword_query} (with environmental keywords, for Vessels)\")\n",
    "\n",
    "# Compare results across ports\n",
    "compare_query = \"Container inspection procedures\"\n",
    "ports = [\"Rotterdam\", \"Singapore\", \"Hamburg\"]\n",
    "for port in ports:\n",
    "    port_specific = search_datapoints(\n",
    "        compare_query,\n",
    "        filter_conditions={\"port_area\": port},\n",
    "        limit=1\n",
    "    )\n",
    "    display_results(port_specific, f\"{compare_query} (in {port})\")"
   ]
  },
  {
   "cell_type": "markdown",
   "metadata": {},
   "source": [
    "## Entity Distribution Analysis"
   ]
  },
  {
   "cell_type": "code",
   "execution_count": 13,
   "metadata": {},
   "outputs": [
    {
     "data": {
      "text/markdown": [
       "## Top 10 Normalized Entities in the Collection"
      ],
      "text/plain": [
       "<IPython.core.display.Markdown object>"
      ]
     },
     "metadata": {},
     "output_type": "display_data"
    },
    {
     "data": {
      "application/vnd.microsoft.datawrangler.viewer.v0+json": {
       "columns": [
        {
         "name": "index",
         "rawType": "int64",
         "type": "integer"
        },
        {
         "name": "Entity",
         "rawType": "object",
         "type": "string"
        },
        {
         "name": "Count",
         "rawType": "int64",
         "type": "integer"
        }
       ],
       "conversionMethod": "pd.DataFrame",
       "ref": "1cf7f4d1-2160-4a7a-8300-2c94aaa58b57",
       "rows": [
        [
         "8",
         "Seller",
         "116"
        ],
        [
         "9",
         "Buyer",
         "107"
        ],
        [
         "4",
         "Vessel",
         "98"
        ],
        [
         "14",
         "Customer",
         "25"
        ],
        [
         "105",
         "Authority",
         "23"
        ],
        [
         "42",
         "Master/Agent",
         "22"
        ],
        [
         "35",
         "General",
         "21"
        ],
        [
         "57",
         "Shipping Agent/Vessel",
         "20"
        ],
        [
         "5",
         "Vessel Operator",
         "19"
        ],
        [
         "31",
         "Harbour Master",
         "16"
        ]
       ],
       "shape": {
        "columns": 2,
        "rows": 10
       }
      },
      "text/html": [
       "<div>\n",
       "<style scoped>\n",
       "    .dataframe tbody tr th:only-of-type {\n",
       "        vertical-align: middle;\n",
       "    }\n",
       "\n",
       "    .dataframe tbody tr th {\n",
       "        vertical-align: top;\n",
       "    }\n",
       "\n",
       "    .dataframe thead th {\n",
       "        text-align: right;\n",
       "    }\n",
       "</style>\n",
       "<table border=\"1\" class=\"dataframe\">\n",
       "  <thead>\n",
       "    <tr style=\"text-align: right;\">\n",
       "      <th></th>\n",
       "      <th>Entity</th>\n",
       "      <th>Count</th>\n",
       "    </tr>\n",
       "  </thead>\n",
       "  <tbody>\n",
       "    <tr>\n",
       "      <th>8</th>\n",
       "      <td>Seller</td>\n",
       "      <td>116</td>\n",
       "    </tr>\n",
       "    <tr>\n",
       "      <th>9</th>\n",
       "      <td>Buyer</td>\n",
       "      <td>107</td>\n",
       "    </tr>\n",
       "    <tr>\n",
       "      <th>4</th>\n",
       "      <td>Vessel</td>\n",
       "      <td>98</td>\n",
       "    </tr>\n",
       "    <tr>\n",
       "      <th>14</th>\n",
       "      <td>Customer</td>\n",
       "      <td>25</td>\n",
       "    </tr>\n",
       "    <tr>\n",
       "      <th>105</th>\n",
       "      <td>Authority</td>\n",
       "      <td>23</td>\n",
       "    </tr>\n",
       "    <tr>\n",
       "      <th>42</th>\n",
       "      <td>Master/Agent</td>\n",
       "      <td>22</td>\n",
       "    </tr>\n",
       "    <tr>\n",
       "      <th>35</th>\n",
       "      <td>General</td>\n",
       "      <td>21</td>\n",
       "    </tr>\n",
       "    <tr>\n",
       "      <th>57</th>\n",
       "      <td>Shipping Agent/Vessel</td>\n",
       "      <td>20</td>\n",
       "    </tr>\n",
       "    <tr>\n",
       "      <th>5</th>\n",
       "      <td>Vessel Operator</td>\n",
       "      <td>19</td>\n",
       "    </tr>\n",
       "    <tr>\n",
       "      <th>31</th>\n",
       "      <td>Harbour Master</td>\n",
       "      <td>16</td>\n",
       "    </tr>\n",
       "  </tbody>\n",
       "</table>\n",
       "</div>"
      ],
      "text/plain": [
       "                    Entity  Count\n",
       "8                   Seller    116\n",
       "9                    Buyer    107\n",
       "4                   Vessel     98\n",
       "14                Customer     25\n",
       "105              Authority     23\n",
       "42            Master/Agent     22\n",
       "35                 General     21\n",
       "57   Shipping Agent/Vessel     20\n",
       "5          Vessel Operator     19\n",
       "31          Harbour Master     16"
      ]
     },
     "metadata": {},
     "output_type": "display_data"
    },
    {
     "data": {
      "text/plain": [
       "<Figure size 1000x600 with 0 Axes>"
      ]
     },
     "metadata": {},
     "output_type": "display_data"
    },
    {
     "data": {
      "image/png": "[encoded data removed]",
      "text/plain": [
       "<Figure size 640x480 with 1 Axes>"
      ]
     },
     "metadata": {},
     "output_type": "display_data"
    }
   ],
   "source": [
    "# Analyze normalized entity distribution\n",
    "from collections import Counter\n",
    "\n",
    "client = get_qdrant_client()\n",
    "points, _ = client.scroll(\n",
    "    collection_name=COLLECTION_NAME,\n",
    "    limit=2000,\n",
    "    with_payload=[\"relevant_entity\", \"port_area\"],\n",
    "    with_vectors=False\n",
    ")\n",
    "\n",
    "# Extract entities\n",
    "entities = [p.payload.get(\"relevant_entity\") for p in points if \"relevant_entity\" in p.payload]\n",
    "entity_counts = Counter(entities)\n",
    "\n",
    "# Display top entities\n",
    "display(Markdown(\"## Top 10 Normalized Entities in the Collection\"))\n",
    "entity_df = pd.DataFrame({\"Entity\": list(entity_counts.keys()), \n",
    "                          \"Count\": list(entity_counts.values())})\n",
    "entity_df = entity_df.sort_values(\"Count\", ascending=False).head(10)\n",
    "display(entity_df)\n",
    "\n",
    "# Optional: Plot distribution\n",
    "try:\n",
    "    import matplotlib.pyplot as plt\n",
    "    plt.figure(figsize=(10, 6))\n",
    "    entity_df.plot.bar(x=\"Entity\", y=\"Count\", rot=45)\n",
    "    plt.title(\"Distribution of Top Normalized Entities\")\n",
    "    plt.tight_layout()\n",
    "    plt.show()\n",
    "except ImportError:\n",
    "    print(\"Matplotlib not available for plotting\")"
   ]
  }
 ],
 "metadata": {
  "kernelspec": {
   "display_name": "tsi",
   "language": "python",
   "name": "python3"
  },
  "language_info": {
   "codemirror_mode": {
    "name": "ipython",
    "version": 3
   },
   "file_extension": ".py",
   "mimetype": "text/x-python",
   "name": "python",
   "nbconvert_exporter": "python",
   "pygments_lexer": "ipython3",
   "version": "3.11.8"
  }
 },
 "nbformat": 4,
 "nbformat_minor": 4
}
