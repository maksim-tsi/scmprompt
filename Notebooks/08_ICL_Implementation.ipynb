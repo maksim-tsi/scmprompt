{
 "cells": [
  {
   "cell_type": "markdown",
   "metadata": {},
   "source": [
    "# ICL Implementation"
   ]
  },
  {
   "cell_type": "markdown",
   "metadata": {},
   "source": [
    "## 1. Imports and Setup"
   ]
  },
  {
   "cell_type": "code",
   "execution_count": 2,
   "metadata": {},
   "outputs": [],
   "source": [
    "\n",
    "import os\n",
    "import sys\n",
    "import json\n",
    "import pandas as pd\n",
    "import numpy as np\n",
    "from pathlib import Path\n",
    "from tqdm.notebook import tqdm\n",
    "import time\n",
    "import subprocess\n",
    "from dotenv import load_dotenv\n",
    "import google.generativeai as genai\n",
    "from IPython.display import display, Markdown\n",
    "import uuid\n",
    "\n",
    "# Add project directory to path for imports\n",
    "sys.path.append('..')\n",
    "\n",
    "# Import our utilities\n",
    "from utils.qdrant_client import get_qdrant_client\n",
    "from utils.case_retrieval import retrieve_similar_cases\n",
    "\n",
    "# Load environment variables\n",
    "load_dotenv()\n",
    "\n",
    "# Configure Google Generative AI\n",
    "genai.configure(api_key=os.getenv('GOOGLE_API_KEY'))"
   ]
  },
  {
   "cell_type": "markdown",
   "metadata": {},
   "source": [
    "## 2. Load Test Dataset"
   ]
  },
  {
   "cell_type": "code",
   "execution_count": 3,
   "metadata": {},
   "outputs": [
    {
     "name": "stdout",
     "output_type": "stream",
     "text": [
      "Loading test dataset...\n",
      "Loaded 62 test cases\n",
      "\n",
      "Sample test case:\n",
      "Case ID: case-20250329-001124-k553a3\n",
      "Title: Baltic Bottleneck: Navigating Congestion and Compliance in Alpha Shippings Asia-Europe Route\n",
      "Enhanced case (first 200 chars): **Case Title: Baltic Bottleneck: Navigating Congestion and Compliance in Alpha Shipping's Asia-Europe Route** Alpha Shipping, a medium-sized container shipping company based in Hong Kong, specializes ...\n"
     ]
    }
   ],
   "source": [
    "print(\"Loading test dataset...\")\n",
    "data_dir = Path(\"../Data/GeneratedCases\")\n",
    "test_file = data_dir / \"test_cases.parquet\"\n",
    "\n",
    "if not test_file.exists():\n",
    "    print(f\"⚠️ Could not find {test_file}\")\n",
    "    # Find available parquet files\n",
    "    parquet_files = list(data_dir.glob(\"*test*.parquet\"))\n",
    "    if parquet_files:\n",
    "        print(f\"Found these test parquet files: {[f.name for f in parquet_files]}\")\n",
    "        test_file = parquet_files[0]\n",
    "        print(f\"Using: {test_file}\")\n",
    "    else:\n",
    "        # Try to use the main evaluated file and split it\n",
    "        eval_file = data_dir / \"evaluated_cases.parquet\"\n",
    "        if eval_file.exists():\n",
    "            print(f\"Using {eval_file} and splitting it into train/test...\")\n",
    "            df = pd.read_parquet(eval_file)\n",
    "            from sklearn.model_selection import train_test_split\n",
    "            _, test_df = train_test_split(df, test_size=0.2, random_state=42)\n",
    "            print(f\"Created test set with {len(test_df)} cases\")\n",
    "        else:\n",
    "            raise FileNotFoundError(f\"No test dataset files found in {data_dir}\")\n",
    "else:\n",
    "    test_df = pd.read_parquet(test_file)\n",
    "    \n",
    "print(f\"Loaded {len(test_df)} test cases\")\n",
    "\n",
    "# Display a sample of the test dataset\n",
    "print(\"\\nSample test case:\")\n",
    "sample = test_df.iloc[0]\n",
    "print(f\"Case ID: {sample['case_id']}\")\n",
    "print(f\"Title: {sample['title']}\")\n",
    "print(f\"Enhanced case (first 200 chars): {sample['enhanced_case'][:200]}...\")"
   ]
  },
  {
   "cell_type": "code",
   "execution_count": 4,
   "metadata": {},
   "outputs": [
    {
     "data": {
      "application/vnd.microsoft.datawrangler.viewer.v0+json": {
       "columns": [
        {
         "name": "index",
         "rawType": "int64",
         "type": "integer"
        },
        {
         "name": "case_id",
         "rawType": "object",
         "type": "string"
        },
        {
         "name": "title",
         "rawType": "object",
         "type": "string"
        },
        {
         "name": "enhanced_case",
         "rawType": "object",
         "type": "string"
        },
        {
         "name": "solution",
         "rawType": "object",
         "type": "string"
        },
        {
         "name": "file_path",
         "rawType": "object",
         "type": "string"
        },
        {
         "name": "enhanced_case_length",
         "rawType": "int64",
         "type": "integer"
        },
        {
         "name": "solution_length",
         "rawType": "int64",
         "type": "integer"
        },
        {
         "name": "realism_score",
         "rawType": "float64",
         "type": "float"
        },
        {
         "name": "complexity_score",
         "rawType": "float64",
         "type": "float"
        },
        {
         "name": "educational_value",
         "rawType": "float64",
         "type": "float"
        },
        {
         "name": "solution_quality",
         "rawType": "float64",
         "type": "float"
        },
        {
         "name": "overall_qualification",
         "rawType": "object",
         "type": "string"
        },
        {
         "name": "evaluation_summary",
         "rawType": "object",
         "type": "string"
        },
        {
         "name": "improvement_suggestions",
         "rawType": "object",
         "type": "unknown"
        },
        {
         "name": "case_for_embedding",
         "rawType": "object",
         "type": "string"
        }
       ],
       "conversionMethod": "pd.DataFrame",
       "ref": "6a605f73-ed47-4376-a1af-c29dadff37ec",
       "rows": [
        [
         "183",
         "case-20250329-001124-k553a3",
         "Baltic Bottleneck: Navigating Congestion and Compliance in Alpha Shippings Asia-Europe Route",
         "**Case Title: Baltic Bottleneck: Navigating Congestion and Compliance in Alpha Shipping's Asia-Europe Route** Alpha Shipping, a medium-sized container shipping company based in Hong Kong, specializes in transporting consumer electronics and textiles from various manufacturing hubs in Asia to Northern Europe and the Baltic Sea region. They operate a fleet of ten container vessels, ranging in capacity from 4,000 to 6,000 TEU (Twenty-foot Equivalent Unit). Their flagship vessel, the *MV Dragon Star*, a 5,500 TEU container ship, is a regular sight along the Asia-Europe trade lanes. Recently, Alpha Shipping has been facing mounting pressure on their profitability and operational efficiency. Their primary route connects ports in Yantian (China), Singapore, and Tanjung Pelepas (Malaysia) with Rotterdam (Netherlands), Hamburg (Germany), and increasingly, Gdynia (Poland), a crucial gateway to the Baltic region. Alpha Shipping operates under the *Incoterms 2020* rules, and a significant portion of their cargo is shipped under *Cost and Freight (CFR)* terms. The core of Alpha Shipping's problem lies in the increasing congestion and delays experienced in the North Sea ports of Rotterdam and Hamburg. These ports, while offering excellent connectivity to inland Europe, are often plagued by unpredictable delays due to weather conditions, labor disputes, and sheer volume of traffic. These delays cascade downstream, affecting the entire schedule of the *MV Dragon Star* and other vessels in their fleet. According to *International Maritime Organization (IMO)* regulations for port facilities, these delays also impact security protocols, requiring increased monitoring and potential re-evaluation of security plans within the port area. Furthermore, a growing number of Alpha Shipping's customers are located in Poland, Lithuania, Latvia, Estonia, and even parts of Russia and Belarus. Serving these customers via Rotterdam or Hamburg necessitates significant and costly transshipment operations and trucking distances, adding both time and expense. The trucking companies they use, such as \"Baltic Transport Solutions\" and \"EuroLiner Logistics,\" are increasingly citing driver shortages and border crossing delays as contributing factors to the increased transit times. These border crossing delays are further exacerbated by stringent customs checks and documentation requirements imposed by *Dutch Customs* at the EU entry points, impacting the *Import Documentation Workflow*. Alpha Shipping's management, led by CEO Evelyn Chen, is considering several potential solutions, but each presents its own challenges. One option is to increase the frequency of calls to Gdynia, potentially establishing it as a more significant hub for Baltic-bound cargo, even if it means less cargo delivered to Rotterdam or Hamburg. The port of Gdynia, managed by the Gdynia Port Authority, has been aggressively marketing its capabilities and expanding its infrastructure to attract more direct calls from Asia. However, Gdynia's current capacity and draft limitations are a concern, and establishing a strong network of inland connections remains a work in progress. *Vessel Agents* have reported that berthing slots in Gdynia are limited, and the port's infrastructure may not be able to handle the same volume as Rotterdam or Hamburg. Another option is to continue using Rotterdam and Hamburg, but to invest in more efficient transshipment operations within these ports, perhaps partnering with a local terminal operator like \"Eurogate Intermodal\" or \"APM Terminals Rotterdam\" to prioritize their cargo and minimize delays. This would require a detailed analysis of the *Import Documentation Workflow* within these ports and close collaboration with *Customs Brokers* to ensure smooth and rapid clearance. A third option involves exploring alternative routing via the Arctic sea route during the summer months, although this route is fraught with uncertainty due to unpredictable ice conditions and limited infrastructure. This route would also require adherence to specific environmental regulations and ice navigation protocols. The shipping company is also facing increasing pressure from its major clients, like \"ElectroGlobal,\" a major electronics distributor, and \"Textile Masters,\" a large clothing manufacturer, both of whom are demanding shorter lead times and more reliable delivery schedules. *ElectroGlobal*, as a major *Importer*, is particularly concerned with the potential delays and costs associated with customs inspections and documentation discrepancies. To ensure compliance and efficiency, Alpha Shipping needs to meticulously manage all required documentation. This includes, but is not limited to, the Bill of Lading, Commercial Invoice, Packing List, Customs Declaration, and Ship's Manifest. Any discrepancies or errors in these documents can lead to significant delays and penalties imposed by *Customs Authorities*. Furthermore, Alpha Shipping must adhere to the *International Ship and Port Facility Security (ISPS) Code* at all port facilities they utilize. The question facing Alpha Shipping is: How can they optimize their container shipping route between Asia and Northern Europe/Baltic to mitigate the impact of port congestion, reduce delivery times, and improve overall operational efficiency and profitability, while meeting the demands of their increasingly demanding customer base, adhering to all relevant regulatory requirements, and ensuring smooth import and export processes? What strategies can they implement to streamline their *Import Documentation Workflow* and minimize the risk of delays due to documentation errors or customs inspections? How can they leverage technology and partnerships to improve data accuracy and transparency throughout their supply chain?",
         "## Executive Summary Alpha Shipping faces challenges due to port congestion in Rotterdam and Hamburg, increasing demand for Baltic deliveries, and customer pressure for shorter lead times. The proposed solution involves a multi-pronged approach: strategically increasing Gdynia calls, optimizing transshipment operations in Rotterdam/Hamburg, and investing in technology to improve documentation and visibility. This solution aims to balance cost, efficiency, and customer satisfaction while adhering to all relevant regulations, including the ISPS Code and customs requirements. A risk mitigation plan addresses potential challenges like Gdynia's capacity limitations and Arctic route uncertainties. ## Detailed Solution Steps **Step 1: Strategic Shift Towards Gdynia (Baltic Focus)** * **Action:** Increase the frequency of *MV Dragon Star* and other vessel calls to Gdynia. Conduct a thorough cost-benefit analysis comparing the total cost of serving Baltic customers via Rotterdam/Hamburg versus direct calls to Gdynia. * **Reasoning:** Direct calls to Gdynia reduce transshipment costs, trucking distances, and border crossing delays, directly addressing the core problem. This also aligns with Gdynia Port Authority's efforts to attract more direct calls. * **Regulatory Reference:** *Port Regulations of Gdynia Port Authority* must be adhered to, including berthing procedures, safety regulations, and environmental compliance. *ISPS Code* compliance is mandatory for all port calls. * **Implementation:** * Negotiate berthing slots with Gdynia Port Authority. *Vessel Agents* can assist with this process. * Establish relationships with local trucking companies in Poland to ensure efficient inland transportation. * Develop a robust inland transportation network from Gdynia to key Baltic destinations. * Assess Gdynia's infrastructure capacity to handle increased cargo volumes. **Step 2: Optimize Transshipment Operations in Rotterdam/Hamburg (Efficiency Improvement)** * **Action:** If direct calls to Gdynia cannot fully accommodate Baltic-bound cargo, optimize transshipment operations in Rotterdam and Hamburg. * **Reasoning:** Improves efficiency for cargo still routed through these ports, mitigating congestion impact. * **Regulatory Reference:** *Dutch Customs* and *German Customs* regulations regarding import and export procedures must be strictly followed. *ISPS Code* compliance is mandatory. * **Implementation:** * Partner with terminal operators like Eurogate Intermodal or APM Terminals Rotterdam to prioritize Alpha Shipping's cargo. Negotiate service level agreements (SLAs) to ensure timely transshipment. * Implement a real-time tracking system to monitor cargo movement within the port and identify bottlenecks. * Streamline the *Import Documentation Workflow* by using electronic data interchange (EDI) with customs brokers and terminal operators. **Step 3: Enhance Import Documentation Workflow (Compliance & Speed)** * **Action:** Implement a comprehensive system for managing and verifying all required documentation. * **Reasoning:** Minimizes delays and penalties caused by documentation errors, a major concern for *ElectroGlobal* and other *Importers*. * **Regulatory Reference:** Compliance with *Dutch Customs*, *German Customs*, and *Polish Customs* regulations is essential. Adherence to *Incoterms 2020* rules, especially under *CFR* terms, is crucial for defining responsibilities for documentation and costs. * **Implementation:** * Implement a document management system (DMS) to centralize and track all documentation, including the Bill of Lading, Commercial Invoice, Packing List, Customs Declaration, and Ship's Manifest. * Utilize Optical Character Recognition (OCR) technology to automatically extract data from documents and reduce manual data entry errors. * Integrate the DMS with customs broker systems to facilitate electronic submission of customs declarations. * Provide training to Alpha Shipping staff and customers on proper documentation procedures. * Conduct regular audits of documentation processes to identify and correct any deficiencies. **Step 4: Explore Arctic Route (Long-Term Strategy)** * **Action:** Conduct a feasibility study to assess the viability of using the Arctic sea route during the summer months. * **Reasoning:** Offers a potentially shorter route, but requires careful consideration of risks and regulations. * **Regulatory Reference:** Compliance with the *Polar Code* (International Code for Ships Operating in Polar Waters) is mandatory. Adherence to environmental regulations, including those related to fuel type and waste disposal, is crucial. * **Implementation:** * Assess ice conditions and navigation challenges. * Evaluate the availability of icebreaker assistance and other necessary infrastructure. * Determine the impact on insurance costs and environmental liability. * Ensure that vessels are properly equipped and crew members are adequately trained for Arctic navigation. **Step 5: Leverage Technology for Visibility and Communication (Transparency)** * **Action:** Invest in a comprehensive supply chain visibility platform. * **Reasoning:** Provides real-time tracking of cargo, improves communication with customers, and enables proactive problem-solving. * **Regulatory Reference:** While no specific regulation mandates this, it supports compliance with various regulations by providing better data management and transparency. * **Implementation:** * Implement a track-and-trace system that provides real-time visibility of cargo location and status. * Integrate the system with port authorities, terminal operators, trucking companies, and customs brokers. * Provide customers with access to the system so they can track their shipments. * Use data analytics to identify trends and patterns that can help improve efficiency and reduce delays. **Step 6: Proactive Communication with Customers (Satisfaction)** * **Action:** Establish a proactive communication plan with key customers like *ElectroGlobal* and *Textile Masters*. * **Reasoning:** Keeps customers informed of potential delays and provides them with options, improving customer satisfaction. * **Regulatory Reference:** No specific regulation mandates this, but it supports compliance by ensuring customers are aware of any potential delays that could impact their import/export obligations. * **Implementation:** * Provide regular updates on shipment status. * Communicate any potential delays as early as possible. * Offer alternative routing options or delivery schedules. * Address customer concerns promptly and effectively. ## Recommendations * **Prioritize Gdynia:** Make Gdynia a primary hub for Baltic-bound cargo to reduce reliance on congested North Sea ports. * **Invest in Technology:** Implement a robust supply chain visibility platform and document management system. * **Build Strong Partnerships:** Foster close relationships with terminal operators, trucking companies, and customs brokers. * **Train Personnel:** Provide comprehensive training to Alpha Shipping staff on documentation procedures, regulatory compliance, and customer service. * **Continuous Improvement:** Regularly review and optimize processes to identify and address bottlenecks. * **Negotiate Incoterms:** Where possible, shift towards Incoterms that place more responsibility for inland transport and customs clearance on the buyer (e.g., DDP - Delivered Duty Paid) to reduce Alpha Shipping's direct exposure to delays. ## Risk Mitigation | Risk | Mitigation Strategy the ability to make a profit. * **Monitor and Adapt:** Continuously monitor key performance indicators (KPIs) such as on-time delivery, customer satisfaction, and cost per TEU. Be prepared to adapt the solution as needed based on changing market conditions and customer demands. * **Cybersecurity:** Ensure robust cybersecurity measures are in place to protect sensitive data and prevent disruptions to operations. This is especially important with increased reliance on technology and data sharing. By implementing these steps and recommendations, Alpha Shipping can navigate the challenges of the Baltic Bottleneck, improve its operational efficiency, and enhance its profitability while meeting the demands of its customers and adhering to all relevant regulatory requirements.",
         "/Users/max/Documents/Code/magdeburg25/Output/Generated_Cases/__Baltic_Bottleneck__Navigating_Congestion_and_Compliance_in_Alpha_Shipping_s_Asia-Europe_Route.json",
         "5821",
         "85737",
         "8.0",
         "7.0",
         "8.0",
         "7.0",
         "QUALIFIED",
         "The case study presents a realistic scenario of a shipping company facing congestion and compliance challenges in the Asia-Europe trade. The solution is generally well-structured and addresses the core issues with a multi-pronged approach. However, some aspects of the solution could be more detailed and consider potential drawbacks of the proposed strategies. The case provides good educational value by highlighting key maritime logistics concepts and problem-solving in international trade.",
         "['The solution could benefit from a more detailed financial analysis comparing the costs and benefits of increasing Gdynia calls versus optimizing transshipment in Rotterdam/Hamburg. Include factors like port fees, inland transportation costs, and potential revenue gains from faster delivery times.'\n 'The solution mentions negotiating SLAs with terminal operators. Elaborate on specific key performance indicators (KPIs) that should be included in these SLAs, such as turnaround time, container handling rates, and damage rates.'\n 'While the solution mentions EDI for import documentation, it could be strengthened by specifying the types of data that should be exchanged and the potential benefits of using blockchain technology for enhanced security and transparency.'\n \"The risk mitigation plan should be more comprehensive. For example, what are the contingency plans if Gdynia's capacity proves insufficient or if there are unexpected disruptions in the inland transportation network from Gdynia?\"\n 'The solution could explore alternative routing options beyond Gdynia, Rotterdam, and Hamburg. Consider other Baltic ports or even rail transport options from other European ports.']",
         "Baltic Bottleneck: Navigating Congestion and Compliance in Alpha Shippings Asia-Europe Route\n\n**Case Title: Baltic Bottleneck: Navigating Congestion and Compliance in Alpha Shipping's Asia-Europe Route** Alpha Shipping, a medium-sized container shipping company based in Hong Kong, specializes in transporting consumer electronics and textiles from various manufacturing hubs in Asia to Northern Europe and the Baltic Sea region. They operate a fleet of ten container vessels, ranging in capacity from 4,000 to 6,000 TEU (Twenty-foot Equivalent Unit). Their flagship vessel, the *MV Dragon Star*, a 5,500 TEU container ship, is a regular sight along the Asia-Europe trade lanes. Recently, Alpha Shipping has been facing mounting pressure on their profitability and operational efficiency. Their primary route connects ports in Yantian (China), Singapore, and Tanjung Pelepas (Malaysia) with Rotterdam (Netherlands), Hamburg (Germany), and increasingly, Gdynia (Poland), a crucial gateway to the Baltic region. Alpha Shipping operates under the *Incoterms 2020* rules, and a significant portion of their cargo is shipped under *Cost and Freight (CFR)* terms. The core of Alpha Shipping's problem lies in the increasing congestion and delays experienced in the North Sea ports of Rotterdam and Hamburg. These ports, while offering excellent connectivity to inland Europe, are often plagued by unpredictable delays due to weather conditions, labor disputes, and sheer volume of traffic. These delays cascade downstream, affecting the entire schedule of the *MV Dragon Star* and other vessels in their fleet. According to *International Maritime Organization (IMO)* regulations for port facilities, these delays also impact security protocols, requiring increased monitoring and potential re-evaluation of security plans within the port area. Furthermore, a growing number of Alpha Shipping's customers are located in Poland, Lithuania, Latvia, Estonia, and even parts of Russia and Belarus. Serving these customers via Rotterdam or Hamburg necessitates significant and costly transshipment operations and trucking distances, adding both time and expense. The trucking companies they use, such as \"Baltic Transport Solutions\" and \"EuroLiner Logistics,\" are increasingly citing driver shortages and border crossing delays as contributing factors to the increased transit times. These border crossing delays are further exacerbated by stringent customs checks and documentation requirements imposed by *Dutch Customs* at the EU entry points, impacting the *Import Documentation Workflow*. Alpha Shipping's management, led by CEO Evelyn Chen, is considering several potential solutions, but each presents its own challenges. One option is to increase the frequency of calls to Gdynia, potentially establishing it as a more significant hub for Baltic-bound cargo, even if it means less cargo delivered to Rotterdam or Hamburg. The port of Gdynia, managed by the Gdynia Port Authority, has been aggressively marketing its capabilities and expanding its infrastructure to attract more direct calls from Asia. However, Gdynia's current capacity and draft limitations are a concern, and establishing a strong network of inland connections remains a work in progress. *Vessel Agents* have reported that berthing slots in Gdynia are limited, and the port's infrastructure may not be able to handle the same volume as Rotterdam or Hamburg. Another option is to continue using Rotterdam and Hamburg, but to invest in more efficient transshipment operations within these ports, perhaps partnering with a local terminal operator like \"Eurogate Intermodal\" or \"APM Terminals Rotterdam\" to prioritize their cargo and minimize delays. This would require a detailed analysis of the *Import Documentation Workflow* within these ports and close collaboration with *Customs Brokers* to ensure smooth and rapid clearance. A third option involves exploring alternative routing via the Arctic sea route during the summer months, although this route is fraught with uncertainty due to unpredictable ice conditions and limited infrastructure. This route would also require adherence to specific environmental regulations and ice navigation protocols. The shipping company is also facing increasing pressure from its major clients, like \"ElectroGlobal,\" a major electronics distributor, and \"Textile Masters,\" a large clothing manufacturer, both of whom are demanding shorter lead times and more reliable delivery schedules. *ElectroGlobal*, as a major *Importer*, is particularly concerned with the potential delays and costs associated with customs inspections and documentation discrepancies. To ensure compliance and efficiency, Alpha Shipping needs to meticulously manage all required documentation. This includes, but is not limited to, the Bill of Lading, Commercial Invoice, Packing List, Customs Declaration, and Ship's Manifest. Any discrepancies or errors in these documents can lead to significant delays and penalties imposed by *Customs Authorities*. Furthermore, Alpha Shipping must adhere to the *International Ship and Port Facility Security (ISPS) Code* at all port facilities they utilize. The question facing Alpha Shipping is: How can they optimize their container shipping route between Asia and Northern Europe/Baltic to mitigate the impact of port congestion, reduce delivery times, and improve overall operational efficiency and profitability, while meeting the demands of their increasingly demanding customer base, adhering to all relevant regulatory requirements, and ensuring smooth import and export processes? What strategies can they implement to streamline their *Import Documentation Workflow* and minimize the risk of delays due to documentation errors or customs inspections? How can they leverage technology and partnerships to improve data accuracy and transparency throughout their supply chain?"
        ],
        [
         "60",
         "case-20250329-082454-w9yo73",
         "Gdansk Gridlock: Nordic SeaLines Struggle for Baltic Supremacy",
         "**Case Title: Gdansk Gridlock: Nordic SeaLines' Struggle for Baltic Supremacy** **Scenario:** Nordic SeaLines, a medium-sized container shipping company based in Helsinki, Finland, is facing a critical operational crisis. The company specializes in feeder services connecting major Asian ports with smaller ports in the Baltic Sea region and Northern Europe. They operate a fleet of ten container vessels, ranging in size from 1,500 TEU to 2,700 TEU. **Key Entities:** * **Jukka Virtanen:** Head of Operations, Nordic SeaLines, responsible for vessel scheduling, port negotiations, and cargo management. * **Liisa Mäkinen:** Commercial Director, Nordic SeaLines, in charge of sales, customer relationships, and market analysis. * **Captain Erik Johansson:** Master of the *MS Borealis*, a 2,500 TEU container vessel operating on the Shanghai-Rotterdam-Helsinki route. * **Port of Gdansk Authority:** Responsible for managing operations and infrastructure within the Port of Gdansk, Poland. * **EverOcean Logistics:** A large global logistics company that is a major customer of Nordic SeaLines, relying on them for last-mile delivery into the Baltic region. **Core Operational Challenges:** * **Increased Congestion at Key Ports:** The Port of Gdansk, a crucial hub for Nordic SeaLines' Baltic operations, is experiencing severe congestion due to a surge in import volumes from Asia. This is leading to significant delays in vessel berthing, loading/unloading, and onward transportation of containers. Other ports, such as Klaipeda and Riga, are also experiencing increased dwell times. The average vessel turnaround time at Gdansk has increased by 36 hours in the last quarter. * **Demand Surge for Specific Goods:** There has been a sudden spike in demand for electronics and construction materials in the Baltic region, driven by post-pandemic economic recovery and increased infrastructure projects. This has put a strain on Nordic SeaLines' capacity and ability to meet customer delivery deadlines. Specifically, demand for high-value electronics requiring specialized handling (temperature control, security) has increased by 40%. * **Vessel Scheduling Disruptions:** The congestion at Gdansk is causing a ripple effect across Nordic SeaLines' network. Delays at Gdansk are forcing changes to vessel schedules, impacting other ports and leading to missed connections for onward cargo transport. The *MS Borealis*, for example, is currently facing a 48-hour delay entering Gdansk, impacting its subsequent calls at Rotterdam and Helsinki. This delay is projected to cost Nordic SeaLines approximately €35,000 in lost revenue and additional fuel consumption. * **Competition from Larger Carriers:** Major global shipping lines, such as CMA CGM and Maersk, are increasingly targeting the Baltic market with larger vessels calling at deep-water ports like Gdansk and Wilhelmshaven. This puts pressure on Nordic SeaLines to maintain competitive pricing and service levels. These larger carriers are also offering more comprehensive service packages, including door-to-door delivery, which Nordic SeaLines struggles to match. * **Limited Infrastructure:** The Port of Gdansk, while undergoing expansion, still faces limitations in terms of container handling equipment, storage capacity, and rail connectivity. This exacerbates the congestion problem. Specifically, only three of the port's five gantry cranes are fully operational, and the rail terminal is operating at 90% capacity. **Regulatory and Compliance Considerations:** * **ISPS Code Compliance:** All vessels and port facilities must adhere to the International Ship and Port Facility Security (ISPS) Code. Increased security measures due to global events are adding to port congestion. This includes mandatory security checks and increased inspection rates. * **Customs Regulations (EU):** All cargo entering the EU through Gdansk must comply with EU customs regulations, including proper documentation (Commercial Invoice, Packing List, Bill of Lading, EUR.1 certificate if applicable), correct HS codes, and payment of applicable duties and taxes. Errors in documentation are leading to increased inspection rates and delays. * **24-Hour Manifest Rule (ENS):** Nordic SeaLines must comply with the EU's 24-hour manifest rule (Entry Summary Declaration - ENS), requiring them to submit detailed cargo information to customs authorities at least 24 hours before the vessel arrives at Gdansk. Failure to comply can result in fines and delays. * **SOLAS Convention:** Verification of Gross Mass (VGM) of containers is mandatory under the SOLAS (Safety of Life at Sea) Convention. Inaccurate VGM data can lead to delays and potential safety hazards. * **Port State Control (PSC):** Vessels calling at Gdansk are subject to Port State Control inspections to ensure compliance with international maritime conventions and regulations. Any deficiencies found during these inspections can lead to detention and further delays. **Problem to be Solved:** Jukka Virtanen and Liisa Mäkinen need to develop a strategic plan to mitigate the impact of port congestion, meet the surge in demand, and maintain competitiveness in the face of larger carriers entering the Baltic market. They must consider options such as: * Optimizing vessel schedules and routes, potentially exploring alternative, less congested ports like Gdynia or Szczecin, even if it involves longer inland transportation. * Negotiating priority berthing agreements with the Port of Gdansk Authority, possibly through long-term contracts or volume commitments. * Investing in improved container tracking and communication systems, including implementing a real-time tracking platform and integrating with the Port of Gdansk's Port Community System (PCS). * Exploring alternative transportation modes, such as rail and barge, for onward transportation of cargo from Gdansk to other Baltic countries. * Re-negotiating contracts with EverOcean Logistics and other key clients to reflect increased operational costs, including potential surcharges for congestion and delays. * Potential investment in their own port-side facilities, such as a dedicated container yard or a small transloading facility, to improve cargo handling efficiency. * Implementing a robust compliance program to ensure adherence to all relevant regulations (ISPS Code, EU Customs Regulations, 24-Hour Manifest Rule, SOLAS Convention, Port State Control) and minimize the risk of fines and delays. How can Nordic SeaLines effectively navigate the Gdansk gridlock and ensure the continued success of its operations in a rapidly changing and competitive market? What are the key risks and benefits of each potential solution? What impact will each solution have on their compliance with the regulatory considerations mentioned above?",
         "## Executive Summary Nordic SeaLines faces a significant operational crisis due to congestion at the Port of Gdansk, increased demand, and competition. This solution proposes a multi-faceted approach encompassing operational optimization, strategic partnerships, technology investment, and proactive regulatory compliance. The plan aims to reduce delays, meet customer demands, maintain competitiveness, and ensure adherence to all relevant maritime regulations. The core strategies include diversifying port usage, negotiating priority berthing, investing in real-time tracking, exploring alternative transportation, renegotiating contracts, and strengthening regulatory compliance programs. ## Detailed Solution Steps **Step 1: Diversify Port Usage and Optimize Vessel Schedules (Short-Term & Medium-Term)** * **Action:** Immediately explore alternative ports like Gdynia and Szczecin. Conduct a thorough cost-benefit analysis comparing the costs of longer inland transportation from these ports against the cost of delays at Gdansk (including fuel, lost revenue, and potential penalties). * **Reasoning:** Reduces reliance on Gdansk, mitigating the impact of congestion. Diversification provides flexibility and improves overall network resilience. * **Regulatory Considerations:** * **Customs Regulations (EU):** Ensure all necessary customs documentation and procedures are in place for cargo entering through Gdynia and Szczecin. Verify that the customs authorities at these ports can handle the specific types of goods being transported (electronics, construction materials). * **Port State Control (PSC):** Vessels calling at Gdynia and Szczecin will be subject to PSC inspections. Ensure vessels are in compliance with all international maritime conventions and regulations to avoid detention. * **Implementation:** Jukka Virtanen should lead the port diversification initiative, working with Liisa Mäkinen to assess market demand and negotiate with port authorities. Captain Johansson should be informed of schedule changes and potential route adjustments. **Step 2: Negotiate Priority Berthing Agreements with the Port of Gdansk Authority (Medium-Term)** * **Action:** Initiate negotiations with the Port of Gdansk Authority to secure priority berthing for Nordic SeaLines vessels. Offer long-term contracts or volume commitments in exchange for preferential treatment. * **Reasoning:** Reduces berthing delays and improves vessel turnaround time at Gdansk. Demonstrates commitment to the port and strengthens the relationship with the port authority. * **Regulatory Considerations:** No direct regulatory impact, but transparency and ethical conduct are crucial in negotiations. Ensure compliance with anti-corruption laws. * **Implementation:** Jukka Virtanen should lead the negotiations, presenting a compelling case for priority berthing based on Nordic SeaLines' contribution to the port's overall volume and economic activity. **Step 3: Invest in Improved Container Tracking and Communication Systems (Short-Term & Medium-Term)** * **Action:** Implement a real-time tracking platform for containers, providing visibility throughout the supply chain. Integrate with the Port of Gdansk's Port Community System (PCS) to streamline information exchange and reduce manual data entry. * **Reasoning:** Improves cargo visibility, reduces delays caused by lost or misplaced containers, and enhances communication with customers. The PCS integration streamlines customs clearance and other port-related processes. * **Regulatory Considerations:** * **Data Privacy (GDPR):** Ensure the tracking platform complies with the General Data Protection Regulation (GDPR) regarding the collection, storage, and processing of personal data. Obtain consent from customers if necessary. * **ISPS Code:** The tracking system can enhance security by providing real-time location data for containers, aiding in the prevention of theft and smuggling. * **Implementation:** Liisa Mäkinen should champion the technology investment, working with IT vendors to select and implement a suitable tracking platform. Jukka Virtanen should oversee the integration with the Port of Gdansk's PCS. **Step 4: Explore Alternative Transportation Modes (Medium-Term & Long-Term)** * **Action:** Investigate the feasibility of using rail and barge for onward transportation of cargo from Gdansk to other Baltic countries. Conduct a cost-benefit analysis comparing these modes against traditional trucking. * **Reasoning:** Reduces reliance on trucking, mitigating the impact of road congestion and driver shortages. Rail and barge can be more environmentally friendly than trucking. * **Regulatory Considerations:** * **Customs Regulations (EU):** Ensure proper customs procedures are followed for cargo transported by rail and barge, including the use of Transit Documents (T1). * **Safety Regulations:** Comply with all relevant safety regulations for rail and barge transportation, including the safe loading and securing of containers. * **Implementation:** Jukka Virtanen should lead the alternative transportation initiative, working with logistics providers to assess the availability and cost-effectiveness of rail and barge services. **Step 5: Renegotiate Contracts with Key Clients (Short-Term)** * **Action:** Renegotiate contracts with EverOcean Logistics and other key clients to reflect increased operational costs, including potential surcharges for congestion and delays. Communicate the reasons for the surcharges transparently and offer alternative solutions, such as using alternative ports. * **Reasoning:** Ensures that Nordic SeaLines is fairly compensated for the increased costs associated with port congestion and other operational challenges. Maintains profitability and financial stability. * **Regulatory Considerations:** Ensure that the renegotiated contracts comply with all applicable laws and regulations, including competition laws. * **Implementation:** Liisa Mäkinen should lead the contract renegotiations, emphasizing the value that Nordic SeaLines provides to its customers and the need to share the burden of increased costs. **Step 6: Invest in Port-Side Facilities (Long-Term)** * **Action:** Evaluate the feasibility of investing in a dedicated container yard or a small transloading facility at the Port of Gdansk. * **Reasoning:** Improves cargo handling efficiency and reduces reliance on the port's limited infrastructure. Provides greater control over cargo flow and reduces the risk of delays. * **Regulatory Considerations:** * **Environmental Regulations:** Ensure that the facility complies with all applicable environmental regulations, including those related to air and water pollution. * **Building Codes:** Obtain all necessary permits and approvals for the construction and operation of the facility. * **ISPS Code:** The facility must comply with the ISPS Code, including security measures to prevent unauthorized access and cargo theft. * **Implementation:** Jukka Virtanen should conduct a feasibility study to assess the costs and benefits of investing in port-side facilities. **Step 7: Strengthen Regulatory Compliance Program (Ongoing)** * **Action:** Implement a robust compliance program to ensure adherence to all relevant regulations (ISPS Code, EU Customs Regulations, 24-Hour Manifest Rule, SOLAS Convention, Port State Control). This includes regular training for employees, audits of compliance procedures, and the use of technology to automate compliance tasks. * **Reasoning:** Minimizes the risk of fines, delays, and other penalties associated with non-compliance. Enhances the company's reputation and builds trust with customers and regulators. * **Regulatory Considerations:** * **ISPS Code:** Regularly review and update security plans to ensure they are effective in addressing current threats. Conduct regular security drills and exercises. * **EU Customs Regulations:** Implement procedures to ensure that all customs documentation is accurate and complete. Provide training to employees on customs regulations. * **24-Hour Manifest Rule (ENS):** Implement systems to ensure that ENS declarations are submitted accurately and on time. * **SOLAS Convention:** Implement procedures to verify the gross mass (VGM) of containers. * **Port State Control (PSC):** Conduct regular self-inspections to identify and address any potential deficiencies before PSC inspections. * **Implementation:** Appoint a dedicated compliance officer to oversee the regulatory compliance program. Provide regular training to all employees on relevant regulations. ## Recommendations * **Prioritize Communication:** Maintain open and transparent communication with customers, port authorities, and other stakeholders. Proactively inform customers of any delays or disruptions and provide regular updates on the status of their cargo. * **Embrace Technology:** Invest in technology to improve cargo visibility, streamline operations, and automate compliance tasks. * **Foster Collaboration:** Work closely with port authorities, logistics providers, and other stakeholders to find solutions to the congestion problem. * **Develop Contingency Plans:** Develop contingency plans to address potential disruptions, such as strikes, natural disasters, and cyberattacks. * **Monitor Performance:** Regularly monitor key performance indicators (KPIs) such as vessel turnaround time, on-time delivery rate, and customer satisfaction. Use this data to identify areas for improvement. ## Risk Mitigation | Risk | Mitigation Strategy the world is in a state of constant change. * **Financial Volatility:** Implement hedging strategies to mitigate the impact of currency fluctuations and fuel price volatility. * **Cybersecurity Threats:** Invest in robust cybersecurity measures to protect against data breaches and disruptions to operations. * **Geopolitical Instability:** Monitor geopolitical developments closely and adjust operations accordingly. Diversify sourcing and markets to reduce reliance on any single region. * **Labor Shortages:** Implement strategies to attract and retain qualified personnel, such as offering competitive salaries and benefits, providing training opportunities, and fostering a positive work environment. * **Environmental Regulations:** Stay informed about evolving environmental regulations and invest in technologies and practices to reduce the company's environmental footprint. By implementing these steps and recommendations, Nordic SeaLines can effectively navigate the Gdansk gridlock, meet the surge in demand, maintain competitiveness, and ensure the continued success of its operations in the Baltic market. The key is to be proactive, adaptable, and committed to continuous improvement.",
         "/Users/max/Documents/Code/magdeburg25/Output/Generated_Cases/__Gdansk_Gridlock__Nordic_SeaLines__Struggle_for_Baltic_Supremacy.json",
         "6872",
         "82054",
         "8.0",
         "7.0",
         "8.0",
         "7.0",
         "QUALIFIED",
         "The case study presents a realistic scenario of a medium-sized container shipping company facing operational challenges in the Baltic Sea region. The congestion at Gdansk, demand surge, and competition from larger carriers are all plausible issues. The solution addresses the core problems with a multi-faceted approach, including port diversification, negotiation, and technology investment. However, some aspects of the solution could be more detailed and consider potential drawbacks. Overall, the case and solution are well-structured and suitable for professional education in maritime logistics.",
         "['The solution could benefit from a more detailed cost-benefit analysis of port diversification, including inland transportation costs, potential infrastructure limitations at alternative ports (Gdynia, Szczecin), and the impact on customer service levels.'\n 'The negotiation of priority berthing agreements should consider potential legal and ethical implications, ensuring fairness and transparency to avoid accusations of preferential treatment or corruption. Include a discussion of potential challenges in securing such agreements.'\n 'The solution mentions investing in improved container tracking. Elaborate on the specific technologies to be implemented (e.g., IoT sensors, blockchain), the associated costs, and the potential return on investment. Address data security and privacy concerns.'\n 'The solution should include a contingency plan for situations where alternative ports are also congested or unavailable. Consider options like slow steaming, temporary storage solutions, or alternative transportation modes (rail, road).'\n 'The regulatory considerations section could be expanded to include specific regulations related to the handling of electronics and construction materials, such as hazardous materials regulations or import/export restrictions.'\n 'Add a section on risk management, identifying potential risks associated with each solution step and proposing mitigation strategies. For example, the risk of increased inland transportation costs due to fuel price fluctuations or road closures.'\n 'Consider adding a Key Performance Indicator (KPI) section to measure the success of the implemented solutions. Examples include: reduction in vessel turnaround time, decrease in cargo dwell time, improvement in on-time delivery performance, and cost savings from optimized operations.']",
         "Gdansk Gridlock: Nordic SeaLines Struggle for Baltic Supremacy\n\n**Case Title: Gdansk Gridlock: Nordic SeaLines' Struggle for Baltic Supremacy** **Scenario:** Nordic SeaLines, a medium-sized container shipping company based in Helsinki, Finland, is facing a critical operational crisis. The company specializes in feeder services connecting major Asian ports with smaller ports in the Baltic Sea region and Northern Europe. They operate a fleet of ten container vessels, ranging in size from 1,500 TEU to 2,700 TEU. **Key Entities:** * **Jukka Virtanen:** Head of Operations, Nordic SeaLines, responsible for vessel scheduling, port negotiations, and cargo management. * **Liisa Mäkinen:** Commercial Director, Nordic SeaLines, in charge of sales, customer relationships, and market analysis. * **Captain Erik Johansson:** Master of the *MS Borealis*, a 2,500 TEU container vessel operating on the Shanghai-Rotterdam-Helsinki route. * **Port of Gdansk Authority:** Responsible for managing operations and infrastructure within the Port of Gdansk, Poland. * **EverOcean Logistics:** A large global logistics company that is a major customer of Nordic SeaLines, relying on them for last-mile delivery into the Baltic region. **Core Operational Challenges:** * **Increased Congestion at Key Ports:** The Port of Gdansk, a crucial hub for Nordic SeaLines' Baltic operations, is experiencing severe congestion due to a surge in import volumes from Asia. This is leading to significant delays in vessel berthing, loading/unloading, and onward transportation of containers. Other ports, such as Klaipeda and Riga, are also experiencing increased dwell times. The average vessel turnaround time at Gdansk has increased by 36 hours in the last quarter. * **Demand Surge for Specific Goods:** There has been a sudden spike in demand for electronics and construction materials in the Baltic region, driven by post-pandemic economic recovery and increased infrastructure projects. This has put a strain on Nordic SeaLines' capacity and ability to meet customer delivery deadlines. Specifically, demand for high-value electronics requiring specialized handling (temperature control, security) has increased by 40%. * **Vessel Scheduling Disruptions:** The congestion at Gdansk is causing a ripple effect across Nordic SeaLines' network. Delays at Gdansk are forcing changes to vessel schedules, impacting other ports and leading to missed connections for onward cargo transport. The *MS Borealis*, for example, is currently facing a 48-hour delay entering Gdansk, impacting its subsequent calls at Rotterdam and Helsinki. This delay is projected to cost Nordic SeaLines approximately €35,000 in lost revenue and additional fuel consumption. * **Competition from Larger Carriers:** Major global shipping lines, such as CMA CGM and Maersk, are increasingly targeting the Baltic market with larger vessels calling at deep-water ports like Gdansk and Wilhelmshaven. This puts pressure on Nordic SeaLines to maintain competitive pricing and service levels. These larger carriers are also offering more comprehensive service packages, including door-to-door delivery, which Nordic SeaLines struggles to match. * **Limited Infrastructure:** The Port of Gdansk, while undergoing expansion, still faces limitations in terms of container handling equipment, storage capacity, and rail connectivity. This exacerbates the congestion problem. Specifically, only three of the port's five gantry cranes are fully operational, and the rail terminal is operating at 90% capacity. **Regulatory and Compliance Considerations:** * **ISPS Code Compliance:** All vessels and port facilities must adhere to the International Ship and Port Facility Security (ISPS) Code. Increased security measures due to global events are adding to port congestion. This includes mandatory security checks and increased inspection rates. * **Customs Regulations (EU):** All cargo entering the EU through Gdansk must comply with EU customs regulations, including proper documentation (Commercial Invoice, Packing List, Bill of Lading, EUR.1 certificate if applicable), correct HS codes, and payment of applicable duties and taxes. Errors in documentation are leading to increased inspection rates and delays. * **24-Hour Manifest Rule (ENS):** Nordic SeaLines must comply with the EU's 24-hour manifest rule (Entry Summary Declaration - ENS), requiring them to submit detailed cargo information to customs authorities at least 24 hours before the vessel arrives at Gdansk. Failure to comply can result in fines and delays. * **SOLAS Convention:** Verification of Gross Mass (VGM) of containers is mandatory under the SOLAS (Safety of Life at Sea) Convention. Inaccurate VGM data can lead to delays and potential safety hazards. * **Port State Control (PSC):** Vessels calling at Gdansk are subject to Port State Control inspections to ensure compliance with international maritime conventions and regulations. Any deficiencies found during these inspections can lead to detention and further delays. **Problem to be Solved:** Jukka Virtanen and Liisa Mäkinen need to develop a strategic plan to mitigate the impact of port congestion, meet the surge in demand, and maintain competitiveness in the face of larger carriers entering the Baltic market. They must consider options such as: * Optimizing vessel schedules and routes, potentially exploring alternative, less congested ports like Gdynia or Szczecin, even if it involves longer inland transportation. * Negotiating priority berthing agreements with the Port of Gdansk Authority, possibly through long-term contracts or volume commitments. * Investing in improved container tracking and communication systems, including implementing a real-time tracking platform and integrating with the Port of Gdansk's Port Community System (PCS). * Exploring alternative transportation modes, such as rail and barge, for onward transportation of cargo from Gdansk to other Baltic countries. * Re-negotiating contracts with EverOcean Logistics and other key clients to reflect increased operational costs, including potential surcharges for congestion and delays. * Potential investment in their own port-side facilities, such as a dedicated container yard or a small transloading facility, to improve cargo handling efficiency. * Implementing a robust compliance program to ensure adherence to all relevant regulations (ISPS Code, EU Customs Regulations, 24-Hour Manifest Rule, SOLAS Convention, Port State Control) and minimize the risk of fines and delays. How can Nordic SeaLines effectively navigate the Gdansk gridlock and ensure the continued success of its operations in a rapidly changing and competitive market? What are the key risks and benefits of each potential solution? What impact will each solution have on their compliance with the regulatory considerations mentioned above?"
        ],
        [
         "124",
         "case-20250330-081631-9ahbtr",
         "**Baltic Squeeze: Navigating Congestion and Surcharges in Seafood Exports**",
         "**Case Study: Baltic Squeeze: Navigating Congestion and Surcharges in Seafood Exports** **Scenario:** Baltic Breeze Seafoods (BBS), a rapidly growing exporter of premium frozen seafood based in Riga, Latvia, is experiencing significant disruptions in its container shipping operations to key Asian markets. Their primary export destinations are Shanghai and Busan, serving a growing demand for high-quality European seafood in the region. BBS relies heavily on the container shipping services offered by \"Oceanic Horizon Lines\" (OHL), a major carrier operating on the Asia-North Europe trade lane. They primarily utilize OHL’s \"Baltic Express\" service, connecting Riga via feeder vessels to Bremerhaven, Germany, where the containers are loaded onto larger mainline vessels bound for Asia. BBS has a contractual agreement with OHL (subject to *INCOTERMS 2020* specifying responsibilities at each stage) for a guaranteed slot allocation on the Baltic Express service and a transit time of approximately 35 days from Riga to Shanghai. The contract stipulates adherence to *EU Regulation 2017/625* concerning official controls to verify compliance with feed and food law, animal health and welfare rules. However, in recent months, BBS has encountered frequent delays, unexpected costs, and regulatory hurdles, impacting their profitability and threatening their relationships with key clients in Asia. **Operational Challenges:** * **Feeder Vessel Delays:** The feeder vessels operating between Riga and Bremerhaven, operated by OHL’s subsidiary, \"Baltic Sea Shuttle,\" are experiencing increasing delays due to port congestion in Riga, equipment shortages (primarily refrigerated containers – reefers), and unpredictable weather conditions in the Baltic Sea. These delays often result in missed connections with the mainline vessels in Bremerhaven. The delays often stem from incomplete or inaccurate documentation submitted to the Latvian Customs Authority, violating *EU Regulation No 952/2013 (Union Customs Code)* requirements for pre-arrival declarations. * **Mainline Vessel Congestion:** Even when the feeder vessels arrive on time, the mainline vessels are frequently subject to delays in Bremerhaven due to severe congestion at the port's container terminals. This congestion is attributed to a surge in import volumes and limited terminal capacity, but is exacerbated by slow customs clearance processes. The terminal operators cite increased inspections under *EU Regulation 2019/1012* establishing a framework for sustainable market access relating to port services, requiring stricter adherence to documentation and security protocols. * **Reefer Container Shortages:** BBS has consistently struggled to secure an adequate supply of reefer containers, particularly during peak seasons. This shortage forces them to either delay shipments, leading to spoilage and lost sales, or resort to expensive spot market rates for container rentals. OHL blames the container imbalance on delays in Asian ports due to COVID-related disruptions and the stringent requirements for reefer containers outlined in the *International Convention for Safe Containers (CSC)*, impacting container availability and increasing inspection times. * **Unexpected Surcharges:** BBS has been hit with a series of unexpected surcharges from OHL, including congestion surcharges, port security fees (likely related to *ISPS Code* compliance), and fuel adjustment factors (BAF). These surcharges, often imposed with little or no prior notice, have significantly increased their shipping costs and eroded their profit margins. BBS suspects that OHL is using these surcharges to compensate for inefficiencies in their operations and a lack of transparency in their pricing, potentially violating principles of fair trade practices as outlined in *UNCTAD's Model Law on Competition*. * **Communication Breakdown:** BBS experiences difficulties communicating with OHL regarding shipment status updates and resolving issues. The information provided is often inaccurate or delayed, making it difficult for BBS to manage their inventory and keep their customers informed. They have tried escalating the issues to OHL's regional office in Hamburg, but with limited success. This communication breakdown is partly due to a lack of EDI (Electronic Data Interchange) implementation, as recommended by *UNECE Recommendation 25*, hindering real-time visibility and information sharing. * **Competitor Pressure:** Competitors from Norway and Iceland, leveraging more efficient logistics networks and stronger relationships with shipping lines, are gaining market share in the Asian seafood market. These competitors are offering faster delivery times and more competitive pricing, putting further pressure on BBS. These competitors are often leveraging integrated Port Community Systems (PCS) for faster customs clearance, as encouraged by *EU Directive 2010/65/EU* on reporting formalities for ships arriving in and/or departing from ports of the Member States. **The Problem:** Baltic Breeze Seafoods is facing a critical challenge in maintaining its competitiveness in the Asian seafood market due to persistent disruptions and rising costs in its container shipping operations. The company needs to identify the root causes of these problems and develop a comprehensive strategy to mitigate the risks, improve supply chain efficiency, and ensure reliable delivery of its products to its customers in Shanghai and Busan. The company also needs to ensure compliance with relevant regulations and explore opportunities to leverage technology like EDI and PCS to streamline its operations and enhance communication with its partners. A key aspect of this strategy is to review and update their documentation processes to ensure accuracy and timeliness, thereby avoiding delays and penalties associated with customs clearance. **Considerations for Solution:** * **Documentation Review:** BBS should thoroughly review its documentation processes, ensuring accuracy and completeness of all required documents, including the Bill of Lading, commercial invoice, packing list, and health certificates (in compliance with *EU Regulation 2017/625*). * **EDI Implementation:** Implement EDI to improve data accuracy and timeliness, facilitating faster customs clearance and reducing the risk of delays. * **Security Compliance:** Enhance security compliance measures to expedite customs clearance and improve overall supply chain efficiency, adhering to the *ISPS Code* and other relevant security regulations. * **Contract Negotiation:** Renegotiate the contract with OHL to address the issues of unexpected surcharges and ensure transparency in pricing. * **Alternative Shipping Options:** Explore alternative shipping options, including other carriers or routes, to mitigate the risk of relying solely on OHL. * **Port Community System (PCS):** Explore the use of PCS to facilitate communication with port authorities and streamline customs clearance processes.",
         "## Executive Summary Baltic Breeze Seafoods (BBS) faces significant challenges in its container shipping operations to Asia, impacting profitability and customer relationships. The core issues are feeder vessel delays, mainline vessel congestion, reefer container shortages, unexpected surcharges, and communication breakdowns with Oceanic Horizon Lines (OHL). This solution proposes a multi-pronged approach involving operational improvements, contract renegotiation, technology adoption, and diversification of shipping options. The solution emphasizes compliance with relevant EU and international regulations to ensure smooth operations and mitigate risks. ## Detailed Solution Steps **Step 1: Documentation Audit and Improvement (Compliance Focus)** * **Action:** Conduct a thorough audit of all export documentation processes, focusing on accuracy, completeness, and compliance with relevant regulations. This includes the Bill of Lading, commercial invoice, packing list, health certificates, and customs declarations. * **Regulation Reference:** *EU Regulation 2017/625* (Official controls to verify compliance with feed and food law, animal health and welfare rules), *EU Regulation No 952/2013 (Union Customs Code)* (requirements for pre-arrival declarations). * **Reasoning:** Incomplete or inaccurate documentation is a major contributor to feeder vessel delays due to customs inspections in Riga. Ensuring compliance with EU regulations minimizes the risk of delays and penalties. * **Specific Actions:** * Implement a checklist system to verify all required information is present and accurate before submitting documents. * Provide training to staff on proper documentation procedures and regulatory requirements. * Utilize digital document management systems to improve accuracy and accessibility. * Implement a system of internal audits to ensure ongoing compliance. **Step 2: EDI Implementation (Technology Adoption)** * **Action:** Implement Electronic Data Interchange (EDI) to automate data exchange with OHL, customs authorities, and other stakeholders. * **Regulation Reference:** *UNECE Recommendation 25* (EDI standards for international trade). * **Reasoning:** EDI improves data accuracy, reduces manual data entry errors, and facilitates faster customs clearance. It also enhances communication and visibility across the supply chain. * **Specific Actions:** * Select an EDI provider compatible with OHL's systems and Latvian customs requirements. * Map data fields between BBS's internal systems and EDI standards. * Train staff on using the EDI system. * Integrate EDI with existing ERP (Enterprise Resource Planning) systems for seamless data flow. **Step 3: Contract Renegotiation with OHL (Commercial Strategy)** * **Action:** Renegotiate the contract with OHL to address the issues of unexpected surcharges, guaranteed slot allocation, and service level agreements (SLAs). * **Regulation Reference:** *UNCTAD's Model Law on Competition* (fair trade practices). *INCOTERMS 2020* (clarifying responsibilities). * **Reasoning:** The current contract appears to be disadvantageous to BBS, with unexpected surcharges eroding profit margins. Renegotiation can secure more favorable terms and improve transparency. * **Specific Actions:** * Demand a clear and transparent pricing structure with fixed rates or pre-defined surcharge mechanisms. * Negotiate guaranteed slot allocation on both feeder and mainline vessels, with penalties for non-compliance. * Establish clear SLAs for transit times, with compensation for delays. * Include clauses addressing reefer container availability and priority allocation. **Step 4: Explore Alternative Shipping Options (Risk Diversification)** * **Action:** Research and evaluate alternative shipping carriers and routes to mitigate the risk of relying solely on OHL. * **Regulation Reference:** None directly applicable, but aligns with best practices in supply chain risk management. * **Reasoning:** Diversifying shipping options reduces vulnerability to disruptions caused by a single carrier. * **Specific Actions:** * Contact other major carriers operating on the Asia-North Europe trade lane. * Evaluate alternative ports of departure, such as Klaipeda (Lithuania) or Gdynia (Poland). * Consider using a freight forwarder to manage multiple carriers and routes. **Step 5: Port Community System (PCS) Integration (Efficiency Improvement)** * **Action:** Explore the use of the Port Community System (PCS) in Bremerhaven and potentially Riga to streamline communication with port authorities and customs clearance processes. * **Regulation Reference:** *EU Directive 2010/65/EU* (reporting formalities for ships arriving in and/or departing from ports of the Member States). * **Reasoning:** PCS facilitates faster customs clearance by providing a single platform for submitting required documents and receiving updates from port authorities. * **Specific Actions:** * Research the availability and functionality of PCS in Bremerhaven and Riga. * Contact the port authorities to learn about the integration process. * Train staff on using the PCS platform. **Step 6: Reefer Container Management (Operational Efficiency)** * **Action:** Implement proactive reefer container management strategies to address shortages. * **Regulation Reference:** *International Convention for Safe Containers (CSC)* (container safety and inspection requirements). * **Reasoning:** Reefer container shortages are a recurring problem. Proactive management can improve availability and reduce reliance on expensive spot market rentals. * **Specific Actions:** * Forecast reefer container demand based on historical data and sales projections. * Communicate demand forecasts to OHL well in advance. * Explore leasing reefer containers directly from leasing companies. * Optimize container utilization by consolidating shipments where possible. * Ensure containers meet CSC standards to avoid inspection delays. **Step 7: Enhanced Communication (Relationship Management)** * **Action:** Establish clear communication channels with OHL and implement a system for tracking shipment status updates. * **Regulation Reference:** None directly applicable, but aligns with best practices in supply chain communication. * **Reasoning:** Poor communication hinders inventory management and customer service. Improved communication can enhance visibility and responsiveness. * **Specific Actions:** * Designate a dedicated point of contact at BBS for communication with OHL. * Establish regular communication schedules for shipment status updates. * Utilize EDI and other communication tools to share information in real-time. * Escalate unresolved issues to higher management levels at OHL. ## Recommendations * **Prioritize Documentation Accuracy:** Invest in training and technology to ensure all export documentation is accurate and complete. This is the foundation for avoiding delays. * **Embrace Technology:** Implement EDI and explore PCS integration to streamline processes and improve communication. * **Negotiate Favorable Contract Terms:** Renegotiate the contract with OHL to address surcharges, slot allocation, and service level agreements. * **Diversify Shipping Options:** Explore alternative carriers and routes to reduce reliance on a single provider. * **Proactive Reefer Container Management:** Implement strategies to forecast demand and secure adequate reefer container supply. * **Continuous Monitoring and Improvement:** Regularly monitor key performance indicators (KPIs) such as transit times, costs, and customer satisfaction to identify areas for improvement. ## Risk Mitigation * **Risk:** Contractual disputes with OHL. * **Mitigation:** Retain legal counsel to review and advise on contract negotiations. Document all communication with OHL in writing. * **Risk:** Cybersecurity threats to EDI and other IT systems. * **Mitigation:** Implement robust cybersecurity measures, including firewalls, intrusion detection systems, and employee training. * **Risk:** Geopolitical instability affecting shipping routes. * **Mitigation:** Monitor geopolitical developments and develop contingency plans for alternative routes and modes of transportation. * **Risk:** Continued port congestion and equipment shortages. * **Mitigation:** Maintain close communication with OHL and port authorities to anticipate potential disruptions. Explore alternative ports and carriers. * **Risk:** Non-compliance with regulations leading to fines and penalties. * **Mitigation:** Stay informed about changes in regulations and implement procedures to ensure ongoing compliance. Conduct regular audits of documentation and processes.",
         "/Users/max/Documents/Code/magdeburg25/Output/Generated_Cases/__Baltic_Squeeze__Navigating_Congestion_and_Surcharges_in_Seafood_Exports__.json",
         "7054",
         "8970",
         "8.0",
         "7.0",
         "9.0",
         "8.0",
         "QUALIFIED",
         "The case study presents a realistic scenario of challenges faced by a seafood exporter in the Baltic region. The operational challenges, including feeder vessel delays, mainline vessel congestion, and reefer container shortages, are common in maritime logistics. The solution is comprehensive and addresses the key issues with practical steps, including documentation improvement, EDI implementation, and contract renegotiation. The solution's focus on regulatory compliance and technology adoption is commendable. However, some areas could be further elaborated for enhanced practicality.",
         "['Expand on the specific KPIs (Key Performance Indicators) that BBS should use to measure the effectiveness of the implemented solutions. For example, specific targets for reducing documentation errors, improving on-time delivery, and minimizing demurrage costs.'\n 'Detail the process of selecting and implementing an EDI provider, including considerations for data security, integration with existing systems, and cost analysis. Provide examples of specific EDI messages that would be used in this scenario.'\n 'Elaborate on the negotiation strategies BBS could employ with OHL, including potential alternative shipping routes, volume commitments, and penalty clauses for service failures. Consider the power dynamics between a smaller exporter and a large shipping line.'\n 'Include a section on risk management, identifying potential risks associated with the proposed solutions (e.g., EDI implementation failures, contract disputes) and outlining mitigation strategies.'\n 'Consider adding a financial analysis section to estimate the costs and benefits of implementing the proposed solutions, including the potential return on investment (ROI) for BBS.']",
         "**Baltic Squeeze: Navigating Congestion and Surcharges in Seafood Exports**\n\n**Case Study: Baltic Squeeze: Navigating Congestion and Surcharges in Seafood Exports** **Scenario:** Baltic Breeze Seafoods (BBS), a rapidly growing exporter of premium frozen seafood based in Riga, Latvia, is experiencing significant disruptions in its container shipping operations to key Asian markets. Their primary export destinations are Shanghai and Busan, serving a growing demand for high-quality European seafood in the region. BBS relies heavily on the container shipping services offered by \"Oceanic Horizon Lines\" (OHL), a major carrier operating on the Asia-North Europe trade lane. They primarily utilize OHL’s \"Baltic Express\" service, connecting Riga via feeder vessels to Bremerhaven, Germany, where the containers are loaded onto larger mainline vessels bound for Asia. BBS has a contractual agreement with OHL (subject to *INCOTERMS 2020* specifying responsibilities at each stage) for a guaranteed slot allocation on the Baltic Express service and a transit time of approximately 35 days from Riga to Shanghai. The contract stipulates adherence to *EU Regulation 2017/625* concerning official controls to verify compliance with feed and food law, animal health and welfare rules. However, in recent months, BBS has encountered frequent delays, unexpected costs, and regulatory hurdles, impacting their profitability and threatening their relationships with key clients in Asia. **Operational Challenges:** * **Feeder Vessel Delays:** The feeder vessels operating between Riga and Bremerhaven, operated by OHL’s subsidiary, \"Baltic Sea Shuttle,\" are experiencing increasing delays due to port congestion in Riga, equipment shortages (primarily refrigerated containers – reefers), and unpredictable weather conditions in the Baltic Sea. These delays often result in missed connections with the mainline vessels in Bremerhaven. The delays often stem from incomplete or inaccurate documentation submitted to the Latvian Customs Authority, violating *EU Regulation No 952/2013 (Union Customs Code)* requirements for pre-arrival declarations. * **Mainline Vessel Congestion:** Even when the feeder vessels arrive on time, the mainline vessels are frequently subject to delays in Bremerhaven due to severe congestion at the port's container terminals. This congestion is attributed to a surge in import volumes and limited terminal capacity, but is exacerbated by slow customs clearance processes. The terminal operators cite increased inspections under *EU Regulation 2019/1012* establishing a framework for sustainable market access relating to port services, requiring stricter adherence to documentation and security protocols. * **Reefer Container Shortages:** BBS has consistently struggled to secure an adequate supply of reefer containers, particularly during peak seasons. This shortage forces them to either delay shipments, leading to spoilage and lost sales, or resort to expensive spot market rates for container rentals. OHL blames the container imbalance on delays in Asian ports due to COVID-related disruptions and the stringent requirements for reefer containers outlined in the *International Convention for Safe Containers (CSC)*, impacting container availability and increasing inspection times. * **Unexpected Surcharges:** BBS has been hit with a series of unexpected surcharges from OHL, including congestion surcharges, port security fees (likely related to *ISPS Code* compliance), and fuel adjustment factors (BAF). These surcharges, often imposed with little or no prior notice, have significantly increased their shipping costs and eroded their profit margins. BBS suspects that OHL is using these surcharges to compensate for inefficiencies in their operations and a lack of transparency in their pricing, potentially violating principles of fair trade practices as outlined in *UNCTAD's Model Law on Competition*. * **Communication Breakdown:** BBS experiences difficulties communicating with OHL regarding shipment status updates and resolving issues. The information provided is often inaccurate or delayed, making it difficult for BBS to manage their inventory and keep their customers informed. They have tried escalating the issues to OHL's regional office in Hamburg, but with limited success. This communication breakdown is partly due to a lack of EDI (Electronic Data Interchange) implementation, as recommended by *UNECE Recommendation 25*, hindering real-time visibility and information sharing. * **Competitor Pressure:** Competitors from Norway and Iceland, leveraging more efficient logistics networks and stronger relationships with shipping lines, are gaining market share in the Asian seafood market. These competitors are offering faster delivery times and more competitive pricing, putting further pressure on BBS. These competitors are often leveraging integrated Port Community Systems (PCS) for faster customs clearance, as encouraged by *EU Directive 2010/65/EU* on reporting formalities for ships arriving in and/or departing from ports of the Member States. **The Problem:** Baltic Breeze Seafoods is facing a critical challenge in maintaining its competitiveness in the Asian seafood market due to persistent disruptions and rising costs in its container shipping operations. The company needs to identify the root causes of these problems and develop a comprehensive strategy to mitigate the risks, improve supply chain efficiency, and ensure reliable delivery of its products to its customers in Shanghai and Busan. The company also needs to ensure compliance with relevant regulations and explore opportunities to leverage technology like EDI and PCS to streamline its operations and enhance communication with its partners. A key aspect of this strategy is to review and update their documentation processes to ensure accuracy and timeliness, thereby avoiding delays and penalties associated with customs clearance. **Considerations for Solution:** * **Documentation Review:** BBS should thoroughly review its documentation processes, ensuring accuracy and completeness of all required documents, including the Bill of Lading, commercial invoice, packing list, and health certificates (in compliance with *EU Regulation 2017/625*). * **EDI Implementation:** Implement EDI to improve data accuracy and timeliness, facilitating faster customs clearance and reducing the risk of delays. * **Security Compliance:** Enhance security compliance measures to expedite customs clearance and improve overall supply chain efficiency, adhering to the *ISPS Code* and other relevant security regulations. * **Contract Negotiation:** Renegotiate the contract with OHL to address the issues of unexpected surcharges and ensure transparency in pricing. * **Alternative Shipping Options:** Explore alternative shipping options, including other carriers or routes, to mitigate the risk of relying solely on OHL. * **Port Community System (PCS):** Explore the use of PCS to facilitate communication with port authorities and streamline customs clearance processes."
        ],
        [
         "93",
         "case-20250329-210212-zq31iw",
         "**OceanExs Baltic Gamble: Navigating Supply Chain Disruptions and IMO 2020 Compliance**",
         "**Scenario:** OceanEx Logistics, a rapidly growing freight forwarder headquartered in Shanghai, is experiencing significant challenges fulfilling its contracts for delivering consumer electronics from various manufacturing hubs in China (Shenzhen, Ningbo, Qingdao) to distribution centers in Northern Europe and the Baltic region. The company specializes in Full Container Load (FCL) shipments and prides itself on competitive pricing and reliable service. However, recent events have exposed vulnerabilities in its supply chain, threatening profitability and customer relationships. **Key Entities:** * **OceanEx Logistics:** Shanghai-based freight forwarder. Key contact: Ms. Li Wei, Head of European Operations. * **Golden Dragon Shipping Lines (GDSL):** A major container shipping line operating on the Asia-Europe trade lane. OceanEx is a significant customer. Vessel example: GDSL Phoenix, a 14,000 TEU container ship. GDSL is struggling with increased costs related to IMO 2020 regulations regarding low-sulfur fuel, impacting their surcharges. * **Northern European Distribution Centers:** Located in Rotterdam (Netherlands), Hamburg (Germany), and Gdansk (Poland), serving various retailers of consumer electronics. These centers are subject to EU customs regulations and require specific documentation for import clearance (see below). * **Manufacturing Hubs in China:** Shenzhen, Ningbo, and Qingdao. These hubs are subject to Chinese export regulations requiring accurate customs declarations and export licenses. * **Port of Klaipeda (Lithuania):** Increasingly used as a gateway to the Baltic region, offering potentially faster transit times to some customers. However, limited capacity for VLCCs requires transshipment via feeder vessels. * **Baltic Transports Ltd.:** A trucking company specializing in container transport from Baltic ports to inland destinations. They are facing increased operational costs due to EU regulations on driver working hours and emissions standards for trucks. **Operational Challenges:** * **Port Congestion (Rotterdam):** Severe congestion at the Port of Rotterdam is causing significant delays. Vessels are experiencing berthing delays of up to 5 days, impacting onward transportation and causing missed delivery windows. The GDSL Phoenix recently suffered a week-long delay. This congestion also increases the risk of customs inspections and delays due to random checks targeting high-risk shipments as part of the EU's security measures. * **Suez Canal Disruptions:** Increased geopolitical instability in the Red Sea has led to rerouting of vessels around the Cape of Good Hope, adding 10-14 days to transit times and significantly increasing fuel costs. GDSL has implemented a temporary surcharge to cover these costs. *This also necessitates adjustments to documentation, specifically amending Estimated Time of Arrival (ETA) notifications to customs authorities.* * **Trucking Capacity Constraints:** Growing demand for trucking services in Northern Europe, coupled with driver shortages, rising fuel prices, and stricter EU regulations on driver hours and emissions, are driving up trucking costs and causing delays in inland transportation from Rotterdam and Hamburg. Baltic Transports Ltd. has quoted significantly higher rates than budgeted for. *They are also requiring longer lead times for booking trucks, impacting delivery schedules.* * **Klaipeda Alternative:** OceanEx is considering using the Port of Klaipeda as an alternative gateway to the Baltic region. However, Klaipeda has limited capacity for handling very large container ships (VLCCs) like the GDSL Phoenix, and transshipment via smaller feeder vessels would be required, adding to costs and potentially increasing the risk of damage. *Furthermore, transshipment requires additional documentation, including a transshipment manifest, adding complexity to the import workflow.* * **IMO 2020 Compliance:** GDSL is incurring significant costs to comply with the IMO 2020 regulations limiting sulfur content in marine fuels. This has resulted in Bunker Adjustment Factor (BAF) surcharges, impacting OceanEx's overall shipping costs. *OceanEx needs to understand how this surcharge is calculated and whether it is justified based on GDSL's fuel consumption data.* * **Customer Dissatisfaction:** Several key customers, including a major electronics retailer with a distribution center near Warsaw, have expressed strong dissatisfaction with recent delays and increased shipping costs. They are threatening to switch to competing freight forwarders. *These customers are demanding compensation for late deliveries based on Service Level Agreements (SLAs) in their contracts.* **The Problem:** OceanEx Logistics faces a critical decision: how to optimize its supply chain to mitigate the impact of port congestion, Suez Canal disruptions, IMO 2020 compliance costs, and trucking capacity constraints, while maintaining competitive pricing and ensuring timely delivery to its customers in Northern Europe and the Baltic region. Ms. Li Wei needs to analyze the available options, including the use of alternative ports like Klaipeda (considering the transshipment implications), renegotiate contracts with GDSL and Baltic Transports Ltd. (factoring in IMO 2020 BAF and EU trucking regulations), and potentially adjust pricing strategies to maintain profitability and customer satisfaction. She must also ensure compliance with all relevant international regulations (IMO 2020, EU customs), Chinese export regulations, and specific port requirements. She must develop a robust and cost-effective solution within the next two weeks to present to OceanEx's senior management. Failure to do so risks losing key customers and damaging OceanEx's reputation. **Specifically, Ms. Li Wei must consider the following documentation requirements:** * **Standard Import Documentation (EU):** Commercial Invoice, Packing List, Bill of Lading, Customs Declaration (SAD - Single Administrative Document), Certificate of Origin. These need to be accurate and complete to avoid customs delays. * **Security Documentation:** ISPS Compliance documentation (including vessel security plan verification), Advance Manifest filing (ENS - Entry Summary Declaration) with EU customs authorities. * **Transshipment Documentation (if using Klaipeda):** Transshipment Manifest, feeder vessel documentation. * **Compliance Documentation:** Evidence of compliance with IMO 2020 regulations (GDSL fuel consumption reports, BAF surcharge justification), documentation related to EU trucking regulations (driver logs, emissions certifications). **Ms. Li Wei needs to create a comprehensive checklist for each shipment, ensuring all necessary documentation is prepared accurately and submitted on time to avoid delays and penalties. She also needs to evaluate the potential benefits of implementing a Port Community System (PCS) to streamline the import documentation workflow and improve communication with customs authorities and port operators.**",
         "## Executive Summary OceanEx Logistics is facing significant challenges in its Asia-Europe supply chain due to port congestion, Suez Canal disruptions, IMO 2020 compliance costs, and trucking capacity constraints. This solution proposes a multi-faceted approach including diversifying port usage (Klaipeda), renegotiating contracts with carriers and trucking companies, implementing a robust documentation checklist, exploring Port Community Systems (PCS), and proactively managing customer expectations. The solution aims to mitigate risks, maintain profitability, and improve customer satisfaction while adhering to relevant international and regional regulations. The core strategy is to increase supply chain resilience and flexibility. ## Detailed Solution Steps Here's a step-by-step solution for Ms. Li Wei to implement within the next two weeks: **Step 1: Immediate Action - Customer Communication and SLA Review (Days 1-2)** * **Action:** Contact key customers (especially the electronics retailer near Warsaw) to acknowledge the issues and proactively communicate the mitigation plan. Offer partial refunds or discounts where applicable based on the Service Level Agreements (SLAs). * **Reasoning:** Transparency and proactive communication can prevent customer churn. Addressing SLA obligations demonstrates commitment to service. * **Regulatory Reference:** Contract Law – SLAs are legally binding agreements. * **Documentation:** Review existing customer contracts and SLAs. Document all communication with customers regarding delays and compensation. **Step 2: Port Diversification Analysis - Klaipeda Feasibility Study (Days 1-3)** * **Action:** Conduct a detailed cost-benefit analysis of using the Port of Klaipeda as an alternative gateway. This includes: * **Transshipment Costs:** Obtain firm quotes for feeder vessel services from Klaipeda to other Baltic ports and inland destinations. * **Handling Charges:** Compare handling charges at Rotterdam, Hamburg, and Klaipeda. * **Transit Times:** Accurately estimate the total transit time via Klaipeda, including transshipment, and compare it to the current routes. * **Risk Assessment:** Evaluate the increased risk of damage or loss during transshipment. * **Reasoning:** Diversifying ports reduces reliance on congested hubs like Rotterdam. Klaipeda might offer faster transit times to some Baltic destinations. * **Regulatory Reference:** Port Regulations (Klaipeda Port Authority) – Ensure compliance with all port-specific regulations regarding vessel size, cargo handling, and documentation. * **Documentation:** Collect quotes from feeder vessel operators and Klaipeda port authorities. Prepare a comparative cost analysis. **Step 3: Contract Renegotiation - GDSL and Baltic Transports Ltd. (Days 2-5)** * **Action (GDSL):** * **BAF Audit:** Request detailed fuel consumption data from GDSL to verify the Bunker Adjustment Factor (BAF) surcharge. Compare this data against publicly available information on fuel prices and GDSL's vessel routes. * **Negotiation:** Negotiate a more favorable BAF surcharge or explore alternative shipping lines with more competitive rates. * **Volume Commitment:** Offer a larger volume commitment in exchange for better rates and priority berthing (if possible). * **Action (Baltic Transports Ltd.):** * **Negotiation:** Negotiate trucking rates, highlighting OceanEx's volume and potential for long-term partnership. * **Alternative Providers:** Explore alternative trucking companies to create competitive pressure. * **Lead Time Management:** Implement a system for providing Baltic Transports Ltd. with accurate and timely forecasts to improve booking lead times. * **Reasoning:** IMO 2020 compliance costs are significant, and OceanEx needs to ensure fair pricing. Trucking capacity constraints require proactive negotiation and diversification of providers. * **Regulatory Reference:** * IMO 2020 Regulations (MARPOL Annex VI) – Understand the regulations and ensure GDSL's compliance. * EU Regulations on Driver Hours and Emissions (Regulation (EC) No 561/2006 and Euro Standards) – Understand the cost impact on Baltic Transports Ltd. * **Documentation:** Review existing contracts with GDSL and Baltic Transports Ltd. Document all negotiation efforts and outcomes. **Step 4: Documentation Checklist and Process Improvement (Days 3-7)** * **Action:** Develop a comprehensive checklist for each shipment, ensuring all necessary documentation is prepared accurately and submitted on time. This checklist should include: * **Standard Import Documentation (EU):** Commercial Invoice, Packing List, Bill of Lading, Customs Declaration (SAD - Single Administrative Document), Certificate of Origin. * **Security Documentation:** ISPS Compliance documentation, Advance Manifest filing (ENS - Entry Summary Declaration). * **Transshipment Documentation (if using Klaipeda):** Transshipment Manifest, feeder vessel documentation. * **Compliance Documentation:** Evidence of compliance with IMO 2020 regulations (GDSL fuel consumption reports, BAF surcharge justification), documentation related to EU trucking regulations (driver logs, emissions certifications). * **ETA Updates:** Implement a system for promptly updating Estimated Time of Arrival (ETA) notifications to customs authorities in case of delays (e.g., Suez Canal rerouting). * **Reasoning:** Accurate and timely documentation is crucial to avoid customs delays and penalties. * **Regulatory Reference:** * EU Customs Code (Regulation (EU) No 952/2013) – Understand the requirements for import documentation and customs procedures. * ISPS Code (International Ship and Port Facility Security Code) – Ensure compliance with security requirements. * **Documentation:** Create a detailed documentation checklist. Train staff on proper documentation procedures. **Step 5: Port Community System (PCS) Evaluation (Days 5-10)** * **Action:** Research and evaluate the potential benefits of implementing a Port Community System (PCS) to streamline the import documentation workflow and improve communication with customs authorities and port operators. Contact PCS providers in Rotterdam, Hamburg, and Klaipeda for demonstrations and pricing. * **Reasoning:** A PCS can automate data exchange, reduce paperwork, and improve communication, leading to faster customs clearance and reduced delays. * **Regulatory Reference:** EU Data Protection Regulations (GDPR) – Ensure compliance with data privacy regulations when using a PCS. * **Documentation:** Collect information on available PCS options and their costs. Prepare a cost-benefit analysis of implementing a PCS. **Step 6: Contingency Planning and Risk Management (Days 7-12)** * **Action:** Develop contingency plans for potential disruptions, such as further Suez Canal closures, port strikes, or unexpected increases in fuel prices. This includes: * **Alternative Routes:** Identify alternative shipping routes and trucking routes. * **Backup Carriers:** Establish relationships with backup shipping lines and trucking companies. * **Insurance Coverage:** Review insurance coverage to ensure adequate protection against potential losses. * **Reasoning:** Proactive planning can minimize the impact of unforeseen events. * **Regulatory Reference:** Force Majeure clauses in contracts – Understand the legal implications of force majeure events. * **Documentation:** Document contingency plans and update them regularly. **Step 7: Pricing Strategy Adjustment (Days 10-14)** * **Action:** Review OceanEx's pricing strategy to reflect increased shipping costs due to IMO 2020 compliance, Suez Canal disruptions, and trucking capacity constraints. Consider implementing a surcharge or adjusting base rates. * **Reasoning:** Maintaining profitability is essential for long-term sustainability. * **Regulatory Reference:** Competition Law – Ensure that pricing strategies comply with antitrust regulations. * **Documentation:** Prepare a revised pricing strategy and communicate it to customers. **Step 8: Implementation and Monitoring (Ongoing)** * **Action:** Implement the recommended solutions and monitor their effectiveness. Track key performance indicators (KPIs) such as transit times, shipping costs, customer satisfaction, and documentation accuracy. * **Reasoning:** Continuous monitoring allows for adjustments and improvements to the supply chain. * **Regulatory Reference:** Continuous Improvement principles (ISO 9001) – Implement a system for continuous improvement based on data analysis. * **Documentation:** Track KPIs and document all changes to the supply chain. ## Recommendations * **Prioritize Customer Communication:** Maintain open and transparent communication with customers to manage expectations and build trust. * **Diversify Port Usage:** Actively explore and utilize alternative ports like Klaipeda to reduce reliance on congested hubs. * **Negotiate Favorable Contracts:** Negotiate aggressively with carriers and trucking companies to secure competitive rates and service levels. * **Implement a Robust Documentation Process:** Ensure accurate and timely documentation to avoid customs delays and penalties. * **Explore Port Community Systems:** Evaluate the potential benefits of implementing a PCS to streamline the import documentation workflow. * **Develop Contingency Plans:** Prepare for potential disruptions by developing contingency plans and establishing relationships with backup providers. * **Adjust Pricing Strategy:** Review and adjust pricing strategies to reflect increased shipping costs. * **Invest in Technology:** Explore the use of technology to improve supply chain visibility and efficiency. * **Train Staff:** Provide ongoing training to staff on relevant regulations, documentation procedures, and best practices. * **Long-Term Strategic Partnerships:** Focus on building long-term strategic partnerships with key suppliers and customers. ## Risk Mitigation | Risk | Mitigation Strategy THE RESPONSE IS LIMITED TO 3000 WORDS.",
         "/Users/max/Documents/Code/magdeburg25/Output/Generated_Cases/__OceanEx_s_Baltic_Gamble__Navigating_Supply_Chain_Disruptions_and_IMO_2020_Compliance__.json",
         "7074",
         "83931",
         "9.0",
         "8.0",
         "9.0",
         "8.0",
         "QUALIFIED",
         "The case study presents a highly realistic scenario reflecting current challenges in maritime logistics, including port congestion, geopolitical disruptions, regulatory compliance (IMO 2020), and capacity constraints. The solution is comprehensive and addresses the key issues with practical steps. The case is well-suited for professional education, offering a good balance of complexity and educational value. The solution's quality is high, demonstrating a good understanding of maritime logistics operations and relevant regulations. However, some areas could benefit from more detailed analysis and specific recommendations.",
         "['Expand on the risk assessment for using Klaipeda, specifically addressing potential delays due to weather conditions in the Baltic Sea during winter months.'\n 'Provide more specific guidance on the documentation checklist, including examples of required documents for different types of consumer electronics and destinations, and how to manage ETA notifications.'\n 'Elaborate on the potential benefits and challenges of implementing a Port Community System (PCS), including integration with existing systems and data security considerations.'\n 'Include a section on contingency planning, outlining alternative transportation routes and modes in case of further disruptions.'\n 'Add a financial analysis section to quantify the potential cost savings and return on investment for each proposed solution step.']",
         "**OceanExs Baltic Gamble: Navigating Supply Chain Disruptions and IMO 2020 Compliance**\n\n**Scenario:** OceanEx Logistics, a rapidly growing freight forwarder headquartered in Shanghai, is experiencing significant challenges fulfilling its contracts for delivering consumer electronics from various manufacturing hubs in China (Shenzhen, Ningbo, Qingdao) to distribution centers in Northern Europe and the Baltic region. The company specializes in Full Container Load (FCL) shipments and prides itself on competitive pricing and reliable service. However, recent events have exposed vulnerabilities in its supply chain, threatening profitability and customer relationships. **Key Entities:** * **OceanEx Logistics:** Shanghai-based freight forwarder. Key contact: Ms. Li Wei, Head of European Operations. * **Golden Dragon Shipping Lines (GDSL):** A major container shipping line operating on the Asia-Europe trade lane. OceanEx is a significant customer. Vessel example: GDSL Phoenix, a 14,000 TEU container ship. GDSL is struggling with increased costs related to IMO 2020 regulations regarding low-sulfur fuel, impacting their surcharges. * **Northern European Distribution Centers:** Located in Rotterdam (Netherlands), Hamburg (Germany), and Gdansk (Poland), serving various retailers of consumer electronics. These centers are subject to EU customs regulations and require specific documentation for import clearance (see below). * **Manufacturing Hubs in China:** Shenzhen, Ningbo, and Qingdao. These hubs are subject to Chinese export regulations requiring accurate customs declarations and export licenses. * **Port of Klaipeda (Lithuania):** Increasingly used as a gateway to the Baltic region, offering potentially faster transit times to some customers. However, limited capacity for VLCCs requires transshipment via feeder vessels. * **Baltic Transports Ltd.:** A trucking company specializing in container transport from Baltic ports to inland destinations. They are facing increased operational costs due to EU regulations on driver working hours and emissions standards for trucks. **Operational Challenges:** * **Port Congestion (Rotterdam):** Severe congestion at the Port of Rotterdam is causing significant delays. Vessels are experiencing berthing delays of up to 5 days, impacting onward transportation and causing missed delivery windows. The GDSL Phoenix recently suffered a week-long delay. This congestion also increases the risk of customs inspections and delays due to random checks targeting high-risk shipments as part of the EU's security measures. * **Suez Canal Disruptions:** Increased geopolitical instability in the Red Sea has led to rerouting of vessels around the Cape of Good Hope, adding 10-14 days to transit times and significantly increasing fuel costs. GDSL has implemented a temporary surcharge to cover these costs. *This also necessitates adjustments to documentation, specifically amending Estimated Time of Arrival (ETA) notifications to customs authorities.* * **Trucking Capacity Constraints:** Growing demand for trucking services in Northern Europe, coupled with driver shortages, rising fuel prices, and stricter EU regulations on driver hours and emissions, are driving up trucking costs and causing delays in inland transportation from Rotterdam and Hamburg. Baltic Transports Ltd. has quoted significantly higher rates than budgeted for. *They are also requiring longer lead times for booking trucks, impacting delivery schedules.* * **Klaipeda Alternative:** OceanEx is considering using the Port of Klaipeda as an alternative gateway to the Baltic region. However, Klaipeda has limited capacity for handling very large container ships (VLCCs) like the GDSL Phoenix, and transshipment via smaller feeder vessels would be required, adding to costs and potentially increasing the risk of damage. *Furthermore, transshipment requires additional documentation, including a transshipment manifest, adding complexity to the import workflow.* * **IMO 2020 Compliance:** GDSL is incurring significant costs to comply with the IMO 2020 regulations limiting sulfur content in marine fuels. This has resulted in Bunker Adjustment Factor (BAF) surcharges, impacting OceanEx's overall shipping costs. *OceanEx needs to understand how this surcharge is calculated and whether it is justified based on GDSL's fuel consumption data.* * **Customer Dissatisfaction:** Several key customers, including a major electronics retailer with a distribution center near Warsaw, have expressed strong dissatisfaction with recent delays and increased shipping costs. They are threatening to switch to competing freight forwarders. *These customers are demanding compensation for late deliveries based on Service Level Agreements (SLAs) in their contracts.* **The Problem:** OceanEx Logistics faces a critical decision: how to optimize its supply chain to mitigate the impact of port congestion, Suez Canal disruptions, IMO 2020 compliance costs, and trucking capacity constraints, while maintaining competitive pricing and ensuring timely delivery to its customers in Northern Europe and the Baltic region. Ms. Li Wei needs to analyze the available options, including the use of alternative ports like Klaipeda (considering the transshipment implications), renegotiate contracts with GDSL and Baltic Transports Ltd. (factoring in IMO 2020 BAF and EU trucking regulations), and potentially adjust pricing strategies to maintain profitability and customer satisfaction. She must also ensure compliance with all relevant international regulations (IMO 2020, EU customs), Chinese export regulations, and specific port requirements. She must develop a robust and cost-effective solution within the next two weeks to present to OceanEx's senior management. Failure to do so risks losing key customers and damaging OceanEx's reputation. **Specifically, Ms. Li Wei must consider the following documentation requirements:** * **Standard Import Documentation (EU):** Commercial Invoice, Packing List, Bill of Lading, Customs Declaration (SAD - Single Administrative Document), Certificate of Origin. These need to be accurate and complete to avoid customs delays. * **Security Documentation:** ISPS Compliance documentation (including vessel security plan verification), Advance Manifest filing (ENS - Entry Summary Declaration) with EU customs authorities. * **Transshipment Documentation (if using Klaipeda):** Transshipment Manifest, feeder vessel documentation. * **Compliance Documentation:** Evidence of compliance with IMO 2020 regulations (GDSL fuel consumption reports, BAF surcharge justification), documentation related to EU trucking regulations (driver logs, emissions certifications). **Ms. Li Wei needs to create a comprehensive checklist for each shipment, ensuring all necessary documentation is prepared accurately and submitted on time to avoid delays and penalties. She also needs to evaluate the potential benefits of implementing a Port Community System (PCS) to streamline the import documentation workflow and improve communication with customs authorities and port operators.**"
        ],
        [
         "63",
         "case-20250330-073349-b2bxaz",
         "Navigating Arctic Ambitions: A Polar Silk Route Dilemma",
         "**Scenario:** Klaus Weber, Head of Route Optimization at \"Nordic Star Logistics,\" a medium-sized container shipping company based in Hamburg, Germany, is facing a critical decision. Nordic Star has been operating container routes between various ports in Northern Europe and Asia for the past decade, primarily utilizing the Suez Canal route. However, the recent geopolitical instability in the Red Sea, coupled with increasing pressure from environmental regulations, has forced them to seriously consider the \"Polar Silk Route\" – a shorter but more challenging route through the Arctic Ocean. The decision is further complicated by the need to deliver a large consignment of high-value electronics originating from Yangshan Port (Shanghai) to Rotterdam within a strict 30-day timeframe. The shipper of the high-value electronics is classified as a hazardous/dangerous goods entity (Datapoint 1), adding another layer of complexity regarding documentation and compliance. **Key Entities:** * **Nordic Star Logistics:** A container shipping company specializing in routes between Northern Europe/Baltic and Asia. * **Klaus Weber:** Head of Route Optimization at Nordic Star Logistics. * **M/V \"Aurora Borealis\":** Nordic Star's flagship ice-class container vessel, capable of navigating icy waters. The vessel must have a valid International Ship Security Certificate (ISSC) to demonstrate ISPS compliance (Finding 2). The vessel must also have an approved Ship Security Plan (SSP) (Finding 3). * **OceanGuard Insurance:** Nordic Star's insurance provider, concerned about the risks associated with Arctic shipping. * **Port of Rotterdam:** A major European port, a key hub for Nordic Star's European operations. * **Port of Shanghai (specifically Yangshan Port):** A major Asian port, a key hub for Nordic Star's Asian operations. Due to the origin of the cargo (Yangshan), a cabotage pilot may be required (Datapoint 6), adding to the operational costs. * **Arctic Shipping Authority (ASA):** A fictional international body responsible for regulating shipping activities in the Arctic region. **Core Regulatory Issues:** * **IMO Polar Code:** International Maritime Organization regulations governing ship operation in polar waters. This includes specific requirements for vessel construction, equipment, and crew training. The M/V \"Aurora Borealis\" must meet all requirements specified in the IMO Polar Code (Datapoint 4, 5, 12, 14). * **EU Emissions Trading System (ETS):** European Union regulations on greenhouse gas emissions, impacting fuel costs. Nordic Star needs to account for the carbon emissions of both routes and the associated costs under the EU ETS. * **MARPOL Annex VI:** International regulations for the prevention of air pollution from ships. This is especially pertinent in the environmentally sensitive Arctic region. * **Arctic Shipping Authority (ASA) Regulations:** Specific regulations imposed by the fictional ASA regarding vessel specifications, crew training, and environmental protection in the Arctic. These regulations include mandatory icebreaker escort in certain areas, restrictions on discharge of pollutants, and requirements for environmental impact assessments (EIAs) for shipping activities. The Ship Security Plan (SSP) must also address security threats specific to the Arctic region (Finding 3). * **ISPS Code Compliance:** As per ISPS Code (Finding 1), Nordic Star and the ports involved (Rotterdam and Shanghai) must ensure compliance. The M/V \"Aurora Borealis\" must have a valid International Ship Security Certificate (ISSC) (Finding 2). * **24-Hour Manifest Rule:** Nordic Star must comply with the 24-hour manifest rule, submitting accurate cargo information to customs authorities 24 hours prior to loading in Shanghai (Finding 13). This includes accurately declaring the hazardous/dangerous nature of the electronics (Datapoint 1, Finding 6). The 14 data elements of the 24-hour manifest must all be correctly included (Finding 7). * **International Maritime Transportation Regulations (China):** Nordic Star must be aware of and adhere to all relevant Chinese regulations concerning international maritime transportation (Datapoint 10). **Operational Challenges:** * **Ice Navigation:** Navigating through icy waters requires specialized vessel capabilities, trained crew, and real-time ice monitoring. * **Weather Conditions:** The Arctic region experiences extreme weather conditions, including storms, fog, and low visibility. * **Limited Infrastructure:** The Arctic has limited port infrastructure and search and rescue capabilities compared to established shipping routes. * **Environmental Sensitivity:** The Arctic is a fragile ecosystem, and shipping activities must minimize their environmental impact. Discharge of pollutants is strictly regulated by ASA. * **Insurance Premiums:** Insuring vessels operating in the Arctic is significantly more expensive due to the increased risks. * **Transit Time Uncertainty:** Weather and ice conditions can significantly impact transit times, making scheduling and delivery commitments challenging. * **Security Risks:** The geopolitical instability is causing delays and increased security costs. * **Cost of Empty Container Logistics:** The cost of repositioning empty containers after unloading in Rotterdam must be factored into the overall cost analysis (Datapoint 11). * **Shipping Costs:** A detailed analysis of shipping costs from Shanghai, including port fees, fuel surcharges, and potential icebreaker fees, is essential (Datapoint 7). **The Problem:** Nordic Star has a contract to deliver the consignment of high-value electronics from Shanghai (Yangshan Port) to Rotterdam within a strict 30-day timeframe. Utilizing the Suez Canal route, this is typically achievable, but the current geopolitical instability in the Red Sea is causing significant delays and increased security costs. The Polar Silk Route offers a potentially faster alternative, shaving off several days of transit time. However, using the Polar Silk Route presents significant challenges. M/V \"Aurora Borealis\" is capable of Arctic navigation, but the route requires careful planning and monitoring. Klaus needs to analyze the following factors to determine the optimal routing strategy: * **Cost-Benefit Analysis:** Compare the costs of using the Suez Canal route (including increased security costs and potential delays, Suez Canal fees) versus the costs of using the Polar Silk Route (including higher insurance premiums, fuel consumption in icy conditions, potential icebreaker fees, ASA fees, and compliance costs). This must also include the cost of empty container logistics after delivery to Rotterdam. * **Risk Assessment:** Evaluate the risks associated with each route, including piracy in the Red Sea, ice damage in the Arctic, potential environmental incidents (oil spills), and reputational damage from environmental violations. Ensure the Ship Security Plan (SSP) addresses these risks. * **Regulatory Compliance:** Ensure compliance with all relevant regulations, including the IMO Polar Code, EU ETS, MARPOL Annex VI, ASA regulations, ISPS Code, Chinese International Maritime Transportation Regulations, and the 24-hour manifest rule. Special attention must be paid to documentation requirements for the hazardous/dangerous goods. * **Stakeholder Communication:** Communicate the chosen routing strategy to key stakeholders, including the company's board of directors, insurance provider (OceanGuard Insurance), customers, and relevant authorities (e.g., ASA). * **Port Cooperation Agreement:** Explore the possibility of leveraging any existing Port Cooperation Agreements between Rotterdam and Shanghai to streamline processes and improve efficiency (Datapoint 13). * **Consider Blockchain Integration:** Explore the potential for using Blockchain Technology to improve supply chain visibility and security throughout the journey (Datapoint 15). Klaus must develop a detailed recommendation for Nordic Star's management, outlining the optimal routing strategy for the Shanghai-Rotterdam consignment. This recommendation should include a clear justification for the chosen route, a detailed cost analysis, a thorough risk assessment, a plan for mitigating potential challenges, and a comprehensive checklist of all necessary documentation, including security documentation and import documentation for Rotterdam. Should Nordic Star risk the \"Polar Silk Route,\" or brave the Suez Canal's turmoil? The future of Nordic Star's Arctic ambitions may depend on his decision.",
         "## Executive Summary Nordic Star Logistics faces a critical decision: utilize the Suez Canal route or the Polar Silk Route for a time-sensitive shipment of high-value, hazardous electronics from Shanghai to Rotterdam. Given the geopolitical instability in the Red Sea, the Polar Silk Route presents a potentially faster alternative, despite increased risks and regulatory complexities. This solution recommends a thorough cost-benefit analysis and risk assessment, prioritizing regulatory compliance, stakeholder communication, and proactive risk mitigation. While the Polar Silk Route offers potential advantages, the final decision hinges on a detailed evaluation of costs, risks, and the company's risk tolerance. A \"go/no-go\" decision point should be established after the initial assessment, allowing for a switch back to the Suez Canal route if the Arctic route proves unfeasible. ## Detailed Solution Steps **Phase 1: Initial Assessment and Feasibility Study (Week 1)** **Step 1: Comprehensive Cost-Benefit Analysis (CBA)** * **Action:** Conduct a detailed CBA comparing the Suez Canal and Polar Silk Route, considering all direct and indirect costs. * **Suez Canal Route Costs:** * Suez Canal transit fees. * Fuel costs (considering potential diversions due to Red Sea instability). * Increased security costs (e.g., armed guards, insurance surcharges). * Potential delay costs (demurrage, penalties for late delivery). * EU ETS carbon emission costs. * **Polar Silk Route Costs:** * Higher insurance premiums (due to Arctic risks). * Increased fuel consumption in icy conditions. * Potential icebreaker fees (mandatory in certain areas as per ASA regulations). * ASA fees (for permits, inspections, and environmental monitoring). * Compliance costs (IMO Polar Code, MARPOL Annex VI, ASA regulations). * Cost of specialized equipment and crew training. * EU ETS carbon emission costs. * Cost of empty container repositioning from Rotterdam (Datapoint 11). * Yangshan Port cabotage pilot fees (Datapoint 6). * **Regulatory Reference:** EU ETS (for carbon emission costs). ASA regulations (for fees and compliance). * **Reasoning:** A clear understanding of the financial implications is crucial for informed decision-making. The CBA must include all relevant cost factors to accurately assess the economic viability of each route. **Step 2: Detailed Risk Assessment** * **Action:** Identify and evaluate all potential risks associated with each route. * **Suez Canal Route Risks:** * Piracy and armed conflict in the Red Sea. * Geopolitical instability and potential port closures. * Delays and disruptions to the supply chain. * **Polar Silk Route Risks:** * Ice damage to the vessel. * Extreme weather conditions (storms, fog, low visibility). * Limited infrastructure and search and rescue capabilities. * Environmental incidents (oil spills, pollution). * Reputational damage from environmental violations. * Security threats specific to the Arctic region (as per ASA regulations). * **Regulatory Reference:** ASA regulations (environmental protection, security). * **Reasoning:** A thorough risk assessment allows for the development of effective mitigation strategies. The assessment should consider both operational and strategic risks. **Step 3: Regulatory Compliance Checklist** * **Action:** Develop a comprehensive checklist of all regulatory requirements for both routes. * **Checklist Items:** * IMO Polar Code compliance (vessel construction, equipment, crew training) (Datapoint 4, 5, 12, 14). * EU ETS compliance (carbon emission reporting and payment). * MARPOL Annex VI compliance (prevention of air pollution). * ASA regulations compliance (vessel specifications, crew training, environmental protection, mandatory icebreaker escort). * ISPS Code compliance (vessel and port security) (Finding 1, 2, 3). * 24-hour manifest rule compliance (accurate cargo information submission) (Finding 6, 7, 13). * Chinese International Maritime Transportation Regulations compliance (Datapoint 10). * Documentation requirements for hazardous/dangerous goods (Datapoint 1). * **Regulatory Reference:** IMO Polar Code, EU ETS, MARPOL Annex VI, ASA regulations, ISPS Code, 24-hour manifest rule, Chinese International Maritime Transportation Regulations. * **Reasoning:** Ensuring full regulatory compliance is essential to avoid fines, delays, and reputational damage. The checklist should be regularly updated to reflect changes in regulations. **Step 4: Stakeholder Consultation** * **Action:** Consult with key stakeholders to gather input and address concerns. * **Stakeholders:** * Company's board of directors. * Insurance provider (OceanGuard Insurance). * Customer (shipper of the electronics). * Relevant authorities (e.g., ASA). * **Reasoning:** Stakeholder engagement ensures alignment and support for the chosen routing strategy. It also helps to identify potential issues and concerns early on. **Step 5: \"Go/No-Go\" Decision Point** * **Action:** Based on the CBA, risk assessment, regulatory compliance checklist, and stakeholder consultation, make an initial \"go/no-go\" decision regarding the Polar Silk Route. * **Reasoning:** This decision point allows for a timely switch back to the Suez Canal route if the Arctic route proves unfeasible or too risky. **Phase 2: Polar Silk Route Implementation (If \"Go\" Decision)** **Step 6: Vessel Preparation and Crew Training** * **Action:** Ensure the M/V \"Aurora Borealis\" is fully prepared for Arctic navigation. * **Activities:** * Verify compliance with IMO Polar Code requirements. * Conduct thorough vessel inspections and maintenance. * Provide specialized training for the crew on ice navigation, emergency procedures, and environmental protection. * **Regulatory Reference:** IMO Polar Code. * **Reasoning:** Proper vessel preparation and crew training are essential for safe and efficient Arctic operations. **Step 7: Route Planning and Ice Monitoring** * **Action:** Develop a detailed route plan based on real-time ice conditions and weather forecasts. * **Activities:** * Utilize satellite imagery and ice charts to identify optimal routes. * Monitor weather conditions and adjust the route as needed. * Establish communication protocols with icebreaker services (if required). * **Regulatory Reference:** ASA regulations (mandatory icebreaker escort). * **Reasoning:** Accurate route planning and continuous ice monitoring are crucial for avoiding ice damage and ensuring timely delivery. **Step 8: Security Plan Enhancement** * **Action:** Review and enhance the Ship Security Plan (SSP) to address security threats specific to the Arctic region. * **Activities:** * Incorporate measures to prevent and respond to potential security incidents in the Arctic. * Ensure compliance with ISPS Code requirements. * Address potential cyber security threats. * **Regulatory Reference:** ISPS Code, ASA regulations. * **Reasoning:** A robust security plan is essential for protecting the vessel, crew, and cargo from potential threats. **Step 9: Cargo Documentation and Compliance** * **Action:** Ensure all cargo documentation is accurate and complete, particularly regarding the hazardous/dangerous nature of the electronics. * **Activities:** * Comply with the 24-hour manifest rule, submitting accurate cargo information to customs authorities 24 hours prior to loading in Shanghai (Finding 13). * Accurately declare the hazardous/dangerous nature of the electronics (Datapoint 1, Finding 6). * Ensure all 14 data elements of the 24-hour manifest are correctly included (Finding 7). * **Regulatory Reference:** 24-hour manifest rule. * **Reasoning:** Accurate cargo documentation is essential for customs clearance and regulatory compliance. **Step 10: Continuous Monitoring and Communication** * **Action:** Continuously monitor the vessel's progress and maintain open communication with all stakeholders. * **Activities:** * Track the vessel's location and speed. * Monitor weather conditions and ice conditions. * Communicate regularly with the crew, port authorities, and customers. * **Reasoning:** Continuous monitoring and communication allow for timely responses to potential problems and ensure that all stakeholders are informed of the vessel's progress. ## Recommendations * **Prioritize Safety:** Safety should be the top priority in all decision-making. The Polar Silk Route presents significant risks, and all necessary precautions must be taken to protect the vessel, crew, and environment. * **Invest in Technology:** Invest in advanced technologies for ice monitoring, weather forecasting, and route optimization. This will improve the accuracy of route planning and reduce the risk of accidents. * **Develop Strong Partnerships:** Develop strong partnerships with icebreaker services, port authorities, and other stakeholders in the Arctic region. This will improve access to resources and support in case of emergencies. * **Embrace Sustainability:** Implement sustainable shipping practices to minimize the environmental impact of Arctic operations. This includes using low-sulfur fuel, reducing emissions, and preventing pollution. * **Explore Blockchain Integration:** Explore the potential for using Blockchain Technology to improve supply chain visibility and security throughout the journey (Datapoint 15). * **Leverage Port Cooperation Agreements:** Explore the possibility of leveraging any existing Port Cooperation Agreements between Rotterdam and Shanghai to streamline processes and improve efficiency (Datapoint 13). ## Risk Mitigation | Risk | Mitigation Strategy ! * **Ice Damage Prevention:** Implement strict ice navigation protocols, including speed restrictions and route adjustments based on real-time ice conditions. * **Environmental Incident Response:** Develop a comprehensive environmental incident response plan, including procedures for oil spill containment and cleanup. * **Geopolitical Instability:** Diversify shipping routes and develop contingency plans for potential disruptions in politically unstable regions. * **Cyber Security:** Implement robust cyber security measures to protect the vessel's systems and data from potential attacks. By implementing these solutions, Nordic Star Logistics can make an informed decision about the optimal routing strategy for the Shanghai-Rotterdam consignment, balancing the potential benefits of the Polar Silk Route with the associated risks and regulatory complexities.",
         "/Users/max/Documents/Code/magdeburg25/Output/Generated_Cases/Navigating_Arctic_Ambitions__A_Polar_Silk_Route_Dilemma.json",
         "8644",
         "113848",
         "8.0",
         "9.0",
         "9.0",
         "8.0",
         "QUALIFIED",
         "The case study presents a realistic and complex scenario involving a critical decision in maritime logistics. The consideration of the Polar Silk Route as an alternative to the Suez Canal, driven by geopolitical instability and environmental concerns, is highly relevant in today's shipping landscape. The solution provided is comprehensive, addressing key aspects such as cost-benefit analysis, risk assessment, and regulatory compliance. The inclusion of factors like hazardous cargo, cabotage pilot requirements, and EU ETS adds to the realism and complexity. The solution's emphasis on stakeholder communication and proactive risk mitigation is commendable. However, some areas could benefit from more detailed analysis and specific recommendations.",
         "['The cost-benefit analysis could be enhanced by providing more specific examples of cost estimations for each route, including potential fluctuations in fuel prices and insurance premiums.'\n 'The risk assessment could benefit from a more granular breakdown of potential ice conditions along the Polar Silk Route and their impact on vessel speed and fuel consumption. Include specific ice charts or data sources.'\n 'The solution should explicitly address the contingency planning process in case the M/V Aurora Borealis encounters unforeseen delays or difficulties in the Arctic. This could include alternative ports of refuge or icebreaker assistance options.'\n 'Expand on the discussion of crew training requirements for Arctic navigation, specifying the necessary certifications and experience levels. Reference specific training programs or institutions.'\n \"Include a section on the potential impact of the decision on Nordic Star Logistics' overall sustainability strategy and corporate social responsibility goals. Quantify the environmental impact of each route.\"]",
         "Navigating Arctic Ambitions: A Polar Silk Route Dilemma\n\n**Scenario:** Klaus Weber, Head of Route Optimization at \"Nordic Star Logistics,\" a medium-sized container shipping company based in Hamburg, Germany, is facing a critical decision. Nordic Star has been operating container routes between various ports in Northern Europe and Asia for the past decade, primarily utilizing the Suez Canal route. However, the recent geopolitical instability in the Red Sea, coupled with increasing pressure from environmental regulations, has forced them to seriously consider the \"Polar Silk Route\" – a shorter but more challenging route through the Arctic Ocean. The decision is further complicated by the need to deliver a large consignment of high-value electronics originating from Yangshan Port (Shanghai) to Rotterdam within a strict 30-day timeframe. The shipper of the high-value electronics is classified as a hazardous/dangerous goods entity (Datapoint 1), adding another layer of complexity regarding documentation and compliance. **Key Entities:** * **Nordic Star Logistics:** A container shipping company specializing in routes between Northern Europe/Baltic and Asia. * **Klaus Weber:** Head of Route Optimization at Nordic Star Logistics. * **M/V \"Aurora Borealis\":** Nordic Star's flagship ice-class container vessel, capable of navigating icy waters. The vessel must have a valid International Ship Security Certificate (ISSC) to demonstrate ISPS compliance (Finding 2). The vessel must also have an approved Ship Security Plan (SSP) (Finding 3). * **OceanGuard Insurance:** Nordic Star's insurance provider, concerned about the risks associated with Arctic shipping. * **Port of Rotterdam:** A major European port, a key hub for Nordic Star's European operations. * **Port of Shanghai (specifically Yangshan Port):** A major Asian port, a key hub for Nordic Star's Asian operations. Due to the origin of the cargo (Yangshan), a cabotage pilot may be required (Datapoint 6), adding to the operational costs. * **Arctic Shipping Authority (ASA):** A fictional international body responsible for regulating shipping activities in the Arctic region. **Core Regulatory Issues:** * **IMO Polar Code:** International Maritime Organization regulations governing ship operation in polar waters. This includes specific requirements for vessel construction, equipment, and crew training. The M/V \"Aurora Borealis\" must meet all requirements specified in the IMO Polar Code (Datapoint 4, 5, 12, 14). * **EU Emissions Trading System (ETS):** European Union regulations on greenhouse gas emissions, impacting fuel costs. Nordic Star needs to account for the carbon emissions of both routes and the associated costs under the EU ETS. * **MARPOL Annex VI:** International regulations for the prevention of air pollution from ships. This is especially pertinent in the environmentally sensitive Arctic region. * **Arctic Shipping Authority (ASA) Regulations:** Specific regulations imposed by the fictional ASA regarding vessel specifications, crew training, and environmental protection in the Arctic. These regulations include mandatory icebreaker escort in certain areas, restrictions on discharge of pollutants, and requirements for environmental impact assessments (EIAs) for shipping activities. The Ship Security Plan (SSP) must also address security threats specific to the Arctic region (Finding 3). * **ISPS Code Compliance:** As per ISPS Code (Finding 1), Nordic Star and the ports involved (Rotterdam and Shanghai) must ensure compliance. The M/V \"Aurora Borealis\" must have a valid International Ship Security Certificate (ISSC) (Finding 2). * **24-Hour Manifest Rule:** Nordic Star must comply with the 24-hour manifest rule, submitting accurate cargo information to customs authorities 24 hours prior to loading in Shanghai (Finding 13). This includes accurately declaring the hazardous/dangerous nature of the electronics (Datapoint 1, Finding 6). The 14 data elements of the 24-hour manifest must all be correctly included (Finding 7). * **International Maritime Transportation Regulations (China):** Nordic Star must be aware of and adhere to all relevant Chinese regulations concerning international maritime transportation (Datapoint 10). **Operational Challenges:** * **Ice Navigation:** Navigating through icy waters requires specialized vessel capabilities, trained crew, and real-time ice monitoring. * **Weather Conditions:** The Arctic region experiences extreme weather conditions, including storms, fog, and low visibility. * **Limited Infrastructure:** The Arctic has limited port infrastructure and search and rescue capabilities compared to established shipping routes. * **Environmental Sensitivity:** The Arctic is a fragile ecosystem, and shipping activities must minimize their environmental impact. Discharge of pollutants is strictly regulated by ASA. * **Insurance Premiums:** Insuring vessels operating in the Arctic is significantly more expensive due to the increased risks. * **Transit Time Uncertainty:** Weather and ice conditions can significantly impact transit times, making scheduling and delivery commitments challenging. * **Security Risks:** The geopolitical instability is causing delays and increased security costs. * **Cost of Empty Container Logistics:** The cost of repositioning empty containers after unloading in Rotterdam must be factored into the overall cost analysis (Datapoint 11). * **Shipping Costs:** A detailed analysis of shipping costs from Shanghai, including port fees, fuel surcharges, and potential icebreaker fees, is essential (Datapoint 7). **The Problem:** Nordic Star has a contract to deliver the consignment of high-value electronics from Shanghai (Yangshan Port) to Rotterdam within a strict 30-day timeframe. Utilizing the Suez Canal route, this is typically achievable, but the current geopolitical instability in the Red Sea is causing significant delays and increased security costs. The Polar Silk Route offers a potentially faster alternative, shaving off several days of transit time. However, using the Polar Silk Route presents significant challenges. M/V \"Aurora Borealis\" is capable of Arctic navigation, but the route requires careful planning and monitoring. Klaus needs to analyze the following factors to determine the optimal routing strategy: * **Cost-Benefit Analysis:** Compare the costs of using the Suez Canal route (including increased security costs and potential delays, Suez Canal fees) versus the costs of using the Polar Silk Route (including higher insurance premiums, fuel consumption in icy conditions, potential icebreaker fees, ASA fees, and compliance costs). This must also include the cost of empty container logistics after delivery to Rotterdam. * **Risk Assessment:** Evaluate the risks associated with each route, including piracy in the Red Sea, ice damage in the Arctic, potential environmental incidents (oil spills), and reputational damage from environmental violations. Ensure the Ship Security Plan (SSP) addresses these risks. * **Regulatory Compliance:** Ensure compliance with all relevant regulations, including the IMO Polar Code, EU ETS, MARPOL Annex VI, ASA regulations, ISPS Code, Chinese International Maritime Transportation Regulations, and the 24-hour manifest rule. Special attention must be paid to documentation requirements for the hazardous/dangerous goods. * **Stakeholder Communication:** Communicate the chosen routing strategy to key stakeholders, including the company's board of directors, insurance provider (OceanGuard Insurance), customers, and relevant authorities (e.g., ASA). * **Port Cooperation Agreement:** Explore the possibility of leveraging any existing Port Cooperation Agreements between Rotterdam and Shanghai to streamline processes and improve efficiency (Datapoint 13). * **Consider Blockchain Integration:** Explore the potential for using Blockchain Technology to improve supply chain visibility and security throughout the journey (Datapoint 15). Klaus must develop a detailed recommendation for Nordic Star's management, outlining the optimal routing strategy for the Shanghai-Rotterdam consignment. This recommendation should include a clear justification for the chosen route, a detailed cost analysis, a thorough risk assessment, a plan for mitigating potential challenges, and a comprehensive checklist of all necessary documentation, including security documentation and import documentation for Rotterdam. Should Nordic Star risk the \"Polar Silk Route,\" or brave the Suez Canal's turmoil? The future of Nordic Star's Arctic ambitions may depend on his decision."
        ]
       ],
       "shape": {
        "columns": 15,
        "rows": 5
       }
      },
      "text/html": [
       "<div>\n",
       "<style scoped>\n",
       "    .dataframe tbody tr th:only-of-type {\n",
       "        vertical-align: middle;\n",
       "    }\n",
       "\n",
       "    .dataframe tbody tr th {\n",
       "        vertical-align: top;\n",
       "    }\n",
       "\n",
       "    .dataframe thead th {\n",
       "        text-align: right;\n",
       "    }\n",
       "</style>\n",
       "<table border=\"1\" class=\"dataframe\">\n",
       "  <thead>\n",
       "    <tr style=\"text-align: right;\">\n",
       "      <th></th>\n",
       "      <th>case_id</th>\n",
       "      <th>title</th>\n",
       "      <th>enhanced_case</th>\n",
       "      <th>solution</th>\n",
       "      <th>file_path</th>\n",
       "      <th>enhanced_case_length</th>\n",
       "      <th>solution_length</th>\n",
       "      <th>realism_score</th>\n",
       "      <th>complexity_score</th>\n",
       "      <th>educational_value</th>\n",
       "      <th>solution_quality</th>\n",
       "      <th>overall_qualification</th>\n",
       "      <th>evaluation_summary</th>\n",
       "      <th>improvement_suggestions</th>\n",
       "      <th>case_for_embedding</th>\n",
       "    </tr>\n",
       "  </thead>\n",
       "  <tbody>\n",
       "    <tr>\n",
       "      <th>183</th>\n",
       "      <td>case-20250329-001124-k553a3</td>\n",
       "      <td>Baltic Bottleneck: Navigating Congestion and C...</td>\n",
       "      <td>**Case Title: Baltic Bottleneck: Navigating Co...</td>\n",
       "      <td>## Executive Summary Alpha Shipping faces chal...</td>\n",
       "      <td>/Users/max/Documents/Code/magdeburg25/Output/G...</td>\n",
       "      <td>5821</td>\n",
       "      <td>85737</td>\n",
       "      <td>8.0</td>\n",
       "      <td>7.0</td>\n",
       "      <td>8.0</td>\n",
       "      <td>7.0</td>\n",
       "      <td>QUALIFIED</td>\n",
       "      <td>The case study presents a realistic scenario o...</td>\n",
       "      <td>[The solution could benefit from a more detail...</td>\n",
       "      <td>Baltic Bottleneck: Navigating Congestion and C...</td>\n",
       "    </tr>\n",
       "    <tr>\n",
       "      <th>60</th>\n",
       "      <td>case-20250329-082454-w9yo73</td>\n",
       "      <td>Gdansk Gridlock: Nordic SeaLines Struggle for ...</td>\n",
       "      <td>**Case Title: Gdansk Gridlock: Nordic SeaLines...</td>\n",
       "      <td>## Executive Summary Nordic SeaLines faces a s...</td>\n",
       "      <td>/Users/max/Documents/Code/magdeburg25/Output/G...</td>\n",
       "      <td>6872</td>\n",
       "      <td>82054</td>\n",
       "      <td>8.0</td>\n",
       "      <td>7.0</td>\n",
       "      <td>8.0</td>\n",
       "      <td>7.0</td>\n",
       "      <td>QUALIFIED</td>\n",
       "      <td>The case study presents a realistic scenario o...</td>\n",
       "      <td>[The solution could benefit from a more detail...</td>\n",
       "      <td>Gdansk Gridlock: Nordic SeaLines Struggle for ...</td>\n",
       "    </tr>\n",
       "    <tr>\n",
       "      <th>124</th>\n",
       "      <td>case-20250330-081631-9ahbtr</td>\n",
       "      <td>**Baltic Squeeze: Navigating Congestion and Su...</td>\n",
       "      <td>**Case Study: Baltic Squeeze: Navigating Conge...</td>\n",
       "      <td>## Executive Summary Baltic Breeze Seafoods (B...</td>\n",
       "      <td>/Users/max/Documents/Code/magdeburg25/Output/G...</td>\n",
       "      <td>7054</td>\n",
       "      <td>8970</td>\n",
       "      <td>8.0</td>\n",
       "      <td>7.0</td>\n",
       "      <td>9.0</td>\n",
       "      <td>8.0</td>\n",
       "      <td>QUALIFIED</td>\n",
       "      <td>The case study presents a realistic scenario o...</td>\n",
       "      <td>[Expand on the specific KPIs (Key Performance ...</td>\n",
       "      <td>**Baltic Squeeze: Navigating Congestion and Su...</td>\n",
       "    </tr>\n",
       "    <tr>\n",
       "      <th>93</th>\n",
       "      <td>case-20250329-210212-zq31iw</td>\n",
       "      <td>**OceanExs Baltic Gamble: Navigating Supply Ch...</td>\n",
       "      <td>**Scenario:** OceanEx Logistics, a rapidly gro...</td>\n",
       "      <td>## Executive Summary OceanEx Logistics is faci...</td>\n",
       "      <td>/Users/max/Documents/Code/magdeburg25/Output/G...</td>\n",
       "      <td>7074</td>\n",
       "      <td>83931</td>\n",
       "      <td>9.0</td>\n",
       "      <td>8.0</td>\n",
       "      <td>9.0</td>\n",
       "      <td>8.0</td>\n",
       "      <td>QUALIFIED</td>\n",
       "      <td>The case study presents a highly realistic sce...</td>\n",
       "      <td>[Expand on the risk assessment for using Klaip...</td>\n",
       "      <td>**OceanExs Baltic Gamble: Navigating Supply Ch...</td>\n",
       "    </tr>\n",
       "    <tr>\n",
       "      <th>63</th>\n",
       "      <td>case-20250330-073349-b2bxaz</td>\n",
       "      <td>Navigating Arctic Ambitions: A Polar Silk Rout...</td>\n",
       "      <td>**Scenario:** Klaus Weber, Head of Route Optim...</td>\n",
       "      <td>## Executive Summary Nordic Star Logistics fac...</td>\n",
       "      <td>/Users/max/Documents/Code/magdeburg25/Output/G...</td>\n",
       "      <td>8644</td>\n",
       "      <td>113848</td>\n",
       "      <td>8.0</td>\n",
       "      <td>9.0</td>\n",
       "      <td>9.0</td>\n",
       "      <td>8.0</td>\n",
       "      <td>QUALIFIED</td>\n",
       "      <td>The case study presents a realistic and comple...</td>\n",
       "      <td>[The cost-benefit analysis could be enhanced b...</td>\n",
       "      <td>Navigating Arctic Ambitions: A Polar Silk Rout...</td>\n",
       "    </tr>\n",
       "  </tbody>\n",
       "</table>\n",
       "</div>"
      ],
      "text/plain": [
       "                         case_id  \\\n",
       "183  case-20250329-001124-k553a3   \n",
       "60   case-20250329-082454-w9yo73   \n",
       "124  case-20250330-081631-9ahbtr   \n",
       "93   case-20250329-210212-zq31iw   \n",
       "63   case-20250330-073349-b2bxaz   \n",
       "\n",
       "                                                 title  \\\n",
       "183  Baltic Bottleneck: Navigating Congestion and C...   \n",
       "60   Gdansk Gridlock: Nordic SeaLines Struggle for ...   \n",
       "124  **Baltic Squeeze: Navigating Congestion and Su...   \n",
       "93   **OceanExs Baltic Gamble: Navigating Supply Ch...   \n",
       "63   Navigating Arctic Ambitions: A Polar Silk Rout...   \n",
       "\n",
       "                                         enhanced_case  \\\n",
       "183  **Case Title: Baltic Bottleneck: Navigating Co...   \n",
       "60   **Case Title: Gdansk Gridlock: Nordic SeaLines...   \n",
       "124  **Case Study: Baltic Squeeze: Navigating Conge...   \n",
       "93   **Scenario:** OceanEx Logistics, a rapidly gro...   \n",
       "63   **Scenario:** Klaus Weber, Head of Route Optim...   \n",
       "\n",
       "                                              solution  \\\n",
       "183  ## Executive Summary Alpha Shipping faces chal...   \n",
       "60   ## Executive Summary Nordic SeaLines faces a s...   \n",
       "124  ## Executive Summary Baltic Breeze Seafoods (B...   \n",
       "93   ## Executive Summary OceanEx Logistics is faci...   \n",
       "63   ## Executive Summary Nordic Star Logistics fac...   \n",
       "\n",
       "                                             file_path  enhanced_case_length  \\\n",
       "183  /Users/max/Documents/Code/magdeburg25/Output/G...                  5821   \n",
       "60   /Users/max/Documents/Code/magdeburg25/Output/G...                  6872   \n",
       "124  /Users/max/Documents/Code/magdeburg25/Output/G...                  7054   \n",
       "93   /Users/max/Documents/Code/magdeburg25/Output/G...                  7074   \n",
       "63   /Users/max/Documents/Code/magdeburg25/Output/G...                  8644   \n",
       "\n",
       "     solution_length  realism_score  complexity_score  educational_value  \\\n",
       "183            85737            8.0               7.0                8.0   \n",
       "60             82054            8.0               7.0                8.0   \n",
       "124             8970            8.0               7.0                9.0   \n",
       "93             83931            9.0               8.0                9.0   \n",
       "63            113848            8.0               9.0                9.0   \n",
       "\n",
       "     solution_quality overall_qualification  \\\n",
       "183               7.0             QUALIFIED   \n",
       "60                7.0             QUALIFIED   \n",
       "124               8.0             QUALIFIED   \n",
       "93                8.0             QUALIFIED   \n",
       "63                8.0             QUALIFIED   \n",
       "\n",
       "                                    evaluation_summary  \\\n",
       "183  The case study presents a realistic scenario o...   \n",
       "60   The case study presents a realistic scenario o...   \n",
       "124  The case study presents a realistic scenario o...   \n",
       "93   The case study presents a highly realistic sce...   \n",
       "63   The case study presents a realistic and comple...   \n",
       "\n",
       "                               improvement_suggestions  \\\n",
       "183  [The solution could benefit from a more detail...   \n",
       "60   [The solution could benefit from a more detail...   \n",
       "124  [Expand on the specific KPIs (Key Performance ...   \n",
       "93   [Expand on the risk assessment for using Klaip...   \n",
       "63   [The cost-benefit analysis could be enhanced b...   \n",
       "\n",
       "                                    case_for_embedding  \n",
       "183  Baltic Bottleneck: Navigating Congestion and C...  \n",
       "60   Gdansk Gridlock: Nordic SeaLines Struggle for ...  \n",
       "124  **Baltic Squeeze: Navigating Congestion and Su...  \n",
       "93   **OceanExs Baltic Gamble: Navigating Supply Ch...  \n",
       "63   Navigating Arctic Ambitions: A Polar Silk Rout...  "
      ]
     },
     "execution_count": 4,
     "metadata": {},
     "output_type": "execute_result"
    }
   ],
   "source": [
    "test_df.head()"
   ]
  },
  {
   "cell_type": "code",
   "execution_count": 5,
   "metadata": {},
   "outputs": [
    {
     "name": "stdout",
     "output_type": "stream",
     "text": [
      "<class 'pandas.core.frame.DataFrame'>\n",
      "Index: 62 entries, 183 to 302\n",
      "Data columns (total 15 columns):\n",
      " #   Column                   Non-Null Count  Dtype  \n",
      "---  ------                   --------------  -----  \n",
      " 0   case_id                  62 non-null     object \n",
      " 1   title                    62 non-null     object \n",
      " 2   enhanced_case            62 non-null     object \n",
      " 3   solution                 62 non-null     object \n",
      " 4   file_path                62 non-null     object \n",
      " 5   enhanced_case_length     62 non-null     int64  \n",
      " 6   solution_length          62 non-null     int64  \n",
      " 7   realism_score            61 non-null     float64\n",
      " 8   complexity_score         61 non-null     float64\n",
      " 9   educational_value        61 non-null     float64\n",
      " 10  solution_quality         61 non-null     float64\n",
      " 11  overall_qualification    61 non-null     object \n",
      " 12  evaluation_summary       61 non-null     object \n",
      " 13  improvement_suggestions  61 non-null     object \n",
      " 14  case_for_embedding       62 non-null     object \n",
      "dtypes: float64(4), int64(2), object(9)\n",
      "memory usage: 7.8+ KB\n"
     ]
    }
   ],
   "source": [
    "test_df.info()"
   ]
  },
  {
   "cell_type": "markdown",
   "metadata": {},
   "source": [
    "## 3. Prepare Cases for Testing"
   ]
  },
  {
   "cell_type": "code",
   "execution_count": 6,
   "metadata": {},
   "outputs": [
    {
     "name": "stdout",
     "output_type": "stream",
     "text": [
      "\n",
      "Prepared 62 cases for testing\n"
     ]
    }
   ],
   "source": [
    "# Prepare cases for testing - extract only what we need\n",
    "test_cases = []\n",
    "for _, row in test_df.iterrows():\n",
    "    test_cases.append({\n",
    "        \"case_id\": row[\"case_id\"],\n",
    "        \"title\": row[\"title\"],\n",
    "        \"case_text\": row[\"enhanced_case\"]\n",
    "    })\n",
    "\n",
    "print(f\"\\nPrepared {len(test_cases)} cases for testing\")"
   ]
  },
  {
   "cell_type": "markdown",
   "metadata": {},
   "source": [
    "## 4. Test Qdrant Retrieval"
   ]
  },
  {
   "cell_type": "code",
   "execution_count": 7,
   "metadata": {},
   "outputs": [
    {
     "name": "stdout",
     "output_type": "stream",
     "text": [
      "Testing case retrieval from Qdrant...\n",
      "Finding similar cases for: Baltic Bottleneck: Navigating Congestion and Compliance in Alpha Shippings Asia-Europe Route\n",
      "Found 2 similar cases:\n",
      "\n",
      "Example 1: Jade Dragons Baltic Icebreaker: Navigating Congestion and Compliance (Similarity: 0.89)\n",
      "Solution excerpt: ## Executive Summary The Jade Dragon Route is facing significant challenges due to Baltic port congestion, ice conditions, feeder service unreliabilit...\n",
      "\n",
      "Example 2: Baltic Bottleneck: Navigating EU ETS and Customs Challenges for Golden Dragon Lines (Similarity: 0.88)\n",
      "Solution excerpt: ## Executive Summary Golden Dragon Lines (GDL) faces significant challenges in its Asia-North Europe/Baltic Sea routes due to congestion, delays, esca...\n"
     ]
    }
   ],
   "source": [
    "# Test the case retrieval function\n",
    "print(\"Testing case retrieval from Qdrant...\")\n",
    "CASE_COLLECTION_NAME = \"icl_logistics_case_examples\"\n",
    "\n",
    "# Try retrieving similar cases for a test case\n",
    "test_case = test_cases[0]\n",
    "print(f\"Finding similar cases for: {test_case['title']}\")\n",
    "\n",
    "try:\n",
    "    similar_cases = retrieve_similar_cases(\n",
    "        test_case[\"title\"] + \"\\n\\n\" + test_case[\"case_text\"],\n",
    "        num_examples=2,\n",
    "        collection_name=CASE_COLLECTION_NAME\n",
    "    )\n",
    "    \n",
    "    print(f\"Found {len(similar_cases)} similar cases:\")\n",
    "    for i, case in enumerate(similar_cases):\n",
    "        print(f\"\\nExample {i+1}: {case['title']} (Similarity: {case['similarity_score']:.2f})\")\n",
    "        print(f\"Solution excerpt: {case['solution'][:150]}...\")\n",
    "except Exception as e:\n",
    "    print(f\"⚠️ Error retrieving similar cases: {e}\")\n",
    "    print(\"Check your Qdrant connection and collection name\")"
   ]
  },
  {
   "cell_type": "code",
   "execution_count": 25,
   "metadata": {},
   "outputs": [
    {
     "name": "stdout",
     "output_type": "stream",
     "text": [
      "\n",
      "Debugging similar cases structure:\n",
      "Case 1 keys: dict_keys(['title', 'case_id', 'solution', 'similarity_score'])\n",
      "Sample content: ['Jade Dragons Baltic Icebreaker: Navigating Congestion and Compliance', 'case-20250329-203120-9w5633', '## Executive Summary The Jade Dragon Route is facing significant challenges due to Baltic port congestion, ice conditions, feeder service unreliability, Suez Canal delays, increasing fuel costs, GSA performance penalties, SOLAS VI/2 compliance, customs clearance requirements, and empty container management. This solution proposes a multi-pronged approach focusing on optimizing port operations, adjusting the route, improving feeder service reliability, mitigating ice conditions, implementing fuel efficiency measures, strengthening customer relationships, and enhancing documentation control. The core strategy involves shifting the Baltic focus to Hamburg and utilizing a dedicated, reliable feeder service to serve Gdansk, Klaipeda, and other Baltic ports. This will reduce congestion-related delays and improve schedule adherence, thereby mitigating GSA penalties and improving customer satisfaction. The solution also emphasizes proactive communication, technology adoption, and strategic partnerships to ensure long-term viability and profitability. ## Detailed Solution Steps **Step 1: Shift Baltic Focus to Hamburg and Implement a Dedicated Feeder Service** * **Action:** Reroute the *Arctic Star* vessels to terminate the westbound leg in Hamburg instead of Gdansk and Klaipeda. Establish a dedicated feeder service from Hamburg to Gdansk, Klaipeda, Riga, Tallinn, and other Baltic ports. * **Reasoning:** This addresses the core issue of Baltic port congestion directly. Hamburg has significantly better infrastructure and less congestion than Gdansk and Klaipeda. A dedicated feeder service allows for better control over scheduling and reliability compared to the current \"Baltic Stream\" service. * **Regulatory References:** * **Port State Control (PSC):** Ensure the feeder vessels comply with all PSC regulations regarding safety, security, and environmental protection. This includes regular inspections to verify compliance with international conventions such as SOLAS, MARPOL, and the International Safety Management (ISM) Code. * **Customs Regulations (EU):** Adherence to EU customs regulations for transit cargo moving from Hamburg to other Baltic states. This includes proper documentation and declaration procedures. * **Implementation:** * Negotiate favorable berthing agreements in Hamburg to ensure priority for *Arctic Star* vessels. * Select a reliable feeder service provider through a competitive bidding process, focusing on experience, vessel availability, and track record of on-time performance. Alternatively, consider investing in Arctic Star\\'s own feeder vessels. * Establish clear service level agreements (SLAs) with the feeder service provider, including penalties for delays. * Implement a robust tracking and tracing system to monitor the movement of containers throughout the feeder network. **Step 2: Optimize Port Operations in Hamburg** * **Action:** Implement technology solutions and negotiate priority berthing agreements in Hamburg. * **Reasoning:** Efficient port operations in Hamburg are crucial for the success of the revised route. * **Regulatory References:** * **International Ship and Port Facility Security (ISPS) Code:** Ensure compliance with the ISPS Code for security measures at the Hamburg port facility. * **Hamburg Port Authority Regulations:** Adhere to all regulations set by the Hamburg Port Authority regarding vessel traffic, cargo handling, and environmental protection. * **Implementation:** * Implement or integrate with the Hamburg Port Community System (PCS) to streamline customs clearance and improve communication between all stakeholders. * Negotiate priority berthing agreements with the Port of Hamburg to minimize waiting times for *Arctic Star* vessels. * Implement a \"just-in-time\" (JIT) arrival system to optimize vessel arrival times and reduce fuel consumption. **Step 3: Improve Feeder Service Reliability** * **Action:** Partner with a more reliable feeder service or invest in dedicated feeder vessels. Implement a robust communication and planning system between Arctic Star, the feeder service, and the ports. * **Reasoning:** The current feeder service is a major source of delays. A reliable feeder service is essential for maintaining schedule integrity. * **Regulatory References:** * **Baltic Maritime Safety Regulations:** Ensure the feeder vessels comply with all applicable safety regulations for navigating the Baltic Sea, including requirements for ice navigation. * **EU Cabotage Rules:** Ensure compliance with EU cabotage rules if considering operating Arctic Star\\'s own feeder vessels within the EU. * **Implementation:** * Establish clear communication protocols between Arctic Star, the feeder service, and the ports. * Implement a system for proactive monitoring of feeder vessel schedules and container movements. * Provide training to feeder service personnel on efficient cargo handling and customs procedures. **Step 4: Mitigate Ice Conditions** * **Action:** Implement a robust ice navigation plan and utilize icebreaker assistance proactively. * **Reasoning:** Ice conditions can significantly impact vessel schedules and safety. * **Regulatory References:** * **Polar Code:** While the *Arctic Star* vessels may not be operating in the Arctic, understanding the principles of the Polar Code regarding vessel design, equipment, and operational procedures in ice-covered waters is beneficial. * **Baltic Ice Charting Service (BICS):** Utilize BICS data to monitor ice conditions and plan vessel routes accordingly. * **Implementation:** * Develop a detailed ice navigation plan that includes procedures for navigating in icy waters, utilizing icebreaker assistance, and monitoring weather conditions. * Establish a relationship with icebreaker service providers and arrange for proactive assistance during winter months. * Provide training to vessel crews on ice navigation techniques. **Step 5: Fuel Efficiency Measures** * **Action:** Implement slow steaming strategies (outside of critical path segments), optimize vessel routing, and invest in fuel-efficient technologies. * **Reasoning:** Reducing fuel consumption is crucial for improving profitability. * **Regulatory References:** * **MARPOL Annex VI:** Adhere to MARPOL Annex VI regulations regarding air pollution from ships, including requirements for energy efficiency and sulfur content of fuel. * **Ship Energy Efficiency Management Plan (SEEMP):** Develop and implement a SEEMP for each vessel to identify and implement measures to improve energy efficiency. * **Implementation:** * Implement a slow steaming strategy on non-critical path segments of the route. * Optimize vessel routing to minimize distances and avoid adverse weather conditions. * Invest in fuel-efficient technologies, such as hull coatings, propeller upgrades, and waste heat recovery systems. * Monitor fuel consumption and track the effectiveness of fuel efficiency measures. **Step 6: Strengthen Customer Relationships** * **Action:** Improve communication with customers like Eastern Trading Co. and provide real-time visibility into shipment status. * **Reasoning:** Customer satisfaction is essential for maintaining business and avoiding penalties for late deliveries. * **Regulatory References:** None directly applicable, but maintaining transparency builds trust and reduces potential disputes. * **Implementation:** * Implement a customer portal that provides real-time visibility into shipment status. * Proactively communicate with customers about potential delays and provide regular updates. * Offer flexible delivery options to meet customer needs. * Establish a dedicated customer service team to address customer inquiries and resolve issues promptly. **Step 7: SOLAS VI/2 Compliance and Enhanced Documentation Control** * **Action:** Implement stricter controls over documentation to ensure data accuracy and timeliness, reducing delays related to incorrect or incomplete information. Ensure strict adherence to SOLAS VI/2 regulations regarding Verified Gross Mass (VGM). * **Reasoning:** Inaccurate documentation and non-compliance with SOLAS VI/2 can lead to significant delays and fines. * **Regulatory References:** * **SOLAS VI/2:** Strict adherence to the SOLAS VI/2 regulation requiring Verified Gross Mass (VGM) documentation for all containers. * **Customs Regulations (EU):** Compliance with EU customs regulations regarding documentation requirements for imports and exports. * **Implementation:** * Implement a robust system for verifying the accuracy of all shipping documents, including commercial invoices, packing lists, and customs declarations. * Provide training to staff on proper documentation procedures and SOLAS VI/2 requirements. * Utilize electronic data interchange (EDI) to streamline the exchange of information between Arctic Star, its customers, and customs authorities. * Implement a system for tracking and monitoring VGM data to ensure compliance with SOLAS VI/2. * Conduct regular audits of documentation processes to identify and address any weaknesses. **Step 8: Empty Container Management** * **Action:** Optimize empty container repositioning and storage to minimize costs and avoid port congestion. * **Reasoning:** Inefficient empty container management can lead to demurrage charges and contribute to port congestion. * **Regulatory References:** None directly applicable, but efficient management reduces operational costs. * **Implementation:** * Implement a system for tracking and monitoring empty container inventories. * Optimize empty container repositioning to minimize transportation costs. * Negotiate favorable storage rates with port terminals. * Work with customers to encourage the prompt return of empty containers. ## Recommendations * **Prioritize the shift to Hamburg and the dedicated feeder service.** This is the most impactful step in addressing the core issue of Baltic port congestion. * **Invest in technology solutions** such as PCS integration and real-time tracking systems to improve communication and efficiency. * **Establish strong relationships with key stakeholders,** including port authorities, feeder service providers, and customers. * **Implement a continuous improvement program** to monitor performance, identify areas for improvement, and adapt to changing market conditions. * **Conduct regular risk assessments** to identify potential threats to the Jade Dragon Route and develop mitigation strategies. * **Negotiate with the GSA** to adjust performance targets in light of the challenges faced in the Baltic Sea. * **Proactively communicate with Eastern Trading Co.** to manage expectations and maintain their business. ## Risk Mitigation * **Risk:** Feeder service unreliability despite selecting a new provider. * **Mitigation:** Implement strict SLAs with the feeder service provider, including penalties for delays. Closely monitor feeder vessel schedules and container movements. Consider investing in Arctic Star\\'s own feeder vessels as a long-term solution. * **Risk:** Congestion in Hamburg. * **Mitigation:** Negotiate priority berthing agreements with the Port of Hamburg. Implement a JIT arrival system. Utilize the Hamburg PCS to streamline customs clearance. * **Risk:** Ice conditions causing delays despite ice navigation plan. * **Mitigation:** Maintain close communication with icebreaker service providers. Monitor weather conditions closely and adjust vessel schedules accordingly. Consider using ice-strengthened feeder vessels. * **Risk:** Suez Canal delays. * **Mitigation:** Monitor Suez Canal traffic and weather conditions. Build buffer time into the schedule to account for potential delays. Consider alternative routing options if necessary. * **Risk:** Increased costs associated with the revised route. * **Mitigation:** Negotiate favorable rates with the feeder service provider and the Port of Hamburg. Implement fuel efficiency measures to reduce operating costs. Optimize empty container management to minimize demurrage charges. * **Risk:** Customer dissatisfaction with the revised route. * **Mitigation:** Proactively communicate with customers about the changes and the benefits of the revised route. Provide real-time visibility into shipment status. Offer flexible delivery options to meet customer needs. * **Risk:** Failure to comply with SOLAS VI/2 or customs regulations. * **Mitigation:** Implement robust documentation control procedures. Provide training to staff on regulatory requirements. Conduct regular audits of documentation processes. By implementing this comprehensive solution, Arctic Star Logistics can mitigate the challenges facing the Jade Dragon Route, improve its on-time performance, reduce costs, and maintain its commitments to the Global Shipping Alliance and its customers. The key is a proactive, data-driven approach that focuses on optimizing operations, strengthening partnerships, and adapting to changing market conditions.', 0.88570917]\n",
      "Case 2 keys: dict_keys(['title', 'case_id', 'solution', 'similarity_score'])\n",
      "Sample content: ['Baltic Bottleneck: Navigating EU ETS and Customs Challenges for Golden Dragon Lines', 'case-20250329-211758-nvadg7', '## Executive Summary Golden Dragon Lines (GDL) faces significant challenges in its Asia-North Europe/Baltic Sea routes due to congestion, delays, escalating costs (particularly EU ETS), and complex customs regulations. To address these issues and improve service reliability for EuroBaltic Logistics (EBL) and other customers, GDL should adopt a multi-faceted approach. This includes a detailed cost-benefit analysis of direct calls to Baltic ports, exploration of Gothenburg as an alternative transshipment hub, optimization of the existing feeder network, and negotiation of robust Service Level Agreements (SLAs). Crucially, GDL must prioritize compliance with EU ETS, customs regulations (including the 24-hour manifest rule), ISPS Code, and hazardous goods regulations (IMDG Code). The solution emphasizes data accuracy, timely communication, and strategic partnerships to enhance operational efficiency and maintain a competitive edge. ## Detailed Solution Steps **Step 1: Comprehensive Cost-Benefit Analysis of Direct Calls to Baltic Ports (Gdansk, Klaipeda, Riga, Tallinn)** * **Action:** Conduct a detailed financial and operational analysis comparing direct calls from Shanghai/Ningbo to Baltic ports versus the current transshipment model via Rotterdam/Hamburg. * **Considerations:** * **Fuel Consumption & EU ETS Costs:** Calculate the increased fuel consumption for the longer direct route and the associated carbon emissions. Determine the cost of EU ETS allowances required to cover these emissions. This is critical for assessing the financial viability of direct calls. Reference: EU ETS Directive 2003/87/EC, as amended. * **Port Infrastructure Limitations:** Evaluate the infrastructure capacity of Baltic ports (draft, crane capacity, storage space) to handle 14,000 TEU vessels like the \"Golden Phoenix.\" Assess potential port congestion and turnaround times. * **Economies of Scale:** Analyze the potential for economies of scale by consolidating cargo for direct shipment. Consider the minimum cargo volume required to make direct calls economically viable. * **Cabotage Pilotage:** Account for the cost of Cabotage Pilots required in Yangshan Port (Shanghai) (Datapoint 12) and any similar requirements in Baltic ports. * **Vessel Agent Coordination:** Work closely with vessel agents (Datapoint 4, 8) in both China and the Baltic ports to obtain accurate port charges, pilotage fees, and other operational costs. * **Regulatory Compliance:** Ensure compliance with all relevant port regulations in both origin and destination ports. * **Regulatory References:** * EU ETS Directive 2003/87/EC, as amended. * Port regulations of Shanghai, Ningbo, Gdansk, Klaipeda, Riga, and Tallinn. * Chinese Regulation on International Maritime Transportation (Datapoint 9). * **Reasoning:** This analysis will provide a clear understanding of the financial and operational implications of direct calls, enabling GDL to make an informed decision. **Step 2: Evaluate Gothenburg as an Alternative Transshipment Hub** * **Action:** Investigate the feasibility of using Gothenburg, Sweden, as a transshipment hub, partnering with Nordic Warehousing Solutions (NWS). * **Considerations:** * **Customs Regulations:** Analyze Swedish customs regulations and procedures for transshipment cargo. Determine the requirements for Entry Summary Declarations (ENS) and Summary Arrival Declarations (SAL) for goods entering and leaving the EU. Reference: Union Customs Code (UCC) Regulation (EU) No 952/2013. * **Onward Transportation:** Evaluate the efficiency and cost of onward transportation from Gothenburg to the Baltic states and Eastern Europe. Consider road, rail, and short-sea shipping options. * **NWS Capabilities:** Assess NWS\\'s warehousing and distribution capabilities, including their ability to handle hazardous goods and provide value-added services. * **Congestion Levels:** Compare congestion levels in Gothenburg to those in Rotterdam and Hamburg. * **Cost Comparison:** Compare the total cost of transshipment through Gothenburg (including port charges, warehousing, and onward transportation) to the cost of transshipment through Rotterdam and Hamburg. * **Regulatory References:** * Union Customs Code (UCC) Regulation (EU) No 952/2013. * Swedish customs regulations. * **Reasoning:** Gothenburg could offer a less congested and more efficient alternative to Rotterdam and Hamburg, potentially reducing delays and improving service reliability. **Step 3: Optimize the Feeder Network Connecting Rotterdam/Hamburg to the Baltic Ports** * **Action:** Re-evaluate the existing feeder network, considering alternative routes, vessel sizes, and feeder operators. * **Considerations:** * **Route Analysis:** Analyze the transit times, costs, and reliability of different feeder routes. * **Vessel Size Optimization:** Determine the optimal vessel size for each route, considering cargo volume and port infrastructure limitations. * **Feeder Operator Selection:** Evaluate the performance and pricing of different feeder operators. Negotiate favorable service level agreements (SLAs) with selected operators. * **Hazardous Goods Handling:** Ensure that feeder operators have the necessary expertise and equipment to handle hazardous goods in compliance with the IMDG Code. * **Regulatory References:** * IMDG Code (International Maritime Dangerous Goods Code). * Port regulations of Rotterdam, Hamburg, Gdansk, Klaipeda, Riga, and Tallinn. * **Reasoning:** Optimizing the feeder network can improve efficiency and reduce delays in the final leg of the journey to the Baltic ports. **Step 4: Negotiate Service Level Agreements (SLAs) with Port Operators and Feeder Service Providers** * **Action:** Establish clear SLAs with port operators and feeder service providers to minimize delays and ensure predictable transit times. * **Considerations:** * **Key Performance Indicators (KPIs):** Define specific KPIs for port turnaround times, cargo handling efficiency, and feeder vessel schedule adherence. * **Penalties for Non-Compliance:** Include penalties for failing to meet agreed-upon KPIs. * **Hazardous Goods Handling:** Specify procedures for handling hazardous goods, including documentation requirements, storage conditions, and emergency response plans. * **Customs Delays:** Address potential customs delays in the SLAs, including responsibilities for documentation submission and communication with customs authorities. * **Regulatory References:** * IMDG Code (International Maritime Dangerous Goods Code). * Union Customs Code (UCC) Regulation (EU) No 952/2013. * **Reasoning:** SLAs provide a framework for accountability and help to ensure that port operators and feeder service providers are committed to meeting GDL\\'s service requirements. **Step 5: Implement Robust Customs Compliance Procedures** * **Action:** Implement comprehensive customs compliance procedures to ensure accurate and timely data submission and minimize the risk of delays and penalties. * **Considerations:** * **24-Hour Manifest Rule Compliance:** Ensure compliance with the 24-hour manifest rule by submitting accurate and complete data to customs authorities well in advance of vessel arrival. * **Electronic Data Interchange (EDI) and Port Community Systems (PCS):** Implement EDI and PCS to improve data accuracy and timeliness. * **Import Documentation Workflow:** Implement a robust Import Documentation Workflow, covering Pre-Arrival, Arrival/Clearance, and Post-Clearance phases. (Handbook guideline). * **Training:** Provide regular training to staff on customs regulations and procedures. * **Audits:** Conduct regular internal audits to ensure compliance. * **Regulatory References:** * Union Customs Code (UCC) Regulation (EU) No 952/2013. * Customs regulations of China, Sweden, Germany, Netherlands, Poland, Lithuania, Latvia, and Estonia. * **Reasoning:** Accurate and timely customs compliance is essential for avoiding delays and penalties, which can significantly impact service reliability and profitability. **Step 6: Enhance Security Measures and ISPS Compliance** * **Action:** Ensure strict compliance with the International Ship and Port Facility Security (ISPS) Code at all ports of call. * **Considerations:** * **Security Assessments:** Conduct regular security assessments of vessels and port facilities. * **Security Plans:** Develop and implement comprehensive security plans. * **Access Control:** Implement strict access control measures to prevent unauthorized access to vessels and cargo. * **Security Training:** Provide regular security training to crew and port personnel. * **Documentation:** Maintain accurate security documentation. * **Regulatory References:** * International Ship and Port Facility Security (ISPS) Code. * **Reasoning:** ISPS compliance is crucial for protecting high-value electronics shipments and ensuring the safety and security of vessels and port facilities. **Step 7: Prioritize Hazardous Goods Handling Compliance (IMDG Code)** * **Action:** Implement strict procedures for handling hazardous goods in compliance with the IMDG Code. * **Considerations:** * **Accurate Declaration:** Ensure that all hazardous goods are accurately declared and properly packaged, labeled, and documented. (Datapoint 7, 10, 13, 14) * **Training:** Provide regular training to staff on IMDG Code requirements. * **Emergency Response:** Develop and implement emergency response plans for hazardous goods incidents. * **Compliance Audits:** Conduct regular compliance audits to ensure adherence to the IMDG Code. * **Regulatory References:** * IMDG Code (International Maritime Dangerous Goods Code). * **Reasoning:** Incorrect declaration or improper handling of hazardous goods can result in significant fines, delays, and safety risks. ## Recommendations * **Implement a phased approach:** Start with optimizing the existing feeder network and negotiating SLAs, then gradually explore the feasibility of Gothenburg as a transshipment hub and direct calls to Baltic ports. * **Invest in technology:** Implement EDI and PCS to improve data accuracy and timeliness. * **Build strong relationships:** Foster strong relationships with port operators, feeder service providers, and customs authorities. * **Continuously monitor and improve:** Regularly monitor performance, identify areas for improvement, and adapt the strategy as needed. * **Prioritize sustainability:** Explore options for reducing carbon emissions, such as using alternative fuels or optimizing vessel speed. * **Engage with EuroBaltic Logistics (EBL):** Maintain open communication with EBL and other key customers to understand their needs and expectations. ## Risk Mitigation * **Customs Delays:** * **Mitigation:** Implement robust customs compliance procedures, including accurate and timely data submission and regular training for staff. * **Port Congestion:** * **Mitigation:** Diversify transshipment hubs, negotiate SLAs with port operators, and optimize feeder network routes. * **Feeder Vessel Delays:** * **Mitigation:** Negotiate SLAs with feeder service providers, optimize feeder vessel schedules, and use alternative feeder routes. * **Hazardous Goods Incidents:** * **Mitigation:** Implement strict procedures for handling hazardous goods, provide regular training to staff, and develop comprehensive emergency response plans. * **EU ETS Costs:** * **Mitigation:** Explore options for reducing carbon emissions, such as using alternative fuels or optimizing vessel speed. Conduct a thorough cost-benefit analysis of all route options, factoring in EU ETS costs. * **Geopolitical Risks:** * **Mitigation:** Monitor geopolitical developments in the Baltic Sea region and develop contingency plans to address potential disruptions. This includes alternate routing and port options. * **Data Security:** * **Mitigation:** Implement robust cybersecurity measures to protect sensitive data from cyberattacks.', 0.88523304]\n"
     ]
    }
   ],
   "source": [
    "# Print the keys in similar_cases to debug more thoroughly\n",
    "print(\"\\nDebugging similar cases structure:\")\n",
    "for i, case in enumerate(similar_cases):\n",
    "    print(f\"Case {i+1} keys: {case.keys()}\")\n",
    "    print(f\"Sample content: {list(case.values())}\")"
   ]
  },
  {
   "cell_type": "markdown",
   "metadata": {},
   "source": [
    "## 5. Define the ICL Prompt Template"
   ]
  },
  {
   "cell_type": "code",
   "execution_count": 8,
   "metadata": {},
   "outputs": [],
   "source": [
    "# This is the MedPrompt-inspired template for ICL\n",
    "def create_icl_prompt(case_data, similar_cases):\n",
    "    \"\"\"\n",
    "    Create a MedPrompt-inspired prompt for in-context learning.\n",
    "    Adapts the approach from https://arxiv.org/pdf/2311.16452.pdf\n",
    "    \"\"\"\n",
    "    # Extract the case information\n",
    "    case_title = case_data[\"title\"]\n",
    "    case_text = case_data[\"case_text\"]\n",
    "    \n",
    "    # Format the examples with reasoning\n",
    "    formatted_examples = \"\"\n",
    "    for i, example in enumerate(similar_cases):\n",
    "        formatted_examples += f\"\"\"\n",
    "## Example Case {i+1}: {example['title']}\n",
    "\n",
    "### Problem:\n",
    "{example['case_text'][:2000] if 'case_text' in example else \"Case details not available\"}\n",
    "\n",
    "### Step-by-Step Solution:\n",
    "{example['solution']}\n",
    "\n",
    "\"\"\"\n",
    "    \n",
    "    # Create the full prompt with MedPrompt-inspired structure\n",
    "    prompt = f\"\"\"# Maritime Logistics Specialist Assignment\n",
    "\n",
    "You are an expert maritime logistics consultant specializing in international container shipping, port operations, and supply chain management. Your task is to solve a complex maritime logistics case by providing:\n",
    "1. A clear understanding of the situation\n",
    "2. A comprehensive analysis of the challenges\n",
    "3. Strategic solutions and recommendations\n",
    "4. Implementation steps and contingency plans\n",
    "\n",
    "## Guidelines:\n",
    "- Analyze every relevant aspect of the maritime logistics case\n",
    "- Provide practical, actionable solutions grounded in industry best practices\n",
    "- Consider regulatory compliance, cost implications, and operational feasibility\n",
    "- Structure your response with clear sections and bullet points where appropriate\n",
    "\n",
    "## Previous Similar Cases:\n",
    "{formatted_examples}\n",
    "\n",
    "## New Case to Solve:\n",
    "\n",
    "### Case Title: {case_title}\n",
    "\n",
    "### Problem Description:\n",
    "{case_text}\n",
    "\n",
    "## Your Solution:\n",
    "\n",
    "Start by analyzing the situation and identifying key challenges. Then develop a comprehensive solution with specific recommendations. Use the following structure:\n",
    "\n",
    "1. Executive Summary\n",
    "2. Situation Analysis\n",
    "3. Key Challenges\n",
    "4. Strategic Recommendations\n",
    "5. Implementation Plan\n",
    "6. Contingency Options\n",
    "\n",
    "Please provide your detailed solution now:\n",
    "\"\"\"\n",
    "    \n",
    "    return prompt"
   ]
  },
  {
   "cell_type": "markdown",
   "metadata": {},
   "source": [
    "## 6. Set Up Model\n"
   ]
  },
  {
   "cell_type": "code",
   "execution_count": null,
   "metadata": {},
   "outputs": [
    {
     "name": "stdout",
     "output_type": "stream",
     "text": [
      "\n",
      "Setting up Gemma 3 model for ICL...\n",
      "✅ Model gemma-3-27b-it is available and working\n",
      "Final model selection: gemma-3-27b-it\n",
      "\n",
      "Note: We'll use gemini-2.5-pro-exp-03-25 as judge for evaluation later\n"
     ]
    }
   ],
   "source": [
    "# Set up the model\n",
    "print(\"\\nSetting up Gemma 3 model for ICL...\")\n",
    "\n",
    "# Directly specify the Gemma 3 model for consistency with baseline\n",
    "try:\n",
    "    # Use the same model as in baseline tests\n",
    "    model_name = \"gemma-3-27b-it\"\n",
    "    \n",
    "    # Test if we can access the model\n",
    "    model = genai.GenerativeModel(model_name=model_name)\n",
    "    \n",
    "    # Try a simple generation to verify access\n",
    "    test_response = model.generate_content(\"Test\")\n",
    "    print(f\"✅ Model {model_name} is available and working\")\n",
    "\n",
    "except Exception as e:\n",
    "    print(f\"⚠️ Could not access Gemma 3 model. Error: {str(e)}\")\n",
    "    print(\"Falling back to Gemini 2.0 Flash Light...\")\n",
    "    model_name = \"gemini-2.0-flash-lite\"  # Fallback option\n",
    "    \n",
    "    try:\n",
    "        # Verify the fallback model works\n",
    "        model = genai.GenerativeModel(model_name=model_name)\n",
    "        test_response = model.generate_content(\"Test\")\n",
    "        print(f\"✅ Fallback model {model_name} is available and working\")\n",
    "    except Exception as e:\n",
    "        print(f\"⚠️ Error with fallback model: {str(e)}\")\n",
    "        print(\"Please check your API key and access privileges\")\n",
    "    \n",
    "print(f\"Final model selection: {model_name}\")\n",
    "\n",
    "# Note for future evaluation\n",
    "print(\"\\nNote: We'll use gemini-2.5-pro-exp-03-25 as judge for evaluation later\")"
   ]
  },
  {
   "cell_type": "markdown",
   "metadata": {},
   "source": [
    "# 7. Create Results Directory and Solution Generator Function"
   ]
  },
  {
   "cell_type": "code",
   "execution_count": 28,
   "metadata": {},
   "outputs": [],
   "source": [
    "# Create results directory\n",
    "results_dir = Path(\"../Results/ICL_Gemma3\")\n",
    "results_dir.mkdir(parents=True, exist_ok=True)"
   ]
  },
  {
   "cell_type": "code",
   "execution_count": 29,
   "metadata": {},
   "outputs": [
    {
     "name": "stdout",
     "output_type": "stream",
     "text": [
      "\n",
      "Debugging similar cases structure:\n",
      "Case 1 keys: dict_keys(['title', 'case_id', 'solution', 'similarity_score'])\n",
      "Sample content - Title: Jade Dragons Baltic Icebreaker: Navigating Congestion and Compliance\n",
      "Similarity score: 0.88570917\n",
      "Case 2 keys: dict_keys(['title', 'case_id', 'solution', 'similarity_score'])\n",
      "Sample content - Title: Baltic Bottleneck: Navigating EU ETS and Customs Challenges for Golden Dragon Lines\n",
      "Similarity score: 0.88523304\n",
      "\n",
      "Test result for case: Baltic Bottleneck: Navigating Congestion and Compliance in Alpha Shippings Asia-Europe Route\n",
      "Examples used:\n",
      " - Jade Dragons Baltic Icebreaker: Navigating Congestion and Compliance (Similarity: 0.89)\n",
      " - Baltic Bottleneck: Navigating EU ETS and Customs Challenges for Golden Dragon Lines (Similarity: 0.89)\n",
      "Solution (first 200 chars): ## Executive Summary\n",
      "\n",
      "Alpha Shipping is facing a critical challenge balancing cost, speed, and reliability in its Asia-Europe/Baltic route. The core issues are congestion in North Sea ports (Rotterdam...\n"
     ]
    }
   ],
   "source": [
    "# Print the keys in similar_cases to debug more thoroughly\n",
    "print(\"\\nDebugging similar cases structure:\")\n",
    "for i, case in enumerate(similar_cases):\n",
    "    print(f\"Case {i+1} keys: {case.keys()}\")\n",
    "    print(f\"Sample content - Title: {case['title']}\")\n",
    "    print(f\"Similarity score: {case['similarity_score']}\")\n",
    "\n",
    "# Update our ICL solution generator to match the actual data structure\n",
    "def generate_icl_solution_v2(case_data, similar_cases, model_name=model_name):\n",
    "    \"\"\"Generate a solution using in-context learning with similar cases - adapted for our data structure\"\"\"\n",
    "    \n",
    "    # Create prompt with examples\n",
    "    prompt = f\"\"\"Please analyze and solve the following maritime logistics case.\n",
    "I'll provide you with two similar cases and their solutions for reference.\n",
    "\n",
    "### Example Case 1: {similar_cases[0]['title']}\n",
    "Solution:\n",
    "{similar_cases[0]['solution'][:2000]}...\n",
    "\n",
    "### Example Case 2: {similar_cases[1]['title']}\n",
    "Solution:\n",
    "{similar_cases[1]['solution'][:2000]}...\n",
    "\n",
    "### Current Case to Solve: {case_data['title']}\n",
    "{case_data['case_text']}\n",
    "\n",
    "Please provide a comprehensive solution following a similar structure to the example solutions.\"\"\"\n",
    "\n",
    "    try:\n",
    "        # Generate response using the model we verified earlier\n",
    "        model = genai.GenerativeModel(model_name=model_name)\n",
    "        response = model.generate_content(\n",
    "            prompt,\n",
    "            generation_config=genai.types.GenerationConfig(\n",
    "                temperature=0.7,\n",
    "                max_output_tokens=8192,\n",
    "            )\n",
    "        )\n",
    "        \n",
    "        # Return results with metadata for analysis\n",
    "        return {\n",
    "            \"case_id\": case_data[\"case_id\"],\n",
    "            \"title\": case_data[\"title\"],\n",
    "            \"solution\": response.text,\n",
    "            \"examples_used\": [\n",
    "                {\"case_id\": case[\"case_id\"], \"title\": case[\"title\"], \"similarity_score\": case[\"similarity_score\"]} \n",
    "                for case in similar_cases\n",
    "            ],\n",
    "            \"model\": model_name,\n",
    "            \"prompt_length\": len(prompt)\n",
    "        }\n",
    "    \n",
    "    except Exception as e:\n",
    "        print(f\"Error generating solution for case {case_data['case_id']}: {e}\")\n",
    "        return None\n",
    "\n",
    "# Use the updated function directly with similar_cases\n",
    "test_result = generate_icl_solution_v2(test_case, similar_cases)\n",
    "\n",
    "print(f\"\\nTest result for case: {test_result['title']}\")\n",
    "print(f\"Examples used:\")\n",
    "for ex in test_result[\"examples_used\"]:\n",
    "    print(f\" - {ex['title']} (Similarity: {ex['similarity_score']:.2f})\")\n",
    "print(f\"Solution (first 200 chars): {test_result['solution'][:200]}...\")"
   ]
  },
  {
   "cell_type": "markdown",
   "metadata": {},
   "source": [
    "# 8. Test with a Single Case\n"
   ]
  },
  {
   "cell_type": "code",
   "execution_count": 30,
   "metadata": {},
   "outputs": [
    {
     "name": "stdout",
     "output_type": "stream",
     "text": [
      "\n",
      "Testing ICL with a single case...\n",
      "Retrieving similar cases for in-context learning...\n"
     ]
    }
   ],
   "source": [
    "# Test with a single case first\n",
    "print(\"\\nTesting ICL with a single case...\")\n",
    "test_case = test_cases[4]\n",
    "\n",
    "# First retrieve similar cases (this was missing)\n",
    "print(\"Retrieving similar cases for in-context learning...\")\n",
    "similar_cases = retrieve_similar_cases(\n",
    "    test_case[\"case_text\"],\n",
    "    num_examples=2,\n",
    "    collection_name=\"icl_logistics_case_examples\"  # Make sure this matches your collection name\n",
    ")"
   ]
  },
  {
   "cell_type": "code",
   "execution_count": 31,
   "metadata": {},
   "outputs": [
    {
     "data": {
      "text/plain": [
       "2"
      ]
     },
     "execution_count": 31,
     "metadata": {},
     "output_type": "execute_result"
    }
   ],
   "source": [
    "len(similar_cases)"
   ]
  },
  {
   "cell_type": "code",
   "execution_count": 32,
   "metadata": {},
   "outputs": [
    {
     "name": "stdout",
     "output_type": "stream",
     "text": [
      "✅ Retrieved exactly 2 similar cases - optimal for ICL\n"
     ]
    }
   ],
   "source": [
    "# Check the number of retrieved similar cases\n",
    "num_cases = len(similar_cases)\n",
    "\n",
    "if num_cases < 2:\n",
    "    print(f\"⚠️ Only found {num_cases} similar cases, needed at least 2\")\n",
    "    if num_cases == 0:\n",
    "        print(\"Cannot proceed with ICL - no examples found\")\n",
    "    else:\n",
    "        print(\"Will proceed with limited examples\")\n",
    "elif num_cases == 2:\n",
    "    print(\"✅ Retrieved exactly 2 similar cases - optimal for ICL\")\n",
    "else:\n",
    "    print(f\"⚠️ Retrieved {num_cases} cases - will use top 2 to maintain optimal context window size\")\n",
    "    similar_cases = similar_cases[:2]  # Keep only top 2 most similar cases"
   ]
  },
  {
   "cell_type": "code",
   "execution_count": 33,
   "metadata": {},
   "outputs": [
    {
     "name": "stdout",
     "output_type": "stream",
     "text": [
      "Keys in similar cases: dict_keys(['title', 'case_id', 'solution', 'similarity_score'])\n",
      "Number of similar cases retrieved: 2\n",
      "\n",
      "Test result for case: Navigating Arctic Ambitions: A Polar Silk Route Dilemma\n",
      "Examples used:\n",
      " - Arctic Peril: GlobalTechs Smartphone Shipment and the Northern Sea Route Gamble (Similarity: 0.8732)\n",
      " - Jade Dragons Baltic Icebreaker: Navigating Congestion and Compliance (Similarity: 0.8666)\n",
      "Solution (first 300 chars): ## Navigating Arctic Ambitions: A Polar Silk Route Dilemma - Solution\n",
      "\n",
      "## Executive Summary\n",
      "\n",
      "Nordic Star Logistics faces a complex routing decision for its high-value electronics shipment from Shanghai to Rotterdam. The Red Sea instability makes the Suez Canal route increasingly risky and costly. Wh...\n"
     ]
    }
   ],
   "source": [
    "# Check if we have similar cases\n",
    "if not similar_cases:\n",
    "    print(\"No similar cases retrieved!\")\n",
    "else:\n",
    "    # Print the keys in first similar case for debugging\n",
    "    print(f\"Keys in similar cases: {similar_cases[0].keys()}\")\n",
    "    print(f\"Number of similar cases retrieved: {len(similar_cases)}\")\n",
    "\n",
    "    # Make sure we have at least 2 cases for ICL\n",
    "    if len(similar_cases) < 2:\n",
    "        print(\"⚠️ Not enough similar cases for effective ICL. We need at least 2.\")\n",
    "        # If needed, pad with dummy cases or skip ICL\n",
    "    else:\n",
    "        # Keep only the top 2 most similar cases\n",
    "        similar_cases = similar_cases[:2]\n",
    "        \n",
    "        # Generate the ICL solution directly (no need to add case_text)\n",
    "        test_result = generate_icl_solution_v2(test_case, similar_cases)\n",
    "        \n",
    "        print(f\"\\nTest result for case: {test_result['title']}\")\n",
    "        print(f\"Examples used:\")\n",
    "        for ex in test_result[\"examples_used\"]:\n",
    "            print(f\" - {ex['title']} (Similarity: {ex['similarity_score']:.4f})\")\n",
    "        print(f\"Solution (first 300 chars): {test_result['solution'][:300]}...\")"
   ]
  },
  {
   "cell_type": "markdown",
   "metadata": {},
   "source": [
    "## 9. Save Test Result"
   ]
  },
  {
   "cell_type": "code",
   "execution_count": 34,
   "metadata": {},
   "outputs": [
    {
     "name": "stdout",
     "output_type": "stream",
     "text": [
      "Saved test result to ../Results/ICL_Gemma3/case-20250330-073349-b2bxaz_icl_test.json\n"
     ]
    }
   ],
   "source": [
    "\n",
    "# Save this test result\n",
    "test_file = results_dir / f\"{test_case['case_id']}_icl_test.json\"\n",
    "with open(test_file, 'w') as f:\n",
    "    json.dump(test_result, f, indent=2)\n",
    "\n",
    "print(f\"Saved test result to {test_file}\")"
   ]
  },
  {
   "cell_type": "markdown",
   "metadata": {},
   "source": [
    "## 10. Prompt to Process All Cases\n"
   ]
  },
  {
   "cell_type": "code",
   "execution_count": 36,
   "metadata": {},
   "outputs": [],
   "source": [
    "def generate_solution_with_icl(case):\n",
    "    \"\"\"Generate a solution for a case using in-context learning with similar cases\"\"\"\n",
    "    \n",
    "    # Retrieve similar cases for the current case\n",
    "    similar_cases = retrieve_similar_cases(\n",
    "        case[\"case_text\"],\n",
    "        num_examples=2,\n",
    "        collection_name=\"icl_logistics_case_examples\"\n",
    "    )\n",
    "    \n",
    "    # Check number of cases retrieved\n",
    "    num_cases = len(similar_cases)\n",
    "    \n",
    "    if num_cases < 2:\n",
    "        print(f\"⚠️ Case {case['case_id']}: Only found {num_cases} similar cases, needed at least 2\")\n",
    "        if num_cases == 0:\n",
    "            print(f\"⚠️ Cannot proceed with ICL for case {case['case_id']} - no examples found\")\n",
    "            # Return error result\n",
    "            return {\n",
    "                \"case_id\": case[\"case_id\"],\n",
    "                \"title\": case[\"title\"],\n",
    "                \"solution\": \"ERROR: Could not retrieve any similar cases for ICL.\",\n",
    "                \"examples_used\": [],\n",
    "                \"model\": model_name,\n",
    "                \"prompt_length\": 0,\n",
    "                \"error\": \"No similar cases found\"\n",
    "            }\n",
    "    elif num_cases > 2:\n",
    "        # Keep only top 2 most similar cases\n",
    "        similar_cases = similar_cases[:2]\n",
    "    \n",
    "    # Generate the solution using our tested function\n",
    "    result = generate_icl_solution_v2(case, similar_cases)\n",
    "    return result"
   ]
  },
  {
   "cell_type": "code",
   "execution_count": 37,
   "metadata": {},
   "outputs": [
    {
     "name": "stdout",
     "output_type": "stream",
     "text": [
      "Starting caffeinate to prevent Mac from sleeping...\n"
     ]
    }
   ],
   "source": [
    "# Start Caffeinate to Prevent Mac from Sleeping\n",
    "print(\"Starting caffeinate to prevent Mac from sleeping...\")\n",
    "caffeinate_process = subprocess.Popen([\"caffeinate\", \"-i\", \"-d\", \"-m\"], \n",
    "                                     stdout=subprocess.DEVNULL, \n",
    "                                     stderr=subprocess.DEVNULL)"
   ]
  },
  {
   "cell_type": "code",
   "execution_count": 38,
   "metadata": {},
   "outputs": [
    {
     "name": "stdout",
     "output_type": "stream",
     "text": [
      "Caffeinate already running...\n",
      "\n",
      "Running ICL test on all 62 cases...\n"
     ]
    },
    {
     "data": {
      "application/vnd.jupyter.widget-view+json": {
       "model_id": "773368a311804a38ac44b5249bcd2859",
       "version_major": 2,
       "version_minor": 0
      },
      "text/plain": [
       "  0%|          | 0/62 [00:00<?, ?it/s]"
      ]
     },
     "metadata": {},
     "output_type": "display_data"
    },
    {
     "name": "stdout",
     "output_type": "stream",
     "text": [
      "Error generating embedding: Invalid input: 'content' argument must not be empty. Please provide a non-empty value.\n",
      "⚠️ Failed to generate embedding for the case\n",
      "⚠️ Case 7242ee78-fcb8-4884-a7b4-b9552a9e7e3e: Only found 0 similar cases, needed at least 2\n",
      "⚠️ Cannot proceed with ICL for case 7242ee78-fcb8-4884-a7b4-b9552a9e7e3e - no examples found\n",
      "Error generating solution for case case-20250330-073112-b45c1i: 429 You exceeded your current quota, please check your plan and billing details. For more information on this error, head to: https://ai.google.dev/gemini-api/docs/rate-limits. [violations {\n",
      "}\n",
      ", links {\n",
      "  description: \"Learn more about Gemini API quotas\"\n",
      "  url: \"https://ai.google.dev/gemini-api/docs/rate-limits\"\n",
      "}\n",
      ", retry_delay {\n",
      "  seconds: 19\n",
      "}\n",
      "]\n",
      "Error generating solution for case case-20250330-083816-msklnc: 429 You exceeded your current quota, please check your plan and billing details. For more information on this error, head to: https://ai.google.dev/gemini-api/docs/rate-limits. [violations {\n",
      "}\n",
      ", links {\n",
      "  description: \"Learn more about Gemini API quotas\"\n",
      "  url: \"https://ai.google.dev/gemini-api/docs/rate-limits\"\n",
      "}\n",
      ", retry_delay {\n",
      "  seconds: 13\n",
      "}\n",
      "]\n",
      "Error generating solution for case case-20250329-203033-kyu18s: 429 You exceeded your current quota, please check your plan and billing details. For more information on this error, head to: https://ai.google.dev/gemini-api/docs/rate-limits. [violations {\n",
      "}\n",
      ", links {\n",
      "  description: \"Learn more about Gemini API quotas\"\n",
      "  url: \"https://ai.google.dev/gemini-api/docs/rate-limits\"\n",
      "}\n",
      ", retry_delay {\n",
      "  seconds: 7\n",
      "}\n",
      "]\n",
      "Error generating solution for case case-20250329-082305-gsa3jz: 429 You exceeded your current quota, please check your plan and billing details. For more information on this error, head to: https://ai.google.dev/gemini-api/docs/rate-limits. [violations {\n",
      "}\n",
      ", links {\n",
      "  description: \"Learn more about Gemini API quotas\"\n",
      "  url: \"https://ai.google.dev/gemini-api/docs/rate-limits\"\n",
      "}\n",
      ", retry_delay {\n",
      "  seconds: 1\n",
      "}\n",
      "]\n",
      "Terminating caffeinate - your Mac can sleep again...\n"
     ]
    },
    {
     "ename": "KeyboardInterrupt",
     "evalue": "",
     "output_type": "error",
     "traceback": [
      "\u001b[0;31m---------------------------------------------------------------------------\u001b[0m",
      "\u001b[0;31mKeyboardInterrupt\u001b[0m                         Traceback (most recent call last)",
      "Cell \u001b[0;32mIn[38], line 18\u001b[0m\n\u001b[1;32m     15\u001b[0m \u001b[38;5;28;01mtry\u001b[39;00m:\n\u001b[1;32m     16\u001b[0m     \u001b[38;5;28;01mfor\u001b[39;00m i, case \u001b[38;5;129;01min\u001b[39;00m \u001b[38;5;28menumerate\u001b[39m(tqdm(test_cases)):\n\u001b[1;32m     17\u001b[0m         \u001b[38;5;66;03m# Generate solution using the newly defined function\u001b[39;00m\n\u001b[0;32m---> 18\u001b[0m         result \u001b[38;5;241m=\u001b[39m \u001b[43mgenerate_solution_with_icl\u001b[49m\u001b[43m(\u001b[49m\u001b[43mcase\u001b[49m\u001b[43m)\u001b[49m\n\u001b[1;32m     19\u001b[0m         results\u001b[38;5;241m.\u001b[39mappend(result)\n\u001b[1;32m     21\u001b[0m         \u001b[38;5;66;03m# Save the individual result\u001b[39;00m\n",
      "Cell \u001b[0;32mIn[36], line 33\u001b[0m, in \u001b[0;36mgenerate_solution_with_icl\u001b[0;34m(case)\u001b[0m\n\u001b[1;32m     30\u001b[0m     similar_cases \u001b[38;5;241m=\u001b[39m similar_cases[:\u001b[38;5;241m2\u001b[39m]\n\u001b[1;32m     32\u001b[0m \u001b[38;5;66;03m# Generate the solution using our tested function\u001b[39;00m\n\u001b[0;32m---> 33\u001b[0m result \u001b[38;5;241m=\u001b[39m \u001b[43mgenerate_icl_solution_v2\u001b[49m\u001b[43m(\u001b[49m\u001b[43mcase\u001b[49m\u001b[43m,\u001b[49m\u001b[43m \u001b[49m\u001b[43msimilar_cases\u001b[49m\u001b[43m)\u001b[49m\n\u001b[1;32m     34\u001b[0m \u001b[38;5;28;01mreturn\u001b[39;00m result\n",
      "Cell \u001b[0;32mIn[29], line 32\u001b[0m, in \u001b[0;36mgenerate_icl_solution_v2\u001b[0;34m(case_data, similar_cases, model_name)\u001b[0m\n\u001b[1;32m     29\u001b[0m \u001b[38;5;28;01mtry\u001b[39;00m:\n\u001b[1;32m     30\u001b[0m     \u001b[38;5;66;03m# Generate response using the model we verified earlier\u001b[39;00m\n\u001b[1;32m     31\u001b[0m     model \u001b[38;5;241m=\u001b[39m genai\u001b[38;5;241m.\u001b[39mGenerativeModel(model_name\u001b[38;5;241m=\u001b[39mmodel_name)\n\u001b[0;32m---> 32\u001b[0m     response \u001b[38;5;241m=\u001b[39m \u001b[43mmodel\u001b[49m\u001b[38;5;241;43m.\u001b[39;49m\u001b[43mgenerate_content\u001b[49m\u001b[43m(\u001b[49m\n\u001b[1;32m     33\u001b[0m \u001b[43m        \u001b[49m\u001b[43mprompt\u001b[49m\u001b[43m,\u001b[49m\n\u001b[1;32m     34\u001b[0m \u001b[43m        \u001b[49m\u001b[43mgeneration_config\u001b[49m\u001b[38;5;241;43m=\u001b[39;49m\u001b[43mgenai\u001b[49m\u001b[38;5;241;43m.\u001b[39;49m\u001b[43mtypes\u001b[49m\u001b[38;5;241;43m.\u001b[39;49m\u001b[43mGenerationConfig\u001b[49m\u001b[43m(\u001b[49m\n\u001b[1;32m     35\u001b[0m \u001b[43m            \u001b[49m\u001b[43mtemperature\u001b[49m\u001b[38;5;241;43m=\u001b[39;49m\u001b[38;5;241;43m0.7\u001b[39;49m\u001b[43m,\u001b[49m\n\u001b[1;32m     36\u001b[0m \u001b[43m            \u001b[49m\u001b[43mmax_output_tokens\u001b[49m\u001b[38;5;241;43m=\u001b[39;49m\u001b[38;5;241;43m8192\u001b[39;49m\u001b[43m,\u001b[49m\n\u001b[1;32m     37\u001b[0m \u001b[43m        \u001b[49m\u001b[43m)\u001b[49m\n\u001b[1;32m     38\u001b[0m \u001b[43m    \u001b[49m\u001b[43m)\u001b[49m\n\u001b[1;32m     40\u001b[0m     \u001b[38;5;66;03m# Return results with metadata for analysis\u001b[39;00m\n\u001b[1;32m     41\u001b[0m     \u001b[38;5;28;01mreturn\u001b[39;00m {\n\u001b[1;32m     42\u001b[0m         \u001b[38;5;124m\"\u001b[39m\u001b[38;5;124mcase_id\u001b[39m\u001b[38;5;124m\"\u001b[39m: case_data[\u001b[38;5;124m\"\u001b[39m\u001b[38;5;124mcase_id\u001b[39m\u001b[38;5;124m\"\u001b[39m],\n\u001b[1;32m     43\u001b[0m         \u001b[38;5;124m\"\u001b[39m\u001b[38;5;124mtitle\u001b[39m\u001b[38;5;124m\"\u001b[39m: case_data[\u001b[38;5;124m\"\u001b[39m\u001b[38;5;124mtitle\u001b[39m\u001b[38;5;124m\"\u001b[39m],\n\u001b[0;32m   (...)\u001b[0m\n\u001b[1;32m     50\u001b[0m         \u001b[38;5;124m\"\u001b[39m\u001b[38;5;124mprompt_length\u001b[39m\u001b[38;5;124m\"\u001b[39m: \u001b[38;5;28mlen\u001b[39m(prompt)\n\u001b[1;32m     51\u001b[0m     }\n",
      "File \u001b[0;32m~/miniconda3/envs/tsi/lib/python3.11/site-packages/google/generativeai/generative_models.py:331\u001b[0m, in \u001b[0;36mGenerativeModel.generate_content\u001b[0;34m(self, contents, generation_config, safety_settings, stream, tools, tool_config, request_options)\u001b[0m\n\u001b[1;32m    329\u001b[0m         \u001b[38;5;28;01mreturn\u001b[39;00m generation_types\u001b[38;5;241m.\u001b[39mGenerateContentResponse\u001b[38;5;241m.\u001b[39mfrom_iterator(iterator)\n\u001b[1;32m    330\u001b[0m     \u001b[38;5;28;01melse\u001b[39;00m:\n\u001b[0;32m--> 331\u001b[0m         response \u001b[38;5;241m=\u001b[39m \u001b[38;5;28;43mself\u001b[39;49m\u001b[38;5;241;43m.\u001b[39;49m\u001b[43m_client\u001b[49m\u001b[38;5;241;43m.\u001b[39;49m\u001b[43mgenerate_content\u001b[49m\u001b[43m(\u001b[49m\n\u001b[1;32m    332\u001b[0m \u001b[43m            \u001b[49m\u001b[43mrequest\u001b[49m\u001b[43m,\u001b[49m\n\u001b[1;32m    333\u001b[0m \u001b[43m            \u001b[49m\u001b[38;5;241;43m*\u001b[39;49m\u001b[38;5;241;43m*\u001b[39;49m\u001b[43mrequest_options\u001b[49m\u001b[43m,\u001b[49m\n\u001b[1;32m    334\u001b[0m \u001b[43m        \u001b[49m\u001b[43m)\u001b[49m\n\u001b[1;32m    335\u001b[0m         \u001b[38;5;28;01mreturn\u001b[39;00m generation_types\u001b[38;5;241m.\u001b[39mGenerateContentResponse\u001b[38;5;241m.\u001b[39mfrom_response(response)\n\u001b[1;32m    336\u001b[0m \u001b[38;5;28;01mexcept\u001b[39;00m google\u001b[38;5;241m.\u001b[39mapi_core\u001b[38;5;241m.\u001b[39mexceptions\u001b[38;5;241m.\u001b[39mInvalidArgument \u001b[38;5;28;01mas\u001b[39;00m e:\n",
      "File \u001b[0;32m~/miniconda3/envs/tsi/lib/python3.11/site-packages/google/ai/generativelanguage_v1beta/services/generative_service/client.py:830\u001b[0m, in \u001b[0;36mGenerativeServiceClient.generate_content\u001b[0;34m(self, request, model, contents, retry, timeout, metadata)\u001b[0m\n\u001b[1;32m    827\u001b[0m \u001b[38;5;28mself\u001b[39m\u001b[38;5;241m.\u001b[39m_validate_universe_domain()\n\u001b[1;32m    829\u001b[0m \u001b[38;5;66;03m# Send the request.\u001b[39;00m\n\u001b[0;32m--> 830\u001b[0m response \u001b[38;5;241m=\u001b[39m \u001b[43mrpc\u001b[49m\u001b[43m(\u001b[49m\n\u001b[1;32m    831\u001b[0m \u001b[43m    \u001b[49m\u001b[43mrequest\u001b[49m\u001b[43m,\u001b[49m\n\u001b[1;32m    832\u001b[0m \u001b[43m    \u001b[49m\u001b[43mretry\u001b[49m\u001b[38;5;241;43m=\u001b[39;49m\u001b[43mretry\u001b[49m\u001b[43m,\u001b[49m\n\u001b[1;32m    833\u001b[0m \u001b[43m    \u001b[49m\u001b[43mtimeout\u001b[49m\u001b[38;5;241;43m=\u001b[39;49m\u001b[43mtimeout\u001b[49m\u001b[43m,\u001b[49m\n\u001b[1;32m    834\u001b[0m \u001b[43m    \u001b[49m\u001b[43mmetadata\u001b[49m\u001b[38;5;241;43m=\u001b[39;49m\u001b[43mmetadata\u001b[49m\u001b[43m,\u001b[49m\n\u001b[1;32m    835\u001b[0m \u001b[43m\u001b[49m\u001b[43m)\u001b[49m\n\u001b[1;32m    837\u001b[0m \u001b[38;5;66;03m# Done; return the response.\u001b[39;00m\n\u001b[1;32m    838\u001b[0m \u001b[38;5;28;01mreturn\u001b[39;00m response\n",
      "File \u001b[0;32m~/miniconda3/envs/tsi/lib/python3.11/site-packages/google/api_core/gapic_v1/method.py:131\u001b[0m, in \u001b[0;36m_GapicCallable.__call__\u001b[0;34m(self, timeout, retry, compression, *args, **kwargs)\u001b[0m\n\u001b[1;32m    128\u001b[0m \u001b[38;5;28;01mif\u001b[39;00m \u001b[38;5;28mself\u001b[39m\u001b[38;5;241m.\u001b[39m_compression \u001b[38;5;129;01mis\u001b[39;00m \u001b[38;5;129;01mnot\u001b[39;00m \u001b[38;5;28;01mNone\u001b[39;00m:\n\u001b[1;32m    129\u001b[0m     kwargs[\u001b[38;5;124m\"\u001b[39m\u001b[38;5;124mcompression\u001b[39m\u001b[38;5;124m\"\u001b[39m] \u001b[38;5;241m=\u001b[39m compression\n\u001b[0;32m--> 131\u001b[0m \u001b[38;5;28;01mreturn\u001b[39;00m \u001b[43mwrapped_func\u001b[49m\u001b[43m(\u001b[49m\u001b[38;5;241;43m*\u001b[39;49m\u001b[43margs\u001b[49m\u001b[43m,\u001b[49m\u001b[43m \u001b[49m\u001b[38;5;241;43m*\u001b[39;49m\u001b[38;5;241;43m*\u001b[39;49m\u001b[43mkwargs\u001b[49m\u001b[43m)\u001b[49m\n",
      "File \u001b[0;32m~/miniconda3/envs/tsi/lib/python3.11/site-packages/google/api_core/retry/retry_unary.py:293\u001b[0m, in \u001b[0;36mRetry.__call__.<locals>.retry_wrapped_func\u001b[0;34m(*args, **kwargs)\u001b[0m\n\u001b[1;32m    289\u001b[0m target \u001b[38;5;241m=\u001b[39m functools\u001b[38;5;241m.\u001b[39mpartial(func, \u001b[38;5;241m*\u001b[39margs, \u001b[38;5;241m*\u001b[39m\u001b[38;5;241m*\u001b[39mkwargs)\n\u001b[1;32m    290\u001b[0m sleep_generator \u001b[38;5;241m=\u001b[39m exponential_sleep_generator(\n\u001b[1;32m    291\u001b[0m     \u001b[38;5;28mself\u001b[39m\u001b[38;5;241m.\u001b[39m_initial, \u001b[38;5;28mself\u001b[39m\u001b[38;5;241m.\u001b[39m_maximum, multiplier\u001b[38;5;241m=\u001b[39m\u001b[38;5;28mself\u001b[39m\u001b[38;5;241m.\u001b[39m_multiplier\n\u001b[1;32m    292\u001b[0m )\n\u001b[0;32m--> 293\u001b[0m \u001b[38;5;28;01mreturn\u001b[39;00m \u001b[43mretry_target\u001b[49m\u001b[43m(\u001b[49m\n\u001b[1;32m    294\u001b[0m \u001b[43m    \u001b[49m\u001b[43mtarget\u001b[49m\u001b[43m,\u001b[49m\n\u001b[1;32m    295\u001b[0m \u001b[43m    \u001b[49m\u001b[38;5;28;43mself\u001b[39;49m\u001b[38;5;241;43m.\u001b[39;49m\u001b[43m_predicate\u001b[49m\u001b[43m,\u001b[49m\n\u001b[1;32m    296\u001b[0m \u001b[43m    \u001b[49m\u001b[43msleep_generator\u001b[49m\u001b[43m,\u001b[49m\n\u001b[1;32m    297\u001b[0m \u001b[43m    \u001b[49m\u001b[43mtimeout\u001b[49m\u001b[38;5;241;43m=\u001b[39;49m\u001b[38;5;28;43mself\u001b[39;49m\u001b[38;5;241;43m.\u001b[39;49m\u001b[43m_timeout\u001b[49m\u001b[43m,\u001b[49m\n\u001b[1;32m    298\u001b[0m \u001b[43m    \u001b[49m\u001b[43mon_error\u001b[49m\u001b[38;5;241;43m=\u001b[39;49m\u001b[43mon_error\u001b[49m\u001b[43m,\u001b[49m\n\u001b[1;32m    299\u001b[0m \u001b[43m\u001b[49m\u001b[43m)\u001b[49m\n",
      "File \u001b[0;32m~/miniconda3/envs/tsi/lib/python3.11/site-packages/google/api_core/retry/retry_unary.py:144\u001b[0m, in \u001b[0;36mretry_target\u001b[0;34m(target, predicate, sleep_generator, timeout, on_error, exception_factory, **kwargs)\u001b[0m\n\u001b[1;32m    142\u001b[0m \u001b[38;5;28;01mfor\u001b[39;00m sleep \u001b[38;5;129;01min\u001b[39;00m sleep_generator:\n\u001b[1;32m    143\u001b[0m     \u001b[38;5;28;01mtry\u001b[39;00m:\n\u001b[0;32m--> 144\u001b[0m         result \u001b[38;5;241m=\u001b[39m \u001b[43mtarget\u001b[49m\u001b[43m(\u001b[49m\u001b[43m)\u001b[49m\n\u001b[1;32m    145\u001b[0m         \u001b[38;5;28;01mif\u001b[39;00m inspect\u001b[38;5;241m.\u001b[39misawaitable(result):\n\u001b[1;32m    146\u001b[0m             warnings\u001b[38;5;241m.\u001b[39mwarn(_ASYNC_RETRY_WARNING)\n",
      "File \u001b[0;32m~/miniconda3/envs/tsi/lib/python3.11/site-packages/google/api_core/timeout.py:130\u001b[0m, in \u001b[0;36mTimeToDeadlineTimeout.__call__.<locals>.func_with_timeout\u001b[0;34m(*args, **kwargs)\u001b[0m\n\u001b[1;32m    126\u001b[0m         remaining_timeout \u001b[38;5;241m=\u001b[39m \u001b[38;5;28mself\u001b[39m\u001b[38;5;241m.\u001b[39m_timeout\n\u001b[1;32m    128\u001b[0m     kwargs[\u001b[38;5;124m\"\u001b[39m\u001b[38;5;124mtimeout\u001b[39m\u001b[38;5;124m\"\u001b[39m] \u001b[38;5;241m=\u001b[39m remaining_timeout\n\u001b[0;32m--> 130\u001b[0m \u001b[38;5;28;01mreturn\u001b[39;00m \u001b[43mfunc\u001b[49m\u001b[43m(\u001b[49m\u001b[38;5;241;43m*\u001b[39;49m\u001b[43margs\u001b[49m\u001b[43m,\u001b[49m\u001b[43m \u001b[49m\u001b[38;5;241;43m*\u001b[39;49m\u001b[38;5;241;43m*\u001b[39;49m\u001b[43mkwargs\u001b[49m\u001b[43m)\u001b[49m\n",
      "File \u001b[0;32m~/miniconda3/envs/tsi/lib/python3.11/site-packages/google/api_core/grpc_helpers.py:76\u001b[0m, in \u001b[0;36m_wrap_unary_errors.<locals>.error_remapped_callable\u001b[0;34m(*args, **kwargs)\u001b[0m\n\u001b[1;32m     73\u001b[0m \u001b[38;5;129m@functools\u001b[39m\u001b[38;5;241m.\u001b[39mwraps(callable_)\n\u001b[1;32m     74\u001b[0m \u001b[38;5;28;01mdef\u001b[39;00m \u001b[38;5;21merror_remapped_callable\u001b[39m(\u001b[38;5;241m*\u001b[39margs, \u001b[38;5;241m*\u001b[39m\u001b[38;5;241m*\u001b[39mkwargs):\n\u001b[1;32m     75\u001b[0m     \u001b[38;5;28;01mtry\u001b[39;00m:\n\u001b[0;32m---> 76\u001b[0m         \u001b[38;5;28;01mreturn\u001b[39;00m \u001b[43mcallable_\u001b[49m\u001b[43m(\u001b[49m\u001b[38;5;241;43m*\u001b[39;49m\u001b[43margs\u001b[49m\u001b[43m,\u001b[49m\u001b[43m \u001b[49m\u001b[38;5;241;43m*\u001b[39;49m\u001b[38;5;241;43m*\u001b[39;49m\u001b[43mkwargs\u001b[49m\u001b[43m)\u001b[49m\n\u001b[1;32m     77\u001b[0m     \u001b[38;5;28;01mexcept\u001b[39;00m grpc\u001b[38;5;241m.\u001b[39mRpcError \u001b[38;5;28;01mas\u001b[39;00m exc:\n\u001b[1;32m     78\u001b[0m         \u001b[38;5;28;01mraise\u001b[39;00m exceptions\u001b[38;5;241m.\u001b[39mfrom_grpc_error(exc) \u001b[38;5;28;01mfrom\u001b[39;00m \u001b[38;5;21;01mexc\u001b[39;00m\n",
      "File \u001b[0;32m~/miniconda3/envs/tsi/lib/python3.11/site-packages/grpc/_channel.py:1178\u001b[0m, in \u001b[0;36m_UnaryUnaryMultiCallable.__call__\u001b[0;34m(self, request, timeout, metadata, credentials, wait_for_ready, compression)\u001b[0m\n\u001b[1;32m   1166\u001b[0m \u001b[38;5;28;01mdef\u001b[39;00m \u001b[38;5;21m__call__\u001b[39m(\n\u001b[1;32m   1167\u001b[0m     \u001b[38;5;28mself\u001b[39m,\n\u001b[1;32m   1168\u001b[0m     request: Any,\n\u001b[0;32m   (...)\u001b[0m\n\u001b[1;32m   1173\u001b[0m     compression: Optional[grpc\u001b[38;5;241m.\u001b[39mCompression] \u001b[38;5;241m=\u001b[39m \u001b[38;5;28;01mNone\u001b[39;00m,\n\u001b[1;32m   1174\u001b[0m ) \u001b[38;5;241m-\u001b[39m\u001b[38;5;241m>\u001b[39m Any:\n\u001b[1;32m   1175\u001b[0m     (\n\u001b[1;32m   1176\u001b[0m         state,\n\u001b[1;32m   1177\u001b[0m         call,\n\u001b[0;32m-> 1178\u001b[0m     ) \u001b[38;5;241m=\u001b[39m \u001b[38;5;28;43mself\u001b[39;49m\u001b[38;5;241;43m.\u001b[39;49m\u001b[43m_blocking\u001b[49m\u001b[43m(\u001b[49m\n\u001b[1;32m   1179\u001b[0m \u001b[43m        \u001b[49m\u001b[43mrequest\u001b[49m\u001b[43m,\u001b[49m\u001b[43m \u001b[49m\u001b[43mtimeout\u001b[49m\u001b[43m,\u001b[49m\u001b[43m \u001b[49m\u001b[43mmetadata\u001b[49m\u001b[43m,\u001b[49m\u001b[43m \u001b[49m\u001b[43mcredentials\u001b[49m\u001b[43m,\u001b[49m\u001b[43m \u001b[49m\u001b[43mwait_for_ready\u001b[49m\u001b[43m,\u001b[49m\u001b[43m \u001b[49m\u001b[43mcompression\u001b[49m\n\u001b[1;32m   1180\u001b[0m \u001b[43m    \u001b[49m\u001b[43m)\u001b[49m\n\u001b[1;32m   1181\u001b[0m     \u001b[38;5;28;01mreturn\u001b[39;00m _end_unary_response_blocking(state, call, \u001b[38;5;28;01mFalse\u001b[39;00m, \u001b[38;5;28;01mNone\u001b[39;00m)\n",
      "File \u001b[0;32m~/miniconda3/envs/tsi/lib/python3.11/site-packages/grpc/_channel.py:1162\u001b[0m, in \u001b[0;36m_UnaryUnaryMultiCallable._blocking\u001b[0;34m(self, request, timeout, metadata, credentials, wait_for_ready, compression)\u001b[0m\n\u001b[1;32m   1145\u001b[0m state\u001b[38;5;241m.\u001b[39mtarget \u001b[38;5;241m=\u001b[39m _common\u001b[38;5;241m.\u001b[39mdecode(\u001b[38;5;28mself\u001b[39m\u001b[38;5;241m.\u001b[39m_target)\n\u001b[1;32m   1146\u001b[0m call \u001b[38;5;241m=\u001b[39m \u001b[38;5;28mself\u001b[39m\u001b[38;5;241m.\u001b[39m_channel\u001b[38;5;241m.\u001b[39msegregated_call(\n\u001b[1;32m   1147\u001b[0m     cygrpc\u001b[38;5;241m.\u001b[39mPropagationConstants\u001b[38;5;241m.\u001b[39mGRPC_PROPAGATE_DEFAULTS,\n\u001b[1;32m   1148\u001b[0m     \u001b[38;5;28mself\u001b[39m\u001b[38;5;241m.\u001b[39m_method,\n\u001b[0;32m   (...)\u001b[0m\n\u001b[1;32m   1160\u001b[0m     \u001b[38;5;28mself\u001b[39m\u001b[38;5;241m.\u001b[39m_registered_call_handle,\n\u001b[1;32m   1161\u001b[0m )\n\u001b[0;32m-> 1162\u001b[0m event \u001b[38;5;241m=\u001b[39m \u001b[43mcall\u001b[49m\u001b[38;5;241;43m.\u001b[39;49m\u001b[43mnext_event\u001b[49m\u001b[43m(\u001b[49m\u001b[43m)\u001b[49m\n\u001b[1;32m   1163\u001b[0m _handle_event(event, state, \u001b[38;5;28mself\u001b[39m\u001b[38;5;241m.\u001b[39m_response_deserializer)\n\u001b[1;32m   1164\u001b[0m \u001b[38;5;28;01mreturn\u001b[39;00m state, call\n",
      "File \u001b[0;32msrc/python/grpcio/grpc/_cython/_cygrpc/channel.pyx.pxi:388\u001b[0m, in \u001b[0;36mgrpc._cython.cygrpc.SegregatedCall.next_event\u001b[0;34m()\u001b[0m\n",
      "File \u001b[0;32msrc/python/grpcio/grpc/_cython/_cygrpc/channel.pyx.pxi:211\u001b[0m, in \u001b[0;36mgrpc._cython.cygrpc._next_call_event\u001b[0;34m()\u001b[0m\n",
      "File \u001b[0;32msrc/python/grpcio/grpc/_cython/_cygrpc/channel.pyx.pxi:205\u001b[0m, in \u001b[0;36mgrpc._cython.cygrpc._next_call_event\u001b[0;34m()\u001b[0m\n",
      "File \u001b[0;32msrc/python/grpcio/grpc/_cython/_cygrpc/completion_queue.pyx.pxi:78\u001b[0m, in \u001b[0;36mgrpc._cython.cygrpc._latent_event\u001b[0;34m()\u001b[0m\n",
      "File \u001b[0;32msrc/python/grpcio/grpc/_cython/_cygrpc/completion_queue.pyx.pxi:61\u001b[0m, in \u001b[0;36mgrpc._cython.cygrpc._internal_latent_event\u001b[0;34m()\u001b[0m\n",
      "File \u001b[0;32msrc/python/grpcio/grpc/_cython/_cygrpc/completion_queue.pyx.pxi:42\u001b[0m, in \u001b[0;36mgrpc._cython.cygrpc._next\u001b[0;34m()\u001b[0m\n",
      "\u001b[0;31mKeyboardInterrupt\u001b[0m: "
     ]
    }
   ],
   "source": [
    "# Cell 12: Process All Cases - No Confirmation Required\n",
    "\n",
    "# Check if caffeinate is already running, if not start it\n",
    "if 'caffeinate_process' not in locals() or caffeinate_process.poll() is not None:\n",
    "    print(\"Starting caffeinate to prevent Mac from sleeping...\")\n",
    "    caffeinate_process = subprocess.Popen([\"caffeinate\", \"-i\", \"-d\", \"-m\"], \n",
    "                                         stdout=subprocess.DEVNULL, \n",
    "                                         stderr=subprocess.DEVNULL)\n",
    "else:\n",
    "    print(\"Caffeinate already running...\")\n",
    "\n",
    "print(f\"\\nRunning ICL test on all {len(test_cases)} cases...\")\n",
    "results = []\n",
    "\n",
    "try:\n",
    "    for i, case in enumerate(tqdm(test_cases)):\n",
    "        # Generate solution using the newly defined function\n",
    "        result = generate_solution_with_icl(case)\n",
    "        results.append(result)\n",
    "        \n",
    "        # Save the individual result\n",
    "        case_file = results_dir / f\"{case['case_id']}_icl.json\"\n",
    "        with open(case_file, 'w') as f:\n",
    "            json.dump(result, f, indent=2)\n",
    "        \n",
    "        # Pause between requests to avoid rate limits\n",
    "        if i < len(test_cases) - 1:  # Don't sleep after last case\n",
    "            time.sleep(5)\n",
    "    \n",
    "    # Save all results to a single file\n",
    "    all_results_file = results_dir / \"all_icl_results.json\"\n",
    "    with open(all_results_file, 'w') as f:\n",
    "        json.dump(results, f, indent=2)\n",
    "    \n",
    "    # Also save as a parquet file for easier analysis\n",
    "    results_df = pd.DataFrame(results)\n",
    "    results_df.to_parquet(results_dir / \"icl_results.parquet\")\n",
    "    \n",
    "    print(f\"\\n✅ Completed ICL testing for {len(results)} cases\")\n",
    "    print(f\"Results saved to {results_dir}\")\n",
    "\n",
    "finally:\n",
    "    # Make sure to terminate caffeinate\n",
    "    if 'caffeinate_process' in locals():\n",
    "        print(\"Terminating caffeinate - your Mac can sleep again...\")\n",
    "        caffeinate_process.terminate()"
   ]
  },
  {
   "cell_type": "code",
   "execution_count": 39,
   "metadata": {},
   "outputs": [
    {
     "name": "stdout",
     "output_type": "stream",
     "text": [
      "Checking for ICL results...\n",
      "Found 48 individual ICL result files\n",
      "Sample files:\n",
      " - case-20250330-073647-bwtgdi_icl.json\n",
      " - case-20250329-194827-ftzzah_icl.json\n",
      " - case-20250329-090718-vs7b8h_icl.json\n",
      " - case-20250329-082454-w9yo73_icl.json\n",
      " - case-20250329-210312-goqhgy_icl.json\n",
      "\n",
      "Sample result structure:\n",
      "Case ID: case-20250330-073647-bwtgdi\n",
      "Title: Perishable Cargo Peril: Nordic Seafoods Asian Export Challenge\n",
      "Examples used: 2 cases\n",
      " - Frozen Seas, Shifting Sands: Optimizing Nordic Seafoods Asian Supply Chain (Similarity: 0.9281)\n",
      " - **Nordic Seafoods: Navigating Baltic Bottlenecks and Chinese Customs in a Perishable Supply Chain** (Similarity: 0.9216)\n",
      "Solution length: 8677 characters\n",
      "First 200 chars: ## Perishable Cargo Peril: Nordic Seafoods Asian Export Challenge - Solution\n",
      "\n",
      "**Executive Summary:** Nordic Seafood Exports (NSE) faces critical challenges in its Asian seafood supply chain, resulting...\n"
     ]
    }
   ],
   "source": [
    "# Check for generated ICL results\n",
    "print(\"Checking for ICL results...\")\n",
    "\n",
    "# Define results directory path\n",
    "results_dir = Path(\"../Results/ICL_Gemma3\")\n",
    "\n",
    "# Count and list available individual result files\n",
    "icl_result_files = list(results_dir.glob(\"*_icl.json\"))\n",
    "print(f\"Found {len(icl_result_files)} individual ICL result files\")\n",
    "\n",
    "if icl_result_files:\n",
    "    # Show first few files\n",
    "    print(\"Sample files:\")\n",
    "    for file in icl_result_files[:5]:\n",
    "        print(f\" - {file.name}\")\n",
    "    \n",
    "    # Load first result file to examine structure\n",
    "    with open(icl_result_files[0], 'r') as f:\n",
    "        sample_result = json.load(f)\n",
    "    \n",
    "    print(\"\\nSample result structure:\")\n",
    "    print(f\"Case ID: {sample_result['case_id']}\")\n",
    "    print(f\"Title: {sample_result['title']}\")\n",
    "    print(f\"Examples used: {len(sample_result['examples_used'])} cases\")\n",
    "    for ex in sample_result['examples_used']:\n",
    "        print(f\" - {ex['title']} (Similarity: {ex['similarity_score']:.4f})\")\n",
    "    print(f\"Solution length: {len(sample_result['solution'])} characters\")\n",
    "    print(f\"First 200 chars: {sample_result['solution'][:200]}...\")"
   ]
  },
  {
   "cell_type": "markdown",
   "metadata": {},
   "source": [
    "# 12. Summary and Documentation"
   ]
  },
  {
   "cell_type": "code",
   "execution_count": 40,
   "metadata": {},
   "outputs": [
    {
     "name": "stdout",
     "output_type": "stream",
     "text": [
      "\n",
      "## ICL Implementation Summary\n",
      "\n",
      "This notebook implemented a MedPrompt-inspired ICL approach for maritime logistics case solving:\n",
      " - Retrieved 2 similar cases for each test case\n",
      " - Used structured prompting with examples and reasoning steps\n",
      " - Generated solutions with the Gemma 3 model\n",
      " - Tracked which examples were retrieved for analysis\n",
      "\n",
      "Next steps:\n",
      " - Run evaluation comparing baseline vs ICL approaches\n",
      " - Analyze which types of cases benefit most from ICL\n",
      " - Fine-tune the prompt template based on results\n"
     ]
    }
   ],
   "source": [
    "# Display summary information\n",
    "print(\"\\n## ICL Implementation Summary\")\n",
    "print(\"\\nThis notebook implemented a MedPrompt-inspired ICL approach for maritime logistics case solving:\")\n",
    "print(\" - Retrieved 2 similar cases for each test case\")\n",
    "print(\" - Used structured prompting with examples and reasoning steps\")\n",
    "print(\" - Generated solutions with the Gemma 3 model\")\n",
    "print(\" - Tracked which examples were retrieved for analysis\")\n",
    "print(\"\\nNext steps:\")\n",
    "print(\" - Run evaluation comparing baseline vs ICL approaches\")\n",
    "print(\" - Analyze which types of cases benefit most from ICL\")\n",
    "print(\" - Fine-tune the prompt template based on results\")"
   ]
  },
  {
   "cell_type": "code",
   "execution_count": null,
   "metadata": {},
   "outputs": [],
   "source": []
  }
 ],
 "metadata": {
  "kernelspec": {
   "display_name": "tsi",
   "language": "python",
   "name": "python3"
  },
  "language_info": {
   "codemirror_mode": {
    "name": "ipython",
    "version": 3
   },
   "file_extension": ".py",
   "mimetype": "text/x-python",
   "name": "python",
   "nbconvert_exporter": "python",
   "pygments_lexer": "ipython3",
   "version": "3.11.8"
  }
 },
 "nbformat": 4,
 "nbformat_minor": 2
}
