{
 "cells": [
  {
   "cell_type": "code",
   "execution_count": 1,
   "metadata": {},
   "outputs": [],
   "source": [
    "import os\n",
    "import sys\n",
    "import json\n",
    "import pandas as pd\n",
    "import numpy as np\n",
    "from pathlib import Path\n",
    "from tqdm.notebook import tqdm\n",
    "import subprocess\n",
    "from sklearn.model_selection import train_test_split\n",
    "\n",
    "# Add project directory to path for imports\n",
    "sys.path.append('..')\n",
    "\n",
    "# Import our Qdrant utilities\n",
    "from utils.qdrant_client import get_qdrant_client, get_embedding, create_collection"
   ]
  },
  {
   "cell_type": "code",
   "execution_count": 2,
   "metadata": {},
   "outputs": [],
   "source": [
    "from dotenv import load_dotenv\n",
    "import google.generativeai as genai\n",
    "# Load environment variables\n",
    "load_dotenv()\n",
    "\n",
    "# Configure Google Generative AI\n",
    "genai.configure(api_key=os.getenv('GOOGLE_API_KEY'))"
   ]
  },
  {
   "cell_type": "code",
   "execution_count": 3,
   "metadata": {},
   "outputs": [
    {
     "name": "stdout",
     "output_type": "stream",
     "text": [
      "✅ Successfully connected to Qdrant Cloud\n",
      "Available collections: ['case_generation_references', 'logistics_datapoints', 'icl_logistics_case_examples']\n",
      "Test embedding dimension: 768\n"
     ]
    }
   ],
   "source": [
    "# Test connection to Qdrant\n",
    "client = get_qdrant_client()\n",
    "try:\n",
    "    collections = client.get_collections().collections\n",
    "    print(f\"✅ Successfully connected to Qdrant Cloud\")\n",
    "    print(f\"Available collections: {[c.name for c in collections]}\")\n",
    "except Exception as e:\n",
    "    print(f\"❌ Failed to connect to Qdrant Cloud: {e}\")\n",
    "    \n",
    "# Test embedding generation\n",
    "test_embedding = get_embedding(\"This is a test for embedding generation\")\n",
    "print(f\"Test embedding dimension: {len(test_embedding)}\")"
   ]
  },
  {
   "cell_type": "markdown",
   "metadata": {},
   "source": [
    "## 2. Load and Explore Parquet Data"
   ]
  },
  {
   "cell_type": "code",
   "execution_count": 4,
   "metadata": {},
   "outputs": [
    {
     "name": "stdout",
     "output_type": "stream",
     "text": [
      "Starting caffeinate for data exploration...\n",
      "Loading data from ../Data/GeneratedCases/evaluated_cases_20250330_212702.parquet\n",
      "Loaded 307 cases\n",
      "\n",
      "DataFrame columns: ['case_id', 'title', 'enhanced_case', 'solution', 'file_path', 'enhanced_case_length', 'solution_length', 'realism_score', 'complexity_score', 'educational_value', 'solution_quality', 'overall_qualification', 'evaluation_summary', 'improvement_suggestions']\n",
      "\n",
      "Sample row:\n",
      "case_id: case-20250329-203754-mtqgzd\n",
      "title: Strangled Supply Lines: Navigating Baltic Port Congestion and Seafood Spoilage Risks\n",
      "enhanced_case: **Scenario:** Nordic Seafood Imports (NSI), a leading importer of frozen seafood into Scandinavia an...\n",
      "solution: ## Executive Summary Nordic Seafood Imports (NSI) is facing a critical supply chain disruption due t...\n",
      "\n",
      "Evaluation Statistics:\n",
      "Average realism_score: 8.11\n",
      "Average complexity_score: 7.12\n",
      "Average educational_value: 8.71\n",
      "Average solution_quality: 7.74\n",
      "Qualified cases: 304 (99.0%)\n",
      "\n",
      "Added 'case_for_embedding' column (first 100 chars): Strangled Supply Lines: Navigating Baltic Port Congestion and Seafood Spoilage Risks\n",
      "\n",
      "**Scenario:** ...\n",
      "Split into: Train set: 245 cases, Test set: 62 cases\n",
      "✅ Saved train/test split to separate parquet files\n",
      "Terminating caffeinate...\n"
     ]
    }
   ],
   "source": [
    "# Start caffeinate to prevent Mac from sleeping during exploration\n",
    "print(\"Starting caffeinate for data exploration...\")\n",
    "caffeinate_process = subprocess.Popen([\"caffeinate\", \"-i\", \"-d\"], \n",
    "                                     stdout=subprocess.DEVNULL, \n",
    "                                     stderr=subprocess.DEVNULL)\n",
    "\n",
    "try:\n",
    "    # Load the evaluated cases\n",
    "    data_dir = Path(\"../Data/GeneratedCases\")\n",
    "    evaluated_file = data_dir / \"evaluated_cases_20250330_212702.parquet\"\n",
    "    \n",
    "    if not evaluated_file.exists():\n",
    "        print(f\"⚠️ Could not find {evaluated_file}\")\n",
    "        # Find available parquet files\n",
    "        parquet_files = list(data_dir.glob(\"*.parquet\"))\n",
    "        if parquet_files:\n",
    "            print(f\"Found these parquet files: {[f.name for f in parquet_files]}\")\n",
    "            evaluated_file = parquet_files[-1]  # Use the latest file\n",
    "            print(f\"Using: {evaluated_file}\")\n",
    "        else:\n",
    "            raise FileNotFoundError(f\"No parquet files found in {data_dir}\")\n",
    "    \n",
    "    # Load the dataset\n",
    "    print(f\"Loading data from {evaluated_file}\")\n",
    "    df = pd.read_parquet(evaluated_file)\n",
    "    print(f\"Loaded {len(df)} cases\")\n",
    "    \n",
    "    # Show columns\n",
    "    print(f\"\\nDataFrame columns: {df.columns.tolist()}\")\n",
    "    \n",
    "    # Display a sample\n",
    "    print(\"\\nSample row:\")\n",
    "    sample_row = df.iloc[0]\n",
    "    for col in ['case_id', 'title']:\n",
    "        print(f\"{col}: {sample_row[col]}\")\n",
    "    print(f\"enhanced_case: {sample_row['enhanced_case'][:100]}...\")\n",
    "    print(f\"solution: {sample_row['solution'][:100]}...\")\n",
    "    \n",
    "    # Display basic statistics\n",
    "    if \"realism_score\" in df.columns:\n",
    "        print(\"\\nEvaluation Statistics:\")\n",
    "        metrics = [\"realism_score\", \"complexity_score\", \"educational_value\", \"solution_quality\"]\n",
    "        for metric in metrics:\n",
    "            if metric in df.columns:\n",
    "                print(f\"Average {metric}: {df[metric].mean():.2f}\")\n",
    "        \n",
    "        # Count qualification status\n",
    "        if \"overall_qualification\" in df.columns:\n",
    "            qualified_count = df[df[\"overall_qualification\"] == \"QUALIFIED\"].shape[0]\n",
    "            print(f\"Qualified cases: {qualified_count} ({qualified_count/len(df)*100:.1f}%)\")\n",
    "            \n",
    "    # Create case text for embedding (combine title and case content)\n",
    "    df[\"case_for_embedding\"] = df[\"title\"] + \"\\n\\n\" + df[\"enhanced_case\"]\n",
    "    print(f\"\\nAdded 'case_for_embedding' column (first 100 chars): {df['case_for_embedding'].iloc[0][:100]}...\")\n",
    "    \n",
    "    # Split into train and test sets (80/20)\n",
    "    train_df, test_df = train_test_split(df, test_size=0.2, random_state=42)\n",
    "    print(f\"Split into: Train set: {len(train_df)} cases, Test set: {len(test_df)} cases\")\n",
    "    \n",
    "    # Save train/test split for future reference\n",
    "    train_df.to_parquet(data_dir / \"train_cases.parquet\")\n",
    "    test_df.to_parquet(data_dir / \"test_cases.parquet\")\n",
    "    print(\"✅ Saved train/test split to separate parquet files\")\n",
    "    \n",
    "finally:\n",
    "    # Make sure to terminate caffeinate\n",
    "    if 'caffeinate_process' in locals():\n",
    "        print(\"Terminating caffeinate...\")\n",
    "        caffeinate_process.terminate()"
   ]
  },
  {
   "cell_type": "code",
   "execution_count": 5,
   "metadata": {},
   "outputs": [
    {
     "name": "stdout",
     "output_type": "stream",
     "text": [
      "<class 'pandas.core.frame.DataFrame'>\n",
      "Index: 245 entries, 240 to 102\n",
      "Data columns (total 15 columns):\n",
      " #   Column                   Non-Null Count  Dtype  \n",
      "---  ------                   --------------  -----  \n",
      " 0   case_id                  245 non-null    object \n",
      " 1   title                    245 non-null    object \n",
      " 2   enhanced_case            245 non-null    object \n",
      " 3   solution                 245 non-null    object \n",
      " 4   file_path                245 non-null    object \n",
      " 5   enhanced_case_length     245 non-null    int64  \n",
      " 6   solution_length          245 non-null    int64  \n",
      " 7   realism_score            243 non-null    float64\n",
      " 8   complexity_score         243 non-null    float64\n",
      " 9   educational_value        243 non-null    float64\n",
      " 10  solution_quality         243 non-null    float64\n",
      " 11  overall_qualification    243 non-null    object \n",
      " 12  evaluation_summary       243 non-null    object \n",
      " 13  improvement_suggestions  243 non-null    object \n",
      " 14  case_for_embedding       245 non-null    object \n",
      "dtypes: float64(4), int64(2), object(9)\n",
      "memory usage: 30.6+ KB\n"
     ]
    }
   ],
   "source": [
    "train_df.info()"
   ]
  },
  {
   "cell_type": "code",
   "execution_count": 6,
   "metadata": {},
   "outputs": [
    {
     "name": "stdout",
     "output_type": "stream",
     "text": [
      "<class 'pandas.core.frame.DataFrame'>\n",
      "Index: 62 entries, 183 to 302\n",
      "Data columns (total 15 columns):\n",
      " #   Column                   Non-Null Count  Dtype  \n",
      "---  ------                   --------------  -----  \n",
      " 0   case_id                  62 non-null     object \n",
      " 1   title                    62 non-null     object \n",
      " 2   enhanced_case            62 non-null     object \n",
      " 3   solution                 62 non-null     object \n",
      " 4   file_path                62 non-null     object \n",
      " 5   enhanced_case_length     62 non-null     int64  \n",
      " 6   solution_length          62 non-null     int64  \n",
      " 7   realism_score            61 non-null     float64\n",
      " 8   complexity_score         61 non-null     float64\n",
      " 9   educational_value        61 non-null     float64\n",
      " 10  solution_quality         61 non-null     float64\n",
      " 11  overall_qualification    61 non-null     object \n",
      " 12  evaluation_summary       61 non-null     object \n",
      " 13  improvement_suggestions  61 non-null     object \n",
      " 14  case_for_embedding       62 non-null     object \n",
      "dtypes: float64(4), int64(2), object(9)\n",
      "memory usage: 7.8+ KB\n"
     ]
    }
   ],
   "source": [
    "test_df.info()"
   ]
  },
  {
   "cell_type": "markdown",
   "metadata": {},
   "source": [
    "## 3. Check Embedding Model Availability"
   ]
  },
  {
   "cell_type": "code",
   "execution_count": 11,
   "metadata": {},
   "outputs": [
    {
     "name": "stdout",
     "output_type": "stream",
     "text": [
      "Testing embedding generation...\n",
      "✅ Embedding generation works! Vector length: 768\n",
      "First 5 dimensions: [0.017684225, 0.008641249, -0.014321081, -0.022147447, 0.062374268]\n"
     ]
    }
   ],
   "source": [
    "# Test embedding generation\n",
    "print(\"Testing embedding generation...\")\n",
    "\n",
    "# Try with a simple text\n",
    "test_text = \"This is a test case about maritime logistics and shipping containers.\"\n",
    "test_embedding = get_embedding(test_text)\n",
    "\n",
    "if test_embedding:\n",
    "    print(f\"✅ Embedding generation works! Vector length: {len(test_embedding)}\")\n",
    "    print(f\"First 5 dimensions: {test_embedding[:5]}\")\n",
    "else:\n",
    "    print(\"⚠️ Failed to generate test embedding. Check API key and connectivity.\")\n",
    "    # You might need to add code here to troubleshoot embedding generation"
   ]
  },
  {
   "cell_type": "markdown",
   "metadata": {},
   "source": [
    "## 4. Create/Prepare Qdrant Collection"
   ]
  },
  {
   "cell_type": "code",
   "execution_count": 7,
   "metadata": {},
   "outputs": [
    {
     "name": "stdout",
     "output_type": "stream",
     "text": [
      "Setting up Qdrant collection 'icl_logistics_case_examples'...\n",
      "Connected to Qdrant. Found 3 existing collections:\n",
      " - case_generation_references\n",
      " - logistics_datapoints\n",
      " - icl_logistics_case_examples\n",
      "Using existing collection\n"
     ]
    }
   ],
   "source": [
    "# Define collection name\n",
    "CASE_COLLECTION_NAME = \"icl_logistics_case_examples\"\n",
    "\n",
    "print(f\"Setting up Qdrant collection '{CASE_COLLECTION_NAME}'...\")\n",
    "client = get_qdrant_client()\n",
    "\n",
    "# Check if we can connect to Qdrant\n",
    "try:\n",
    "    # Get list of current collections\n",
    "    collections = client.get_collections().collections\n",
    "    print(f\"Connected to Qdrant. Found {len(collections)} existing collections:\")\n",
    "    for c in collections:\n",
    "        print(f\" - {c.name}\")\n",
    "    \n",
    "    # Check if collection already exists\n",
    "    if any(c.name == CASE_COLLECTION_NAME for c in collections):\n",
    "        recreate = input(f\"Collection '{CASE_COLLECTION_NAME}' already exists. Recreate? (y/n): \")\n",
    "        if recreate.lower() == 'y':\n",
    "            client.delete_collection(CASE_COLLECTION_NAME)\n",
    "            print(f\"Deleted existing collection\")\n",
    "            \n",
    "            # Create collection directly with client\n",
    "            from qdrant_client.http import models\n",
    "            \n",
    "            # Create vector configuration\n",
    "            # You might need to adjust the size based on your embedding model\n",
    "            vector_size = 768  # Change this to match your model's embedding size\n",
    "            \n",
    "            # Get a test embedding to determine vector size\n",
    "            test_text = \"This is a test for embedding size\"\n",
    "            test_vector = get_embedding(test_text)\n",
    "            if test_vector:\n",
    "                vector_size = len(test_vector)\n",
    "                print(f\"Detected embedding size: {vector_size}\")\n",
    "            \n",
    "            # Create the collection\n",
    "            client.create_collection(\n",
    "                collection_name=CASE_COLLECTION_NAME,\n",
    "                vectors_config=models.VectorParams(\n",
    "                    size=vector_size,\n",
    "                    distance=models.Distance.COSINE\n",
    "                )\n",
    "            )\n",
    "            print(f\"✅ Created new collection: {CASE_COLLECTION_NAME}\")\n",
    "        else:\n",
    "            print(f\"Using existing collection\")\n",
    "    else:\n",
    "        # Create collection directly with client\n",
    "        from qdrant_client.http import models\n",
    "        \n",
    "        # Create vector configuration\n",
    "        # You might need to adjust the size based on your embedding model\n",
    "        vector_size = 768  # Default size for many embedding models\n",
    "        \n",
    "        # Get a test embedding to determine vector size\n",
    "        test_text = \"This is a test for embedding size\"\n",
    "        test_vector = get_embedding(test_text)\n",
    "        if test_vector:\n",
    "            vector_size = len(test_vector)\n",
    "            print(f\"Detected embedding size: {vector_size}\")\n",
    "        \n",
    "        # Create the collection\n",
    "        client.create_collection(\n",
    "            collection_name=CASE_COLLECTION_NAME,\n",
    "            vectors_config=models.VectorParams(\n",
    "                size=vector_size,\n",
    "                distance=models.Distance.COSINE\n",
    "            )\n",
    "        )\n",
    "        print(f\"✅ Created new collection: {CASE_COLLECTION_NAME}\")\n",
    "        \n",
    "except Exception as e:\n",
    "    print(f\"⚠️ Error connecting to Qdrant: {str(e)}\")"
   ]
  },
  {
   "cell_type": "markdown",
   "metadata": {},
   "source": [
    "## 5. Create DataFrame with Only Needed Columns"
   ]
  },
  {
   "cell_type": "code",
   "execution_count": null,
   "metadata": {},
   "outputs": [],
   "source": [
    "# Create simplified dataframe with only columns we need for Qdrant\n",
    "qdrant_df = train_df[['case_id', 'title', 'solution', 'case_for_embedding']].copy()\n",
    "\n",
    "# Display info about the simplified dataframe\n",
    "print(f\"Created simplified dataframe for Qdrant upload with {len(qdrant_df)} rows\")\n",
    "print(f\"Columns: {qdrant_df.columns.tolist()}\")\n",
    "\n",
    "# Show a sample of what we'll upload\n",
    "print(\"\\nSample row for Qdrant:\")\n",
    "sample = qdrant_df.iloc[0]\n",
    "print(f\"ID: {sample['case_id']}\")\n",
    "print(f\"Title: {sample['title']}\")\n",
    "print(f\"Solution (first 100 chars): {sample['solution'][:100]}...\")\n",
    "print(f\"Case for embedding (first 100 chars): {sample['case_for_embedding'][:100]}...\")"
   ]
  },
  {
   "cell_type": "code",
   "execution_count": 9,
   "metadata": {},
   "outputs": [
    {
     "name": "stdout",
     "output_type": "stream",
     "text": [
      "<class 'pandas.core.frame.DataFrame'>\n",
      "Index: 245 entries, 240 to 102\n",
      "Data columns (total 4 columns):\n",
      " #   Column              Non-Null Count  Dtype \n",
      "---  ------              --------------  ----- \n",
      " 0   case_id             245 non-null    object\n",
      " 1   title               245 non-null    object\n",
      " 2   solution            245 non-null    object\n",
      " 3   case_for_embedding  245 non-null    object\n",
      "dtypes: object(4)\n",
      "memory usage: 9.6+ KB\n"
     ]
    }
   ],
   "source": [
    "qdrant_df.info()"
   ]
  },
  {
   "cell_type": "code",
   "execution_count": 11,
   "metadata": {},
   "outputs": [
    {
     "data": {
      "application/vnd.microsoft.datawrangler.viewer.v0+json": {
       "columns": [
        {
         "name": "index",
         "rawType": "int64",
         "type": "integer"
        },
        {
         "name": "case_id",
         "rawType": "object",
         "type": "string"
        },
        {
         "name": "title",
         "rawType": "object",
         "type": "string"
        },
        {
         "name": "solution",
         "rawType": "object",
         "type": "string"
        },
        {
         "name": "case_for_embedding",
         "rawType": "object",
         "type": "string"
        }
       ],
       "conversionMethod": "pd.DataFrame",
       "ref": "b5902277-a3ee-429a-968b-954f74f8ab57",
       "rows": [
        [
         "240",
         "case-20250330-081720-dj177a",
         "**Baltic Salmon Run: Navigating Regulatory Hurdles and Logistical Storms to Reach Asian Gourmet**",
         "## Executive Summary Baltic Breeze Seafood faces a complex logistical challenge in delivering frozen salmon fillets to Asian Gourmet in Japan, complicated by regulatory requirements, operational hurdles, and an unexpected weather delay. This solution addresses these challenges through proactive planning, enhanced monitoring, and contingency measures. The core strategy focuses on mitigating risks related to reefer container availability, port congestion, temperature control, customs clearance, and the weather delay. The solution emphasizes clear communication, adherence to regulations, and leveraging technology to ensure timely and compliant delivery, thereby safeguarding the contract with Asian Gourmet. ## Detailed Solution Steps **Phase 1: Immediate Response to Weather Delay (Within 24 Hours)** * **Step 1: Communication and Assessment (Regulatory Reference: SOLAS Chapter V - Safety of Navigation)** * Immediately contact North Star Shipping's vessel agent (Entity: Vessel Agent) to confirm the exact departure delay and its impact on the transshipment schedule in Rotterdam. * Contact Asian Gourmet (Entity: Customs Authority/Importer) to inform them of the potential delay and its possible impact on the delivery window. Emphasize that Baltic Breeze is taking proactive steps to mitigate the impact. * Assess the potential impact on the \"Dragon's Breath\" sailing schedule from Rotterdam to Yokohama. * **Reasoning:** Transparency and proactive communication are crucial for maintaining trust with the customer and carrier. Understanding the precise delay allows for informed decision-making. SOLAS Chapter V mandates that ships provide information on any navigational hazards, which includes weather conditions that could affect schedules. * **Step 2: Contingency Planning (Regulatory Reference: MARPOL Annex VI - Prevention of Air Pollution from Ships)** * **Option A: Expedited Transshipment in Rotterdam:** Explore the possibility of expedited transshipment in Rotterdam with North Star Shipping. This may involve paying a premium for priority handling of the reefer containers. * **Option B: Alternative Transshipment Port:** If expedited transshipment is not feasible or too costly, investigate alternative transshipment ports such as Hamburg or Antwerp. Obtain quotes and transit times for these options. * **Option C: Air Freight:** As a last resort, evaluate the feasibility of air freighting a portion of the shipment to meet the delivery window. This is likely to be significantly more expensive but may be necessary to avoid penalties. * **Reasoning:** Having multiple contingency plans allows for flexibility in responding to unforeseen circumstances. MARPOL Annex VI encourages efficient ship operations, which includes minimizing delays. * **Step 3: Documentation Review and Amendment (Regulatory Reference: Incoterms 2020)** * Review the Bill of Lading (B/L) to determine the implications of the delay on contractual obligations. * If the delay necessitates a change in the B/L (e.g., change of vessel, port of discharge), work with North Star Shipping to amend the B/L accordingly. * **Reasoning:** The B/L is a crucial document that outlines the terms of carriage. Any changes must be accurately reflected in the B/L to avoid disputes. Incoterms 2020 define the responsibilities of the buyer and seller, and the delay may affect these responsibilities. **Phase 2: Ensuring Reefer Container Availability and Functionality (Pre-Shipment)** * **Step 4: Reefer Container Confirmation and PTI (Regulatory Reference: International Convention for Safe Containers (CSC))** * Reconfirm the availability of the required number of reefer containers with North Star Shipping's vessel agent (Entity: Vessel Agent). Obtain written confirmation. * Ensure that each reefer container undergoes a thorough Pre-Trip Inspection (PTI) by qualified technicians. Verify that the containers are clean, in good working order, and capable of maintaining a temperature of -18°C. * Obtain PTI reports for each container and retain them for documentation purposes. * **Reasoning:** Reefer container availability is a critical bottleneck. The CSC ensures the safety and structural integrity of containers, including reefer containers. A thorough PTI is essential to prevent temperature excursions during transit. * **Step 5: Temperature Monitoring System Implementation (Regulatory Reference: EC Regulation 852/2004 (Hygiene Regulation))** * Install calibrated temperature data loggers inside each reefer container. These loggers should record temperature readings at regular intervals (e.g., every hour) throughout the entire journey. * Ensure that the data loggers are tamper-proof and provide a clear audit trail. * Establish a system for remotely monitoring the temperature data. This may involve using a cloud-based platform that provides real-time temperature alerts. * **Reasoning:** EC Regulation 852/2004 mandates that food businesses implement and maintain a food safety management system based on HACCP principles. Temperature monitoring is a critical component of this system. * **Step 6: Loading and Stuffing Procedures (Regulatory Reference: EC Regulation 852/2004 (Hygiene Regulation))** * Work closely with Riga Cold Storage (third-party logistics provider) to ensure that the salmon fillets are loaded and stuffed into the reefer containers quickly and efficiently. * Maintain a consistent temperature of -18°C throughout the loading process. * Document the loading process, including the date, time, and temperature of the salmon fillets. * **Reasoning:** Proper loading and stuffing procedures are essential to maintain the temperature of the salmon fillets and prevent spoilage. EC Regulation 852/2004 emphasizes the importance of maintaining hygienic conditions during food handling. **Phase 3: Ensuring Compliance with Regulations (Pre-Shipment and During Transit)** * **Step 7: Documentation Preparation (Regulatory Reference: EC Regulation 178/2002 (General Food Law), Japan's Food Sanitation Act (FSA))** * Prepare all required documentation, including: * Health certificate issued by the Latvian Food and Veterinary Service (PVD). * Certificate of origin. * Detailed packing list. * Commercial invoice. * Bill of Lading. * Temperature logs. * Ensure that all documents are accurate, complete, and consistent. * Translate the product label into Japanese, specifying the product name, country of origin, manufacturer, and importer. * **Reasoning:** Compliance with EU and Japanese regulations is essential to avoid delays and penalties. EC Regulation 178/2002 mandates traceability of food products. Japan's FSA sets stringent standards for imported seafood. * **Step 8: Communication with Importer/Customs Broker (Regulatory Reference: Japan's Food Sanitation Act (FSA))** * Provide Asian Gourmet's customs broker (Entity: Importer/Customs Broker) with all necessary documentation well in advance of the shipment's arrival in Yokohama. * Communicate clearly with the customs broker regarding any specific requirements or concerns. * **Reasoning:** Proactive communication with the customs broker can help to expedite the customs clearance process and prevent delays. Japan's FSA requires importers to provide detailed information about imported food products. * **Step 9: Monitoring and Reporting (Regulatory Reference: EC Regulation 178/2002 (General Food Law))** * Continuously monitor the temperature data from the reefer containers throughout the entire journey. * Establish clear protocols for handling temperature excursions. If a temperature deviation occurs, immediately notify North Star Shipping and Asian Gourmet. * Document all temperature readings and any corrective actions taken. * **Reasoning:** Continuous monitoring and reporting are essential to ensure that the salmon fillets are maintained at the required temperature. EC Regulation 178/2002 requires food businesses to maintain records of all relevant information about their products. **Phase 4: Post-Arrival Procedures (Upon Arrival in Yokohama)** * **Step 10: Customs Clearance and Inspection (Regulatory Reference: Japan's Food Sanitation Act (FSA))** * Asian Gourmet's customs broker will handle the import declaration and customs clearance process. * Japanese customs authorities will conduct inspections of the salmon fillets, including residue testing for heavy metals and antibiotics. * **Reasoning:** Japanese customs authorities have the right to inspect imported food products to ensure compliance with the FSA. * **Step 11: Quality Control and Delivery (Regulatory Reference: Japan's Food Sanitation Act (FSA))** * Asian Gourmet's quality control team will inspect the salmon fillets upon arrival at their distribution centers. * Ensure that the salmon fillets are delivered to Asian Gourmet's distribution centers within the specified delivery window. * **Reasoning:** Asian Gourmet has the right to inspect the salmon fillets to ensure that they meet their quality standards. Failure to meet these standards could result in rejection of the shipment. ## Recommendations * **Establish a Long-Term Relationship with North Star Shipping:** Negotiate favorable rates and priority access to reefer containers. * **Implement a Robust Temperature Monitoring System:** Invest in a reliable temperature monitoring system that provides real-time data and alerts. * **Develop a Contingency Plan:** Create a detailed contingency plan that addresses potential risks such as port congestion, weather delays, and equipment failures. * **Maintain Open Communication:** Foster open communication with all parties involved in the supply chain, including North Star Shipping, Riga Cold Storage, Asian Gourmet, and their respective customs brokers. * **Consider Blockchain Technology:** While requiring new infrastructure, explore the potential of blockchain technology (Entity: Blockchain Technology) to improve transparency and traceability throughout the supply chain. This can provide a secure and immutable record of all relevant information, including temperature readings, documentation, and chain of custody. * **Regularly Review and Update Procedures:** Regularly review and update procedures to ensure that they are aligned with the latest regulations and best practices. ## Risk Mitigation | Risk | Mitigation Strategy the container is not properly grounded. * **Explanation:** This is a serious safety hazard that can lead to electrocution. Reefer containers require proper grounding to prevent electrical shocks. * **Recommendation:** Immediately cease operations and contact a qualified electrician to inspect the container and ensure it is properly grounded. Do not resume operations until the grounding issue is resolved and verified. 2. **Refrigeration System Malfunction:** * **Scenario:** The reefer container's refrigeration unit is not maintaining the required temperature of -18°C. * **Explanation:** This is a critical issue that can compromise the quality and safety of the salmon fillets. * **Recommendation:** * Immediately transfer the salmon fillets to another reefer container that is functioning properly. * Contact a qualified refrigeration technician to diagnose and repair the malfunctioning unit. * Document the temperature readings and the corrective actions taken. 3. **Contamination:** * **Scenario:** The reefer container is contaminated with mold, bacteria, or other foreign substances. * **Explanation:** Contamination can render the salmon fillets unsafe for consumption. * **Recommendation:** * Reject the container and request a replacement. * If contamination is discovered after loading, transfer the salmon fillets to a clean and sanitized container. * Thoroughly inspect the salmon fillets for any signs of contamination. * Contact the relevant authorities (e.g., Latvian Food and Veterinary Service) to report the contamination. 4. **Structural Damage:** * **Scenario:** The reefer container has structural damage, such as dents, cracks, or holes. * **Explanation:** Structural damage can compromise the container's ability to maintain temperature and protect the cargo. * **Recommendation:** * Reject the container and request a replacement. * If damage is discovered after loading, transfer the salmon fillets to a structurally sound container. * Document the damage and the corrective actions taken. 5. **Documentation Discrepancies:** * **Scenario:** There are discrepancies between the documentation (e.g., packing list, commercial invoice, health certificate) and the actual contents of the reefer container. * **Explanation:** Documentation discrepancies can lead to delays and penalties at customs. * **Recommendation:** * Thoroughly review all documentation before shipment to ensure accuracy and consistency. * Contact the relevant parties (e.g., supplier, customs broker) to resolve any discrepancies. * Provide clear instructions to the customs broker regarding the documentation requirements. 6. **Port Congestion:** * **Scenario:** Severe port congestion in Rotterdam delays the transshipment of the reefer container. * **Explanation:** Port congestion can cause delays and increase the risk of spoilage. * **Recommendation:** * Proactively monitor the situation in Rotterdam. * Explore alternative transshipment ports. * Negotiate with North Star Shipping for priority handling of the reefer container. * Communicate with Asian Gourmet about the potential delay. 7. **Customs Delays:** * **Scenario:** The reefer container is delayed at customs in Japan due to documentation issues or other regulatory requirements. * **Explanation:** Customs delays can cause spoilage and penalties. * **Recommendation:** * Work closely with Asian Gourmet's customs broker to ensure that all required documentation is submitted correctly and on time. * Provide clear instructions on labeling requirements and packaging specifications. * Be prepared to provide additional information or documentation as requested by customs authorities. 8. **Temperature Excursion During Transit:** * **Scenario:** The temperature inside the reefer container deviates from the required -18°C during transit. * **Explanation:** Temperature excursions can compromise the quality and safety of the salmon fillets. * **Recommendation:** * Implement a robust temperature monitoring system. * Establish clear protocols for handling temperature excursions. * Immediately notify North Star Shipping and Asian Gourmet of any temperature deviations. * Investigate the cause of the temperature excursion and take corrective actions. 9. **Rejection by Asian Gourmet:** * **Scenario:** Asian Gourmet rejects the shipment due to quality issues, documentation discrepancies, or other reasons. * **Explanation:** Rejection can result in significant financial losses. * **Recommendation:** * Establish clear quality standards with Asian Gourmet. * Thoroughly inspect the salmon fillets before shipment to ensure that they meet the required quality standards. * Address any concerns raised by Asian Gourmet promptly and professionally. * Have a contingency plan in place for handling rejected shipments. 10. **Unexpected Weather Delay:** * **Scenario:** A severe storm in the North Sea delays the \"Icebreaker's\" departure from Riga. * **Explanation:** Delays can impact transshipment schedules and potentially cause the shipment to miss the \"Dragon's Breath\" sailing. * **Recommendation:** * Monitor weather forecasts closely. * Communicate with North Star Shipping about potential delays. * Explore alternative routing options. * Negotiate with North Star Shipping for expedited transshipment procedures. * Communicate with Asian Gourmet about the potential delay. By implementing these risk mitigation strategies, Baltic Breeze Seafood can minimize the potential for disruptions and ensure that their shipment of frozen salmon fillets reaches Asian Gourmet in Yokohama on time and in perfect condition.",
         "**Baltic Salmon Run: Navigating Regulatory Hurdles and Logistical Storms to Reach Asian Gourmet**\n\n**Scenario:** Baltic Breeze Seafood, a rapidly expanding seafood processor in Riga, Latvia, has secured a lucrative contract to supply frozen salmon fillets to a major supermarket chain, \"Asian Gourmet,\" with distribution centers throughout Japan. The contract stipulates specific delivery windows and penalties for late shipments, making reliable and timely logistics paramount. **Key Entities:** * Baltic Breeze Seafood (shipper, located in Riga, Latvia) * North Star Shipping (carrier, operating a fleet of container vessels between Northern Europe and Asia) * Asian Gourmet (customer of Baltic Breeze, supermarket chain in Japan) * Riga Cold Storage (third-party logistics provider offering refrigerated warehousing and container stuffing services in Riga) * \"Icebreaker\" (North Star Shipping's designated vessel for the initial shipment) * Port of Riga (origin port) * Port of Rotterdam (transshipment port) * Port of Yokohama (destination port) * **Vessel Agent:** Representing North Star Shipping in Riga, responsible for coordinating port calls and vessel operations. * **Importer/Customs Broker (in Japan):** Facilitating customs clearance for Asian Gourmet in Yokohama. **Core Regulatory Issues:** The shipment must comply with EU regulations on food safety and traceability, Japanese import regulations regarding frozen seafood, and international standards for refrigerated container transport (reefer containers). * **EU Regulations:** EC Regulation 178/2002 (General Food Law) concerning traceability. Baltic Breeze must maintain records of the origin of the salmon, processing dates, and batch numbers. EC Regulation 852/2004 (Hygiene Regulation) dictates food safety standards during processing and storage. A health certificate issued by the Latvian Food and Veterinary Service (PVD) is mandatory, stating the salmon is fit for human consumption and meets EU standards. The certificate must accompany the shipment. * **Japanese Import Regulations:** Japan's Food Sanitation Act (FSA) sets stringent standards for imported seafood. Baltic Breeze must provide a certificate of origin, a detailed packing list, and a commercial invoice. The salmon fillets must be labelled in Japanese, specifying the product name, country of origin, manufacturer, and importer. Residue testing for heavy metals (mercury, cadmium) and antibiotics is regularly conducted by Japanese customs authorities. Failure to meet these standards can result in rejection or destruction of the shipment. Asian Gourmet, through their customs broker, will handle the import declaration. * **Reefer Container Standards:** The shipment must adhere to the International Convention for Safe Containers (CSC) standards. The reefer container must be pre-trip inspected (PTI) to ensure it functions correctly and maintains a consistent temperature of -18°C. Temperature logs, recorded throughout the entire journey, are crucial for demonstrating temperature control and compliance. These logs will be inspected by Japanese customs and Asian Gourmet's quality control team. * **International Maritime Transportation Regulation:** Baltic Breeze and North Star Shipping must comply with the International Maritime Organization (IMO) regulations, including the International Convention for the Safety of Life at Sea (SOLAS) and the International Convention for the Prevention of Pollution from Ships (MARPOL). **Operational Challenges:** * **Reefer Container Availability:** Baltic Breeze needs to secure a sufficient number of high-quality reefer containers from North Star Shipping, ensuring they meet the required temperature specifications for frozen salmon (-18°C). Demand for reefers is high in Riga, especially during peak fishing season, and availability is not guaranteed. Baltic Breeze must confirm container availability with North Star Shipping's vessel agent well in advance and obtain written confirmation. They should also consider a backup plan, such as using a different carrier or adjusting the shipment schedule if reefers are unavailable. * **Port Congestion in Rotterdam:** The \"Icebreaker\" is scheduled to call at Rotterdam for transshipment onto a larger vessel, the \"Dragon's Breath,\" bound for Yokohama. Rotterdam is experiencing significant congestion due to labor shortages and increased import volumes. Delays in Rotterdam could jeopardize the entire shipment. Baltic Breeze should proactively monitor the situation in Rotterdam through North Star Shipping and industry news sources. They could explore alternative transshipment ports, such as Hamburg or Antwerp, although this might increase shipping costs and transit time. * **Temperature Monitoring and Control:** Maintaining a consistent temperature throughout the entire journey, from Riga Cold Storage to Asian Gourmet's distribution centers, is crucial. Any temperature deviation could compromise the quality of the salmon and lead to rejection by Asian Gourmet. Baltic Breeze should implement a robust temperature monitoring system, utilizing data loggers inside the reefer containers that provide real-time temperature readings. They should also establish clear protocols for handling temperature excursions, including immediate notification to North Star Shipping and Asian Gourmet. * **Customs Clearance in Japan:** Japanese customs regulations are strict, and any discrepancies in documentation or labelling could result in delays and penalties. Baltic Breeze needs to ensure all paperwork is accurate and complete. Baltic Breeze must work closely with Asian Gourmet's customs broker to ensure all required documentation is submitted correctly and on time. They should also provide clear instructions on labelling requirements and packaging specifications. * **Unexpected Weather Delay:** A severe storm in the North Sea is predicted to delay the \"Icebreaker's\" departure from Riga by 24 hours. This delay will impact the transshipment schedule in Rotterdam and potentially cause the shipment to miss the \"Dragon's Breath\" sailing. **Problem to be Solved:** Baltic Breeze Seafood faces a critical decision: how to mitigate the potential risks of reefer container availability, port congestion in Rotterdam, temperature control challenges, and customs clearance complexities, compounded by the unexpected weather delay, to ensure their first shipment of frozen salmon fillets reaches Asian Gourmet in Yokohama on time and in perfect condition, avoiding penalties and securing their valuable new contract. They must consider all available options, including alternative routing, expedited transshipment procedures, and enhanced temperature monitoring solutions, weighing the costs and benefits of each. Baltic Breeze also needs to evaluate the impact of the delay on the Bill of Lading and communicate effectively with all parties involved (North Star Shipping, Riga Cold Storage, Asian Gourmet, and their respective customs brokers). Utilizing Blockchain for improved transparency is an option, but would require new infrastructure."
        ],
        [
         "143",
         "case-20250329-201544-4yus0r",
         "Baltic Bottleneck: Optimizing Timber Exports Amidst Winter Challenges and Regulatory Scrutiny",
         "## Executive Summary Scandinavian Timber Exports (STE) faces the challenge of reliably and cost-effectively shipping pre-fabricated wooden housing components to Rotterdam while adhering to strict environmental and regulatory standards. Baltic Sea Lines (BSL) must develop a comprehensive operational plan to overcome winter weather, container availability, port congestion, empty container repositioning, documentation requirements, and sustainability concerns. This solution proposes a multi-faceted approach, including optimized routing, strategic container management, proactive port coordination, streamlined documentation processes, and a focus on sustainability. The key is a hybrid approach utilizing direct calls to Rotterdam when feasible and transshipment via Gdansk during periods of high congestion or adverse weather. This will ensure consistent delivery schedules, minimize costs, and maximize vessel utilization while complying with all relevant regulations. ## Detailed Solution Steps **Step 1: Route Optimization and Scheduling** * **Recommendation:** Implement a dynamic routing strategy that combines direct calls to Rotterdam with transshipment through Gdansk based on real-time conditions. * **Reasoning:** This approach balances the need for timely delivery with the challenges of winter weather and port congestion. Direct calls are preferred for speed and cost-effectiveness when conditions allow. Transshipment via Gdansk provides a reliable alternative when Rotterdam is congested or ice conditions hinder direct passage. * **Regulatory Reference:** Finnish-Swedish Ice Class Rules dictate operational procedures in icy conditions, influencing route planning and speed. SOLAS (International Convention for the Safety of Life at Sea) mandates safe navigation practices, particularly important during winter. * **Actionable Items:** * Develop a weather monitoring system to assess ice conditions in the Baltic Sea. * Establish a relationship with the Port of Gdansk to secure priority berthing and efficient transshipment services. * Create a flexible sailing schedule that allows for adjustments based on weather and port conditions. * Utilize voyage optimization software to minimize fuel consumption and emissions. **Step 2: Container Management and Acquisition** * **Recommendation:** Implement a phased approach to flat-rack container management, combining leasing and strategic acquisition. * **Reasoning:** Addressing the limited flat-rack container inventory requires a balanced approach. Leasing provides immediate access to additional containers to meet current demand without a large upfront capital investment. Strategic acquisition of a smaller number of containers allows BSL to build its own fleet over time. * **Regulatory Reference:** ISO standards for cargo securing and container maintenance must be strictly adhered to. Proper securing prevents damage to the timber components, minimizing insurance claims and contract penalties. * **Actionable Items:** * Negotiate a lease agreement with a reputable container leasing company for the required number of flat-rack containers. * Develop a container tracking system to monitor the location and condition of all flat-rack containers. * Implement a rigorous container maintenance program to ensure all containers meet ISO standards. * Explore options for purchasing a smaller number of flat-rack containers to build BSL's own fleet. **Step 3: Port Coordination and ISPS Compliance** * **Recommendation:** Proactively coordinate with port authorities in Gothenburg, Rotterdam, and Gdansk to secure priority berthing and minimize delays. * **Reasoning:** Port congestion is a significant challenge. Proactive coordination ensures efficient turnaround times for the *MV Nordic Breeze*. Strict adherence to the ISPS Code is crucial to prevent security breaches and avoid fines and delays. * **Regulatory Reference:** The ISPS Code (International Ship and Port Facility Security Code) mandates security measures for ships and port facilities. * **Actionable Items:** * Establish direct communication channels with port authorities in Gothenburg, Rotterdam, and Gdansk. * Pre-arrange berthing slots for the *MV Nordic Breeze* in all three ports. * Ensure all crew members have valid Ship Security Certificates and are trained on ISPS Code requirements. * Conduct regular security drills on board the *MV Nordic Breeze*. **Step 4: Empty Container Repositioning and Customs Compliance** * **Recommendation:** Optimize empty container repositioning by exploring backhaul opportunities and utilizing a licensed customs broker. * **Reasoning:** Repositioning empty flat-rack containers is a cost and logistical hurdle. Exploring backhaul opportunities, such as carrying other cargo from Rotterdam to Gothenburg, can reduce costs. Utilizing a licensed customs broker ensures compliance with EU customs regulations. * **Regulatory Reference:** EU customs regulations govern the movement of goods within the EU, including empty containers. * **Actionable Items:** * Research potential backhaul cargo opportunities from Rotterdam to Gothenburg. * Partner with a licensed customs broker to handle the documentation and clearance of empty containers. * Implement a container tracking system to monitor the location of empty containers. * Explore the possibility of using third-party logistics providers for repositioning, ensuring they are licensed and compliant. **Step 5: Documentation and Regulatory Compliance** * **Recommendation:** Implement a comprehensive documentation management system and ensure all required documents are accurate and complete. * **Reasoning:** Accurate and complete documentation is crucial to avoid delays, fines, and cargo seizure. This includes the Bill of Lading, Commercial Invoice, Packing List, Certificate of Origin, Phytosanitary Certificate, and potentially a timber legality license under the EU Timber Regulation (EUTR). * **Regulatory Reference:** EU Timber Regulation (EUTR) requires proof of timber legality. Directive 2018/844/EU on the energy performance of buildings requires compliance with EU environmental standards for construction materials. * **Actionable Items:** * Develop a checklist of all required documents for each shipment. * Implement an electronic document management system to store and track all documents. * Train staff on documentation requirements and procedures. * Work closely with STE and EHDG to ensure all necessary documents are provided in a timely manner. * Obtain a timber legality license if the timber originates from outside the EU. **Step 6: Sustainability and Environmental Regulations** * **Recommendation:** Implement measures to reduce carbon emissions and demonstrate sustainable sourcing of timber. * **Reasoning:** EHDG requires proof of sustainable sourcing for the timber. BSL's shipping operations are under scrutiny regarding carbon emissions. * **Regulatory Reference:** MARPOL (International Convention for the Prevention of Pollution from Ships) regulates emissions from ships. * **Actionable Items:** * Provide EHDG with documentation verifying the timber's origin and compliance with relevant environmental standards (e.g., FSC or PEFC certifications). * Explore options for using alternative fuels, such as LNG or biofuels, to reduce carbon emissions. * Optimize vessel routing to minimize fuel consumption. * Implement a ballast water management system (BWMS) as per the IMO's Ballast Water Management Convention. * Calculate and report carbon emissions for each shipment. **Step 7: Competitive Analysis and Value-Added Services** * **Recommendation:** Analyze competitor offerings and develop value-added services to differentiate BSL. * **Reasoning:** STE has received quotes from other carriers. BSL needs to offer competitive pricing and value-added services to win the contract. * **Actionable Items:** * Research competitor pricing and service offerings. * Offer value-added services such as cargo insurance and door-to-door delivery. * Develop a customer service program to provide personalized support to STE. * Highlight BSL's expertise in Baltic Sea shipping and its commitment to sustainability. ## Recommendations * **Dynamic Routing:** Implement a flexible routing strategy that combines direct calls to Rotterdam with transshipment through Gdansk. * **Strategic Container Management:** Lease additional flat-rack containers to meet immediate demand and strategically acquire containers over time. * **Proactive Port Coordination:** Establish strong relationships with port authorities in Gothenburg, Rotterdam, and Gdansk. * **Comprehensive Documentation:** Implement a robust documentation management system to ensure compliance with all regulations. * **Sustainability Focus:** Demonstrate a commitment to sustainability by reducing carbon emissions and sourcing timber responsibly. * **Value-Added Services:** Offer competitive pricing and value-added services such as cargo insurance and door-to-door delivery. ## Risk Mitigation | Risk | Mitigation Strategy | Winter Weather & Ice Conditions | Implement dynamic routing with transshipment options. Invest in ice-class vessels and ensure crew training for icy conditions. Secure icebreaker assistance contracts. the data points are not relevant to the case.",
         "Baltic Bottleneck: Optimizing Timber Exports Amidst Winter Challenges and Regulatory Scrutiny\n\n**Scenario:** Scandinavian Timber Exports (STE), a consortium of Swedish and Finnish forestry companies, has secured a major contract to supply pre-fabricated wooden housing components to a rapidly expanding construction project in Rotterdam, Netherlands. The project, dubbed \"EcoHaven,\" is focused on sustainable urban development and adheres to stringent EU environmental standards for construction materials (Directive 2018/844/EU on the energy performance of buildings). **Key Entities:** * Scandinavian Timber Exports (STE) (shipper) – Based in Gothenburg, Sweden. STE is a registered exporter within the EU and is responsible for ensuring compliance with all export regulations, including proper documentation for timber origin and sustainability certifications (e.g., FSC or PEFC). * Baltic Sea Lines (BSL) (carrier) – A container shipping company headquartered in Riga, Latvia. Operates primarily within the Baltic Sea and Northern Europe. BSL is subject to the International Maritime Organization (IMO) regulations, including the International Convention for the Safety of Life at Sea (SOLAS) and the International Convention for the Prevention of Pollution from Ships (MARPOL). Their vessels must comply with the Baltic Ice Class regulations. * EcoHaven Development Group (EHDG) (consignee) – The construction company leading the EcoHaven project in Rotterdam. EHDG, as the importer, is responsible for customs clearance in the Netherlands and must comply with EU import regulations, including VAT obligations and any specific requirements for timber products (e.g., plant health certificates). * MV Nordic Breeze – A fictional, ice-class container vessel owned and operated by BSL, capable of carrying approximately 2,500 TEU. *MV Nordic Breeze* is equipped with a Ballast Water Management System (BWMS) as per the IMO's Ballast Water Management Convention. * Port of Gothenburg (Sweden) – An EU port subject to the International Ship and Port Facility Security (ISPS) Code. * Port of Rotterdam (Netherlands) – One of the busiest ports in Europe, also subject to the ISPS Code and increasingly focused on sustainable port operations. * Port of Gdansk (Poland) - A potential alternative transshipment hub, offering lower port fees and less congestion than Rotterdam, but potentially adding to overall transit time. **Core Operational Challenges:** * **Winter Weather & Ice Class Compliance:** The contract stipulates consistent, year-round delivery. BSL must contend with potential ice conditions in the Baltic Sea during winter months, which can lead to delays and increased fuel consumption. The *MV Nordic Breeze*, being ice-class, must adhere to specific operational procedures in icy conditions as defined by the Finnish-Swedish Ice Class Rules, impacting route planning and speed. BSL must also factor in potential delays due to icebreaker assistance and adjust schedules accordingly. * **Container Availability & Flat-Rack Specialization:** STE requires a consistent supply of specialized flat-rack containers to transport the pre-fabricated housing components. BSL's current inventory of flat-rack containers is limited, and acquiring more represents a significant capital investment. Furthermore, BSL must ensure the flat-rack containers meet the required ISO standards for cargo securing and are properly maintained to prevent damage to the timber components during transit. Damage could lead to potential insurance claims and contract penalties. * **Port Congestion & ISPS Compliance:** The Port of Rotterdam is experiencing increasing congestion, particularly during peak seasons. This could lead to berthing delays and increased turnaround times for the *MV Nordic Breeze*. BSL must pre-arrange berthing slots and coordinate with the port authorities to minimize delays. All crew members require valid Ship Security Certificates and must adhere to the ISPS code while in port. Any security breaches could result in significant fines and delays. * **Empty Container Repositioning & Customs Regulations:** After delivering the cargo to Rotterdam, BSL faces the challenge of repositioning the empty flat-rack containers back to Gothenburg for the next shipment. This represents a cost and logistical hurdle. The repositioning of empty containers is subject to customs regulations within the EU. If BSL uses a third-party logistics provider for repositioning, they must ensure the provider is a licensed customs broker and adheres to all relevant regulations. Failure to properly declare the empty containers could result in fines and delays. * **Competition & Market Dynamics:** STE has received quotes from other carriers, including larger, global players that operate direct deep-sea services from Asia to Rotterdam and could potentially backhaul empty containers to Gothenburg more efficiently. These carriers may also offer value-added services such as cargo insurance and door-to-door delivery, which BSL may need to consider matching. * **Documentation & Regulatory Compliance:** The shipment requires a multitude of documents including a Bill of Lading, Commercial Invoice, Packing List, Certificate of Origin (to benefit from potential trade agreements), Phytosanitary Certificate (to ensure the timber is free from pests and diseases), and potentially a timber legality license under the EU Timber Regulation (EUTR) if the timber originates from outside the EU. Failure to provide accurate and complete documentation can result in delays, fines, and even cargo seizure by customs authorities. EHDG, as the importer, is ultimately responsible for ensuring all necessary import permits and licenses are obtained. * **Sustainability & Environmental Regulations:** Given the focus on sustainable urban development, EHDG requires proof of sustainable sourcing for the timber. STE must provide documentation verifying the timber's origin and compliance with relevant environmental standards. BSL's shipping operations are also under scrutiny regarding carbon emissions. They should explore options for reducing their carbon footprint, such as using alternative fuels or optimizing vessel routing. **Problem to be Solved:** STE needs a reliable and cost-effective shipping solution from Gothenburg to Rotterdam to fulfil its contract with EHDG while adhering to strict environmental and regulatory standards. BSL needs to develop a viable operational plan that addresses the challenges of winter weather, container availability, port congestion, empty container repositioning, documentation requirements, and sustainability concerns, while remaining competitive against larger carriers who may offer alternative solutions. BSL must determine the optimal route and service frequency for the *MV Nordic Breeze* to ensure timely deliveries and minimize costs, potentially considering transshipment options through ports like Gdansk to optimize vessel utilization and mitigate risks associated with direct calls to Rotterdam. Ultimately, BSL must present a compelling proposal to STE that demonstrates its ability to meet their needs efficiently and profitably, while ensuring full compliance with all relevant regulations and sustainable practices. The proposal should specifically address how BSL will handle the complex documentation requirements and ensure timely customs clearance."
        ],
        [
         "253",
         "case-20250329-200538-utxdtj",
         "Arctic Sunrise: Navigating Rotterdams Congestion and Cold Chain Risks",
         "## Executive Summary Neptune Shipping faces a critical situation with the \"Arctic Sunrise\" shipment due to congestion in Rotterdam, threatening the timely delivery of frozen fish to Riga and potentially breaching contractual obligations with NordFish. This solution proposes a multi-pronged approach: immediate action to address reefer container concerns, proactive communication with all stakeholders, exploration of alternative routing options, and meticulous preparation for customs clearance in Riga. The primary goal is to minimize delays, maintain cold chain integrity as per EU Regulation 852/2004, and mitigate financial and reputational risks. The solution emphasizes proactive problem-solving, regulatory compliance, and transparent communication. ## Detailed Solution Steps **Phase 1: Immediate Actions & Assessment (Rotterdam)** **Step 1: Address Reefer Container Concerns (Immediate - within 2 hours of initial report)** * **Action:** Captain Olsen must immediately instruct the engineering team to conduct a thorough inspection of all reefer units experiencing power fluctuations. This includes checking power connections, refrigerant levels, and control systems. * **Regulatory Reference:** EU Regulation 852/2004 (HACCP principles) requires continuous monitoring and control of critical points in the food supply chain, including temperature. * **Reasoning:** Intermittent power fluctuations pose a significant risk to cold chain integrity. Immediate action is crucial to prevent spoilage and ensure compliance with food safety regulations. * **Action:** Implement a redundant power supply system for the affected reefer containers. If shipboard power is unreliable, consider using generator sets dedicated to the reefer containers. * **Regulatory Reference:** EU Regulation 852/2004 requires preventative measures to minimize risks to food safety. * **Reasoning:** A redundant power supply provides a backup in case of further power fluctuations, safeguarding the cargo's temperature. * **Action:** Document all temperature readings and any corrective actions taken. This documentation is crucial for demonstrating compliance with HACCP principles and for potential insurance claims. * **Regulatory Reference:** EU Regulation 852/2004 mandates proper record-keeping for traceability and accountability. * **Reasoning:** Accurate documentation provides a clear audit trail and demonstrates Neptune Shipping's commitment to maintaining cold chain integrity. **Step 2: Communicate with Stakeholders (Within 4 hours of initial report)** * **Action:** Lars Jensen must immediately contact Astrid Berg (NordFish) to provide a transparent update on the situation, including the potential delays and the steps being taken to mitigate the impact. * **Reasoning:** Proactive communication is crucial for managing expectations and maintaining a positive relationship with NordFish. Transparency can help prevent legal action. * **Action:** Communicate with GPS (Global Port Services) to emphasize the urgency of the situation and request priority berthing and container handling services. Explore options for expedited handling, such as additional manpower or equipment. * **Reasoning:** Negotiating for priority service can help reduce the delay in Rotterdam. * **Action:** Inform the Asian Seafood Suppliers about the delays and potential impact on the CIF Riga Incoterms. While their responsibility ends at Riga, keeping them informed demonstrates professionalism and may facilitate smoother customs clearance later. * **Reasoning:** Maintaining open communication across the entire supply chain is essential for coordinated problem-solving. **Step 3: Assess Alternative Routing Options (Within 6 hours of initial report)** * **Action:** Lars Jensen must immediately evaluate the feasibility of diverting the \"Arctic Sunrise\" to Hamburg or Gdansk. This includes assessing berth availability, container handling capacity, and the availability of feeder vessels to Riga. * **Reasoning:** Diversion may be necessary if the Rotterdam delay becomes unmanageable. A thorough assessment is crucial to determine the most viable alternative. * **Action:** Calculate the estimated transit time, cost (including additional handling and transshipment charges), and potential risks (e.g., further delays, damage to cargo) for each alternative routing option. * **Reasoning:** A cost-benefit analysis is essential for making an informed decision about diversion. * **Action:** Consider the impact of diversion on the cold chain. Ensure that any alternative routing options can maintain the required temperature throughout the journey. * **Regulatory Reference:** EU Regulation 852/2004 requires maintaining the cold chain throughout the entire transportation process. * **Reasoning:** Cold chain integrity is paramount. Any diversion must not compromise the quality and safety of the frozen fish. **Phase 2: Contingency Planning & Preparation (Ongoing)** **Step 4: Prepare for Potential Rotterdam Delay (Ongoing)** * **Action:** Lars Jensen should prepare a contingency plan in case the Rotterdam delay exceeds the acceptable threshold. This plan should include alternative routing options, cost estimates, and communication strategies. * **Reasoning:** A contingency plan ensures that Neptune Shipping is prepared to act quickly and decisively if the situation deteriorates. * **Action:** Negotiate with NordFish to potentially revise the delivery schedule, explaining the unforeseen circumstances and the steps being taken to mitigate the impact. Offer compensation or alternative solutions to maintain their satisfaction. * **Reasoning:** Open communication and negotiation can help prevent legal action and preserve the relationship with NordFish. **Step 5: Ensure Smooth Customs Clearance in Riga (Ongoing)** * **Action:** Lars Jensen must ensure that all required import documentation (Commercial Invoice, Packing List, Customs Declaration, Bill of Lading) is complete, accurate, and submitted to Latvian Customs (VID) in advance of the vessel's arrival in Riga. * **Regulatory Reference:** EU Customs Regulations (Union Customs Code - UCC) require accurate and timely submission of import documentation. * **Reasoning:** Proactive preparation can prevent delays in customs clearance. * **Action:** Verify the accuracy of the Bill of Lading, including details of the shipper, consignee, description of goods, weight, and container number. Address any discrepancies immediately. * **Regulatory Reference:** The Bill of Lading serves as a receipt for the cargo and is a crucial document for customs clearance. * **Reasoning:** Discrepancies in the Bill of Lading can lead to delays and penalties. * **Action:** Engage a reputable customs broker in Riga to assist with the import clearance process. The broker can provide expert guidance on customs regulations and procedures. * **Reasoning:** A customs broker can expedite the clearance process and minimize the risk of errors. **Step 6: Monitor and Document (Ongoing)** * **Action:** Continuously monitor the temperature of the reefer containers and document all readings. * **Regulatory Reference:** EU Regulation 852/2004 requires continuous monitoring and control of critical points in the food supply chain. * **Reasoning:** Continuous monitoring ensures that any temperature excursions are detected and addressed promptly. * **Action:** Document all communications with stakeholders, including NordFish, GPS, and Latvian Customs. * **Reasoning:** Accurate documentation provides a clear audit trail and protects Neptune Shipping's interests. ## Recommendations * **Prioritize Reefer Container Integrity:** The immediate priority is to address the reefer container concerns and ensure that the cold chain is maintained. * **Proactive Communication:** Maintain open and transparent communication with all stakeholders, especially NordFish. * **Contingency Planning:** Develop a detailed contingency plan in case the Rotterdam delay becomes unmanageable. * **Accurate Documentation:** Ensure that all import documentation is complete, accurate, and submitted to Latvian Customs in a timely manner. * **Engage Experts:** Utilize the expertise of customs brokers and other logistics professionals to navigate complex regulations and procedures. * **Consider Diversion Strategically:** Only divert the vessel if the Rotterdam delay is clearly unmanageable and the alternative routing option offers a significant improvement in transit time and cost. ## Risk Mitigation * **Risk:** Reefer Container Malfunction leading to spoilage. * **Mitigation:** Redundant power supply, regular inspections, temperature monitoring, and insurance coverage. * **Risk:** Further Delays in Rotterdam or during alternative routing. * **Mitigation:** Contingency planning, proactive communication with port authorities, and flexible scheduling. * **Risk:** Legal Action from NordFish due to late delivery. * **Mitigation:** Open communication, negotiation, potential compensation, and force majeure clause in the contract. * **Risk:** Customs Delays in Riga due to documentation errors. * **Mitigation:** Thorough verification of documentation, engagement of a customs broker, and advance submission of documents. * **Risk:** Increased Costs due to alternative routing. * **Mitigation:** Careful cost-benefit analysis, negotiation with service providers, and insurance coverage. * **Risk:** Bill of Lading Discrepancies * **Mitigation:** Double-check all details against the cargo manifest and supplier documentation before departure from Busan. Implement a verification process for all Bills of Lading. By implementing these steps and recommendations, Neptune Shipping can mitigate the impact of the delays in Rotterdam, ensure the timely delivery of the frozen fish cargo to Riga, maintain cold chain integrity, and preserve its relationship with NordFish. The key is proactive problem-solving, regulatory compliance, and transparent communication.",
         "Arctic Sunrise: Navigating Rotterdams Congestion and Cold Chain Risks\n\n**Main Scenario:** Neptune Shipping, a mid-sized container line specializing in trade between Asia and Northern Europe, is facing a critical situation. They have a crucial contract with NordFish, a large Scandinavian seafood exporter, to transport frozen fish from Busan, South Korea, to Riga, Latvia, via their flagship container vessel, the \"Arctic Sunrise.\" However, unexpected delays and severe port congestion in Rotterdam are threatening to derail the shipment, potentially leading to significant financial losses and damage to Neptune Shipping's reputation. The successful import hinges on navigating complex customs procedures, adhering to cold chain integrity, and managing potential Bill of Lading discrepancies. **Key Entities Involved:** * **Neptune Shipping:** The container shipping company responsible for the transport. Key personnel include Captain Ingrid Olsen (Master of the \"Arctic Sunrise\") and Lars Jensen (Head of Operations). * **NordFish:** The Scandinavian seafood exporter relying on timely delivery of their frozen goods. CEO Astrid Berg is increasingly concerned about the delays and potential impact on her supply chain. * **Busan New Port (South Korea):** The origin port, experiencing higher than usual container throughput due to seasonal manufacturing peaks. * **Port of Rotterdam (Netherlands):** A major transshipment hub where the \"Arctic Sunrise\" is scheduled to offload some containers and take on others. The port is currently suffering from severe congestion due to a combination of labor disputes and infrastructure upgrades. This congestion is impacting vessel berthing and container handling, potentially violating contractual obligations. * **Port of Riga (Latvia):** The final destination port, equipped for handling frozen cargo. Latvian Customs (VID) will require all necessary import documentation for clearance. * **Global Port Services (GPS):** A stevedoring company operating in Rotterdam, contracted by Neptune Shipping. Their performance is crucial to mitigating delays. * **Asian Seafood Suppliers:** Exporters in Busan who have a contract with Nordfish outlining Incoterms and shipment responsibilities. **Core Regulatory Issues:** * **Incoterms 2020 (CIF Riga):** The agreed-upon Incoterms between NordFish and their Asian suppliers are CIF (Cost, Insurance, and Freight) Riga. This means the Asian suppliers are responsible for arranging transport to Riga, including insurance. However, Neptune Shipping, contracted by NordFish, is responsible for the cargo from Rotterdam onwards. Delays in Rotterdam and Riga directly impact Neptune Shipping's obligations. * **Cold Chain Integrity (HACCP and EU Regulation 852/2004):** Strict adherence to Hazard Analysis and Critical Control Points (HACCP) principles and EU Regulation 852/2004 on the hygiene of foodstuffs is paramount. Temperature monitoring and documentation are crucial to prevent spoilage and ensure compliance with food safety regulations. Any temperature excursions must be documented and reported to NordFish and potentially to relevant authorities. * **Rotterdam Port Regulations:** Compliance with the Rotterdam Port Authority's regulations regarding vessel berthing, container handling, and dangerous goods (if any). Delays could lead to fines and penalties, as well as impact Neptune Shipping's priority status. * **EU Customs Regulations (Union Customs Code - UCC):** Compliance with the Union Customs Code (UCC) is essential for smooth import clearance in Riga. This includes accurate and timely submission of the Entry Summary Declaration (ENS) and the presentation of all required import documentation to Latvian Customs (VID). * **ISPS Code Compliance:** Ensuring the \"Arctic Sunrise\" maintains compliance with the International Ship and Port Facility Security (ISPS) Code throughout its voyage, including heightened security measures during port congestion. * **Bill of Lading Requirements:** Ensuring the accuracy of the Bill of Lading, including details of the shipper, consignee, description of goods, weight, and container number. Any discrepancies could lead to delays in customs clearance and potential penalties. **Operational Challenges:** 1. **Busan Congestion:** The \"Arctic Sunrise\" experienced a 36-hour delay in Busan due to berthing congestion, pushing back its initial schedule. This delay has a cascading effect on subsequent port calls. 2. **Rotterdam Gridlock:** Upon arrival at Rotterdam, the port is experiencing significant congestion. GPS is struggling to provide timely berthing and container handling services. Lars Jensen receives reports of potential delays of up to 72 hours, potentially exceeding the acceptable delay threshold outlined in Neptune Shipping's contract with NordFish. 3. **Reefer Container Concerns:** The frozen fish cargo requires continuous power supply to maintain its temperature. The extended delays in Rotterdam raise concerns about potential malfunctions of the reefer units and the risk of spoilage. Captain Olsen reports intermittent power fluctuations on some reefer containers, indicating a potential breach of cold chain integrity. Temperature logs are being reviewed constantly. 4. **Contractual Obligations and Potential Legal Action:** The contract between Neptune Shipping and NordFish includes a clause stipulating penalties for late delivery. Astrid Berg is already demanding updates and threatening legal action if the shipment is significantly delayed, potentially leading to a costly legal dispute. 5. **Alternative Routing:** Lars Jensen is considering alternative routing options, such as diverting the \"Arctic Sunrise\" to Hamburg (Germany) or Gdansk (Poland) and then using feeder vessels to transport the cargo to Riga. However, these options also carry potential risks of further delays, increased costs (including additional handling and transshipment charges), and potential damage to the frozen cargo. 6. **Customs Clearance in Riga:** Even if the shipment reaches Riga, customs clearance could be delayed if the required documentation is incomplete or inaccurate. This includes the Commercial Invoice, Packing List, and Customs Declaration. 7. **Potential for Bill of Lading Discrepancies:** The Bill of Lading must accurately reflect the cargo details. Any discrepancies between the Bill of Lading and the actual cargo could lead to customs delays and penalties. **Problem to be Solved:** How can Neptune Shipping mitigate the impact of the delays in Busan and, critically, Rotterdam, ensuring the timely delivery of the frozen fish cargo to Riga while minimizing financial losses, maintaining cold chain integrity (meeting EU Regulation 852/2004 standards), and preserving its relationship with NordFish? Should Neptune Shipping stick to the planned route through Rotterdam, or should they explore alternative routing options, considering the impact on transit time, cost, and cargo integrity? What immediate actions should be taken to address the reefer container concerns, and what steps should be taken to ensure smooth customs clearance in Riga, including the accuracy of the Bill of Lading? What contingency plans should be in place if the Rotterdam delay becomes unmanageable?"
        ],
        [
         "76",
         "case-20250329-083901-mhaul2",
         "Arctic Peril: GlobalTechs Smartphone Shipment and the Northern Sea Route Gamble",
         "Okay, here's a detailed solution to the \"Arctic Peril\" case, structured as requested, incorporating regulatory references, and explaining the reasoning behind each recommendation. ## Executive Summary Nova Shipping faces a critical situation with its GlobalTech smartphone shipment via the Northern Sea Route. Unexpected ice conditions, icebreaker availability issues, port congestion in Helsinki, security concerns, and weather delays threaten timely delivery. This solution prioritizes a multi-pronged approach: immediate assessment of the *MV Aurora Borealis*'s capabilities, aggressive negotiation with Atomflot while simultaneously evaluating the Suez Canal route as a viable alternative, proactive port management in Helsinki, enhanced security measures, and close monitoring of Baltic Sea weather. The primary goal is to minimize financial losses, protect Nova Shipping's reputation, and avoid breach of contract while adhering to all applicable international maritime regulations. ## Detailed Solution Steps **Step 1: Immediate Assessment of Vessel Capabilities and Icebreaker Needs** * **Action:** Captain Erikssen to conduct a thorough assessment of the *MV Aurora Borealis*'s ice class capabilities against the actual ice conditions encountered. This includes evaluating the vessel's hull strength, propulsion system, and ice navigation equipment. * **Regulatory Reference:** *Polar Code* (International Code for Ships Operating in Polar Waters). The Polar Code mandates that ships operating in polar waters have a Polar Water Operational Manual (PWOM) which should contain information on the ship's operational limitations in ice. * **Reasoning:** The Polar Code dictates the operational limitations of the vessel based on its ice class. This assessment determines if the vessel can proceed safely without icebreaker assistance or if assistance is absolutely necessary. It also informs the decision to potentially divert the vessel. Failure to adhere to the Polar Code can result in significant penalties and detention of the vessel. * **Documentation:** Maintain a detailed log of ice conditions encountered, vessel performance, and any damage incurred. This documentation is crucial for insurance claims and potential legal disputes. **Step 2: Icebreaker Negotiation and Alternative Route Evaluation** * **Action:** * **Negotiation:** Captain Zhao Wei to aggressively negotiate with Atomflot for icebreaker services. Explore options for reduced escort distances or shared escort services with other vessels. Document all communication and agreements. * **Alternative Route Evaluation:** Lin Mei to immediately begin a cost-benefit analysis of diverting the *MV Aurora Borealis* via the Suez Canal. This includes calculating the increased transit time, fuel costs, Suez Canal transit fees, and potential impact on delivery schedules. * **Regulatory Reference:** * *UNCLOS (United Nations Convention on the Law of the Sea)*: While the Northern Sea Route falls within Russia's Exclusive Economic Zone (EEZ), UNCLOS Article 234 allows coastal states to adopt and enforce non-discriminatory laws and regulations for the prevention, reduction and control of marine pollution from vessels in ice-covered areas within the limits of the EEZ. This impacts the rules and regulations imposed by Russia for the use of the route. * *SOLAS (Safety of Life at Sea) Convention*: Regardless of the route, SOLAS regulations regarding vessel safety, navigation, and communication must be strictly adhered to. * **Reasoning:** * Negotiation is essential to minimize icebreaker costs. Exploring alternative escort options can significantly reduce expenses. * The Suez Canal route provides a reliable alternative, albeit with a longer transit time. The cost-benefit analysis will determine if the increased costs are justified to avoid the risks and uncertainties of the Northern Sea Route. * **Documentation:** Maintain records of all communication with Atomflot, including quotes, agreements, and any changes to the original schedule. Document the cost-benefit analysis of the Suez Canal route, including all assumptions and calculations. **Step 3: Proactive Port Management in Helsinki** * **Action:** Lin Mei to contact the Port of Helsinki authority and Baltic Forwarding Group (BFG) immediately. Communicate the potential delays and request priority berthing and offloading for the *MV Aurora Borealis*. Explore options for extended port operating hours or additional resources to expedite cargo handling. * **Regulatory Reference:** * *ISPS Code (International Ship and Port Facility Security Code)*: Ensure that all security measures at the Port of Helsinki are in compliance with the ISPS Code to protect the cargo from theft and terrorism. * *EU Port Regulation 2017/352*: This regulation aims to improve the efficiency and transparency of port operations within the EU. While not directly applicable to Nova Shipping, understanding its principles can aid in negotiations with the Port of Helsinki. * **Reasoning:** Early communication and proactive engagement with the port authority and BFG are crucial to mitigate the impact of port congestion. Securing priority berthing and offloading can significantly reduce delays. * **Documentation:** Maintain records of all communication with the Port of Helsinki and BFG, including requests for priority berthing, agreements on cargo handling procedures, and any changes to the original schedule. **Step 4: Enhanced Cargo Security Measures** * **Action:** * Implement GPS tracking on all containers carrying GlobalTech's electronics. * Hire armed guards to provide security during offloading and transportation within the Port of Helsinki. * Coordinate closely with port security personnel to enhance surveillance and patrols. * Verify BFG's security protocols for last-mile delivery. * **Regulatory Reference:** * *ISPS Code (International Ship and Port Facility Security Code)*: The ISPS Code mandates security measures for ships and port facilities to prevent security incidents. * *Carrier's Legal Responsibility*: The carrier is responsible for ensuring that the goods are delivered to the consignee in the same condition they were received. * **Reasoning:** Increased cargo theft in the Port of Helsinki necessitates enhanced security measures to protect the high-value electronics. GPS tracking provides real-time visibility of the cargo's location. Armed guards deter theft and provide immediate response in case of security breaches. * **Documentation:** Maintain records of all security measures implemented, including GPS tracking data, security personnel contracts, and communication with port security personnel. **Step 5: Weather Monitoring and Contingency Planning for Last-Mile Delivery** * **Action:** Lin Mei to closely monitor weather forecasts for the Baltic Sea region. Develop contingency plans for alternative delivery routes or temporary storage options in case of severe winter storms. Communicate regularly with BFG to coordinate delivery schedules and adjust plans as needed. * **Regulatory Reference:** * *EU Road Transport Regulations*: BFG must comply with all applicable EU road transport regulations, including driver hours of service, vehicle safety standards, and cargo security requirements. * **Reasoning:** Severe weather in the Baltic Sea can disrupt last-mile delivery. Proactive monitoring and contingency planning are essential to minimize delays and ensure timely delivery to GlobalTech's distribution centers. * **Documentation:** Maintain records of weather forecasts, contingency plans, and communication with BFG. **Step 6: Insurance Review and Claim Preparation** * **Action:** Captain Zhao Wei to review Nova Shipping's insurance policy to determine coverage for ice damage, delays, and cargo theft. Prepare detailed documentation of the shipment's condition, the causes of any damage, and all expenses incurred due to delays or security incidents. * **Regulatory Reference:** * *Marine Insurance Act*: The Marine Insurance Act governs the terms and conditions of marine insurance policies. * *IMDG Code (International Maritime Dangerous Goods Code)*: Ensure that the lithium batteries in the electronics are declared and transported in compliance with the IMDG Code, as failure to do so could invalidate the insurance policy. * **Reasoning:** Delays and potential damage to the cargo can result in significant financial losses. A thorough review of the insurance policy and preparation of detailed documentation are essential to ensure a successful insurance claim. * **Documentation:** Maintain a copy of the insurance policy, detailed records of the shipment's condition, the causes of any damage, and all expenses incurred due to delays or security incidents. **Step 7: Continuous Communication with GlobalTech** * **Action:** Maintain open and transparent communication with Mr. Jari Virtanen at GlobalTech. Provide regular updates on the shipment's status, potential delays, and the measures being taken to mitigate risks. * **Regulatory Reference:** * *Contract Law*: Adherence to the terms of the DDP Helsinki contract is crucial to avoid breach of contract claims. * **Reasoning:** Open communication builds trust and allows GlobalTech to adjust its sales and marketing plans accordingly. Transparency helps manage expectations and minimize potential disputes. * **Documentation:** Maintain records of all communication with GlobalTech, including emails, phone calls, and meeting minutes. ## Recommendations * **Prioritize Safety:** Never compromise safety for speed or cost. The safety of the crew and the vessel should always be the top priority. * **Invest in Technology:** Invest in advanced weather forecasting tools, ice navigation equipment, and cargo tracking systems to improve situational awareness and decision-making. * **Develop Strong Relationships:** Build strong relationships with key stakeholders, including port authorities, icebreaker operators, and logistics providers. * **Diversify Routes:** Consider diversifying shipping routes to reduce reliance on the Northern Sea Route and mitigate the risks associated with Arctic shipping. * **Conduct Regular Risk Assessments:** Conduct regular risk assessments to identify potential threats and develop mitigation strategies. * **Ensure Compliance:** Ensure all personnel are trained on all relevant regulations and that all documentation is accurate and up to date. ## Risk Mitigation | Risk | Mitigation Strategy IN THE ARCTIC. * **Reasoning:** The Polar Code dictates the operational limitations of the vessel based on its ice class. This assessment determines if the vessel can proceed safely without icebreaker assistance or if assistance is absolutely necessary. It also informs the decision to potentially divert the vessel. Failure to adhere to the Polar Code can result in significant penalties and detention of the vessel. * **Documentation:** Maintain a detailed log of ice conditions encountered, vessel performance, and any damage incurred. This documentation is crucial for insurance claims and potential legal disputes. * **Reasoning:** The Polar Code dictates the operational limitations of the vessel based on its ice class. This assessment determines if the vessel can proceed safely without icebreaker assistance or if assistance is absolutely necessary. It also informs the decision to potentially divert the vessel. Failure to adhere to the Polar Code can result in significant penalties and detention of the vessel. * **Documentation:** Maintain a detailed log of ice conditions encountered, vessel performance, and any damage incurred. This documentation is crucial for insurance claims and potential legal disputes. * **Reasoning:** The Polar Code dictates the operational limitations of the vessel based on its ice class. This assessment determines if the vessel can proceed safely without icebreaker assistance or if assistance is absolutely necessary. It also informs the decision to potentially divert the vessel. Failure to adhere to the Polar Code can result in significant penalties and detention of the vessel. * **Documentation:** Maintain a detailed log of ice conditions encountered, vessel performance, and any damage incurred. This documentation is crucial for insurance claims and potential legal disputes. * **Reasoning:** The Polar Code dictates the operational limitations of the vessel based on its ice class. This assessment determines if the vessel can proceed safely without icebreaker assistance or if assistance is absolutely necessary. It also informs the decision to potentially divert the vessel. Failure to adhere to the Polar Code can result in significant penalties and detention of the vessel. * **Documentation:** Maintain a detailed log of ice conditions encountered, vessel performance, and any damage incurred. This documentation is crucial for insurance claims and potential legal disputes. * **Reasoning:** The Polar Code dictates the operational limitations of the vessel based on its ice class. This assessment determines if the vessel can proceed safely without icebreaker assistance or if assistance is absolutely necessary. It also informs the decision to potentially divert the vessel. Failure to adhere to the Polar Code can result in significant penalties and detention of the vessel. * **Documentation:** Maintain a detailed log of ice conditions encountered, vessel performance, and any damage incurred. This documentation is crucial for insurance claims and potential legal disputes. * **Reasoning:** The Polar Code dictates the operational limitations of the vessel based on its ice class. This assessment determines if the vessel can proceed safely without icebreaker assistance or if assistance is absolutely necessary. It also informs the decision to potentially divert the vessel. Failure to adhere to the Polar Code can result in significant penalties and detention of the vessel. * **Documentation:** Maintain a detailed log of ice conditions encountered, vessel performance, and any damage incurred. This documentation is crucial for insurance claims and potential legal disputes. * **Reasoning:** The Polar Code dictates the operational limitations of the vessel based on its ice class. This assessment determines if the vessel can proceed safely without icebreaker assistance or if assistance is absolutely necessary. It also informs the decision to potentially divert the vessel. Failure to adhere to the Polar Code can result in significant penalties and detention of the vessel. * **Documentation:** Maintain a detailed log of ice conditions encountered, vessel performance, and any damage incurred. This documentation is crucial for insurance claims and potential legal disputes. * **Reasoning:** The Polar Code dictates the operational limitations of the vessel based on its ice class. This assessment determines if the vessel can proceed safely without icebreaker assistance or if assistance is absolutely necessary. It also informs the decision to potentially divert the vessel. Failure to adhere to the Polar Code can result in significant penalties and detention of the vessel. * **Documentation:** Maintain a detailed log of ice conditions encountered, vessel performance, and any damage incurred. This documentation is crucial for insurance claims and potential legal disputes. * **Reasoning:** The Polar Code dictates the operational limitations of the vessel based on its ice class. This assessment determines if the vessel can proceed safely without icebreaker assistance or if assistance is absolutely necessary. It also informs the decision to potentially divert the vessel. Failure to adhere to the Polar Code can result in significant penalties and detention of the vessel. * **Documentation:** Maintain a detailed log of ice conditions encountered, vessel performance, and any damage incurred. This documentation is crucial for insurance claims and potential legal disputes. * **Reasoning:** The Polar Code dictates the operational limitations of the vessel based on its ice class. This assessment determines if the vessel can proceed safely without icebreaker assistance or if assistance is absolutely necessary. It also informs the decision to potentially divert the vessel. Failure to adhere to the Polar Code can result in significant penalties and detention of the vessel. * **Documentation:** Maintain a detailed log of ice conditions encountered, vessel performance, and any damage incurred. This documentation is crucial for insurance claims and potential legal disputes. * **Reasoning:** The Polar Code dictates the operational limitations of the vessel based on its ice class. This assessment determines if the vessel can proceed safely without icebreaker assistance or if assistance is absolutely necessary. It also informs the decision to potentially divert the vessel. Failure to adhere to the Polar Code can result in significant penalties and detention of the vessel. * **Documentation:** Maintain a detailed log of ice conditions encountered, vessel performance, and any damage incurred. This documentation is crucial for insurance claims and potential legal disputes. * **Reasoning:** The Polar Code dictates the operational limitations of the vessel based on its ice class. This assessment determines if the vessel can proceed safely without icebreaker assistance or if assistance is absolutely necessary. It also informs the decision to potentially divert the vessel. Failure to adhere to the Polar Code can result in significant penalties and detention of the vessel. * **Documentation:** Maintain a detailed log of ice conditions encountered, vessel performance, and any damage incurred. This documentation is crucial for insurance claims and potential legal disputes. * **Reasoning:** The Polar Code dictates the operational limitations of the vessel based on its ice class. This assessment determines if the vessel can proceed safely without icebreaker assistance or if assistance is absolutely necessary. It also informs the decision to potentially divert the vessel. Failure to adhere to the Polar Code can result in significant penalties and detention of the vessel. * **Documentation:** Maintain a detailed log of ice conditions encountered, vessel performance, and any damage incurred. This documentation is crucial for insurance claims and potential legal disputes. * **Reasoning:** The Polar Code dictates the operational limitations of the vessel based on its ice class. This assessment determines if the vessel can proceed safely without icebreaker assistance or if assistance is absolutely necessary. It also informs the decision to potentially divert the vessel. Failure to adhere to the Polar Code can result in significant penalties and detention of the vessel. * **Documentation:** Maintain a detailed log of ice conditions encountered, vessel performance, and any damage incurred. This documentation is crucial for insurance claims and potential legal disputes. * **Reasoning:** The Polar Code dictates the operational limitations of the vessel based on its ice class. This assessment determines if the vessel can proceed safely without icebreaker assistance or if assistance is absolutely necessary. It also informs the decision to potentially divert the vessel. Failure to adhere to the Polar Code can result in significant penalties and detention of the vessel. * **Documentation:** Maintain a detailed log of ice conditions encountered, vessel performance, and any damage incurred. This documentation is crucial for insurance claims and potential legal disputes. * **Reasoning:** The Polar Code dictates the operational limitations of the vessel based on its ice class. This assessment determines if the vessel can proceed safely without icebreaker assistance or if assistance is absolutely necessary. It also informs the decision to potentially divert the vessel. Failure to adhere to the Polar Code can result in significant penalties and detention of the vessel. * **Documentation:** Maintain a detailed log of ice conditions encountered, vessel performance, and any damage incurred. This documentation is crucial for insurance claims and potential legal disputes. * **Reasoning:** The Polar Code dictates the operational limitations of the vessel based on its ice class. This assessment determines if the vessel can proceed safely without icebreaker assistance or if assistance is absolutely necessary. It also informs the decision to potentially divert the vessel. Failure to adhere to the Polar Code can result in significant penalties and detention of the vessel. * **Documentation:** Maintain a detailed log of ice conditions encountered, vessel performance, and any damage incurred. This documentation is crucial for insurance claims and potential legal disputes. * **Reasoning:** The Polar Code dictates the operational limitations of the vessel based on its ice class. This assessment determines if the vessel can proceed safely without icebreaker assistance or if assistance is absolutely necessary. It also informs the decision to potentially divert the vessel. Failure to adhere to the Polar Code can result in significant penalties and detention of the vessel. * **Documentation:** Maintain a detailed log of ice conditions encountered, vessel performance, and any damage incurred. This documentation is crucial for insurance claims and potential legal disputes. * **Reasoning:** The Polar Code dictates the operational limitations of the vessel based on its ice class. This assessment determines if the vessel can proceed safely without icebreaker assistance or if assistance is absolutely necessary. It also informs the decision to potentially divert the vessel. Failure to adhere to the Polar Code can result in significant penalties and detention of the vessel. * **Documentation:** Maintain a detailed log of ice conditions encountered, vessel performance, and any damage incurred. This documentation is crucial for insurance claims and potential legal disputes. * **Reasoning:** The Polar Code dictates the operational limitations of the vessel based on its ice class. This assessment determines if the vessel can proceed safely without icebreaker assistance or if assistance is absolutely necessary. It also informs the decision to potentially divert the vessel. Failure to adhere to the Polar Code can result in significant penalties and detention of the vessel. * **Documentation:** Maintain a detailed log of ice conditions encountered, vessel performance, and any damage incurred. This documentation is crucial for insurance claims and potential legal disputes. * **Reasoning:** The Polar Code dictates the operational limitations of the vessel based on its ice class. This assessment determines if the vessel can proceed safely without icebreaker assistance or if assistance is absolutely necessary. It also informs the decision to potentially divert the vessel. Failure to adhere to the Polar Code can result in significant penalties and detention of the vessel. * **Documentation:** Maintain a detailed log of ice conditions encountered, vessel performance, and any damage incurred. This documentation is crucial for insurance claims and potential legal disputes. * **Reasoning:** The Polar Code dictates the operational limitations of the vessel based on its ice class. This assessment determines if the vessel can proceed safely without icebreaker assistance or if assistance is absolutely necessary. It also informs the decision to potentially divert the vessel. Failure to adhere to the Polar Code can result in significant penalties and detention of the vessel. * **Documentation:** Maintain a detailed log of ice conditions encountered, vessel performance, and any damage incurred. This documentation is crucial for insurance claims and potential legal disputes. * **Reasoning:** The Polar Code dictates the operational limitations of the vessel based on its ice class. This assessment determines if the vessel can proceed safely without icebreaker assistance or if assistance is absolutely necessary. It also informs the decision to potentially divert the vessel. Failure to adhere to the Polar Code can result in significant penalties and detention of the vessel. * **Documentation:** Maintain a detailed log of ice conditions encountered, vessel performance, and any damage incurred. This documentation is crucial for insurance claims and potential legal disputes. * **Reasoning:** The Polar Code dictates the operational limitations of the vessel based on its ice class. This assessment determines if the vessel can proceed safely without icebreaker assistance or if assistance is absolutely necessary. It also informs the decision to potentially divert the vessel. Failure to adhere to the Polar Code can result in significant penalties and detention of the vessel. * **Documentation:** Maintain a detailed log of ice conditions encountered, vessel performance, and any damage incurred. This documentation is crucial for insurance claims and potential legal disputes. * **Reasoning:** The Polar Code dictates the operational limitations of the vessel based on its ice class. This assessment determines if the vessel can proceed safely without icebreaker assistance or if assistance is absolutely necessary. It also informs the decision to potentially divert the vessel. Failure to adhere to the Polar Code can result in significant penalties and detention of the vessel. * **Documentation:** Maintain a detailed log of ice conditions encountered, vessel performance, and any damage incurred. This documentation is crucial for insurance claims and potential legal disputes. * **Reasoning:** The Polar Code dictates the operational limitations of the vessel based on its ice class. This assessment determines if the vessel can proceed safely without icebreaker assistance or if assistance is absolutely necessary. It also informs the decision to potentially divert the vessel. Failure to adhere to the Polar Code can result in significant penalties and detention of the vessel. * **Documentation:** Maintain a detailed log of ice conditions encountered, vessel performance, and any damage incurred. This documentation is crucial for insurance claims and potential legal disputes. * **Reasoning:** The Polar Code dictates the operational limitations of the vessel based on its ice class. This assessment determines if the vessel can proceed safely without icebreaker assistance or if assistance is absolutely necessary. It also informs the decision to potentially divert the vessel. Failure to adhere to the Polar Code can result in significant penalties and detention of the vessel. * **Documentation:** Maintain a detailed log of ice conditions encountered, vessel performance, and any damage incurred. This documentation is crucial for insurance claims and potential legal disputes. * **Reasoning:** The Polar Code dictates the operational limitations of the vessel based on its ice class. This assessment determines if the vessel can proceed safely without icebreaker assistance or if assistance is absolutely necessary. It also informs the decision to potentially divert the vessel. Failure to adhere to the Polar Code can result in significant penalties and detention of the vessel. * **Documentation:** Maintain a detailed log of ice conditions encountered, vessel performance, and any damage incurred. This documentation is crucial for insurance claims and potential legal disputes. * **Reasoning:** The Polar Code dictates the operational limitations of the vessel based on its ice class. This assessment determines if the vessel can proceed safely without icebreaker assistance or if assistance is absolutely necessary. It also informs the decision to potentially divert the vessel. Failure to adhere to the Polar Code can result in significant penalties and detention of the vessel. * **Documentation:** Maintain a detailed log of ice conditions encountered, vessel performance, and any damage incurred. This documentation is crucial for insurance claims and potential legal disputes. * **Reasoning:** The Polar Code dictates the operational limitations of the vessel based on its ice class. This assessment determines if the vessel can proceed safely without icebreaker assistance or if assistance is absolutely necessary. It also informs the decision to potentially divert the vessel. Failure to adhere to the Polar Code can result in significant penalties and detention of the vessel. * **Documentation:** Maintain a detailed log of ice conditions encountered, vessel performance, and any damage incurred. This documentation is crucial for insurance claims and potential legal disputes. * **Reasoning:** The Polar Code dictates the operational limitations of the vessel based on its ice class. This assessment determines if the vessel can proceed safely without icebreaker assistance or if assistance is absolutely necessary. It also informs the decision to potentially divert the vessel. Failure to adhere to the Polar Code can result in significant penalties and detention of the vessel. * **Documentation:** Maintain a detailed log of ice conditions encountered, vessel performance, and any damage incurred. This documentation is crucial for insurance claims and potential legal disputes. * **Reasoning:** The Polar Code dictates the operational limitations of the vessel based on its ice class. This assessment determines if the vessel can proceed safely without icebreaker assistance or if assistance is absolutely necessary. It also informs the decision to potentially divert the",
         "Arctic Peril: GlobalTechs Smartphone Shipment and the Northern Sea Route Gamble\n\n**Case Title: Arctic Peril: GlobalTech's Smartphone Shipment and the Northern Sea Route Gamble** **Main Scenario:** Nova Shipping, a rapidly growing container shipping company based in Shanghai, is contracted by GlobalTech Electronics, a major manufacturer of consumer electronics, to transport a large consignment of high-value smartphones and tablets from Shanghai to Helsinki, Finland, via the Northern Sea Route. The shipment, onboard the *MV Aurora Borealis*, a newly built ice-class container vessel, is scheduled to arrive in Helsinki in early December, a critical period for pre-Christmas sales. The contract specifies DDP (Delivered Duty Paid) Helsinki, placing maximum responsibility on Nova Shipping. However, a series of unforeseen circumstances threatens to derail the entire operation, potentially costing GlobalTech millions in lost sales and severely damaging Nova Shipping's reputation, including potential legal penalties for breach of contract. **Key Entities Involved:** * **Nova Shipping:** A Shanghai-based container shipping company specializing in Asia-Europe trade routes. Key personnel include Captain Zhao Wei (Chief Operating Officer) and Lin Mei (Logistics Manager). They are responsible for ensuring compliance with all applicable international maritime regulations, including the International Maritime Dangerous Goods (IMDG) Code (relevant due to lithium batteries in the electronics) and SOLAS (Safety of Life at Sea) Convention. * **GlobalTech Electronics:** A multinational consumer electronics manufacturer with headquarters in Taipei, Taiwan. Mr. Jari Virtanen (Head of European Logistics) is the primary contact. They are concerned about minimizing costs and ensuring timely delivery to meet market demand. Their insurance policy requires adherence to specific security protocols during transport. * **The *MV Aurora Borealis*:** A fictional newbuild ice-class container vessel owned and operated by Nova Shipping, captained by Captain Erikssen. The vessel must comply with the Polar Code, which sets out mandatory rules for ship design, construction, equipment, operational and training matters relevant to navigation in polar waters. * **Port of Shanghai (China):** The origin port for the shipment. Nova Shipping must ensure proper export documentation, including a verified Shipper's Export Declaration (SED). * **Port of Helsinki (Finland):** The destination port for the shipment. Congestion and security concerns are amplified by the pre-Christmas rush. * **Atomflot (Russia):** The operator of nuclear-powered icebreakers in the Northern Sea Route, potentially required for escort services. Their contracts are governed by Russian maritime law and international agreements on the use of the Northern Sea Route. * **Baltic Forwarding Group (BFG):** A fictional logistics company based in Helsinki responsible for last-mile delivery from the Port of Helsinki to GlobalTech's distribution centers across Scandinavia. They must comply with EU road transport regulations. **Core Operational & Logistical Issues:** * **Unexpected Ice Conditions:** Unusually early and severe ice formation in the Eastern Arctic section of the Northern Sea Route slows down the *MV Aurora Borealis* significantly, jeopardizing the arrival schedule. Satellite imagery confirms the challenging ice conditions, requiring an immediate assessment of the vessel's ice class capabilities. * **Icebreaker Availability:** Due to increased demand and maintenance schedules, Atomflot reports limited availability of icebreaker escort services and quotes a significantly higher price than originally budgeted. This forces Nova Shipping to re-evaluate the economic viability of the Northern Sea Route. * **Port Congestion in Helsinki:** The Port of Helsinki is experiencing unexpected congestion due to a surge in pre-Christmas imports and labor disputes, potentially delaying offloading of the *MV Aurora Borealis*. This requires proactive communication with the port authority and Baltic Forwarding Group to secure priority berthing and offloading. * **Cargo Security Concerns:** Reports of increased cargo theft targeting high-value electronics within the Port of Helsinki raise concerns about the security of the GlobalTech shipment. Nova Shipping must implement enhanced security measures, including GPS tracking, armed guards, and coordination with port security personnel. The Carrier is responsible for ensuring that the Consignee receives the goods. * **Weather Delays in the Baltic Sea:** Severe winter storms in the Baltic Sea are forecast for the week of the scheduled arrival, potentially disrupting last-mile delivery by Baltic Forwarding Group. This necessitates close monitoring of weather forecasts and contingency planning for alternative delivery routes or storage options. * **Insurance Implications:** Delays and potential damage to the sensitive electronic cargo due to extreme temperatures and sea conditions raise questions about insurance coverage and liability. Nova Shipping must review the insurance policy to determine coverage for ice damage, delays, and cargo theft, and ensure compliance with all policy requirements. The insurance company will require detailed documentation of the shipment's condition and the causes of any damage. The shipper is required to declare any hazardous or dangerous goods. **Problem to be Solved:** Faced with these converging challenges, Nova Shipping must devise a contingency plan to ensure the timely and secure delivery of the GlobalTech electronics shipment to Helsinki, minimizing financial losses, reputational damage, and potential contract penalties. The plan must consider alternative routes (e.g., the Suez Canal, although this adds significant time), icebreaker options (including negotiating with Atomflot), port management strategies (including proactive communication with the Port of Helsinki), and security enhancements (such as hiring security personnel and using GPS tracking), while also addressing the potential impact of weather delays on last-mile delivery. The chosen solution also has to comply with the IMO regulations. How can Nova Shipping navigate the \"Arctic Peril\" and deliver on its promise to GlobalTech? What documentation is needed, and what are the implications of potential non-compliance? **Educational Value:** This case study highlights the complexities of international shipping, particularly in challenging environments like the Arctic. It emphasizes the importance of risk management, contingency planning, regulatory compliance, and communication in global supply chain management. It also provides insights into the challenges of operating in a dynamic and unpredictable environment, where unforeseen events can significantly impact supply chain performance."
        ],
        [
         "113",
         "case-20250329-004330-witq8y",
         "**Guangdong Gale: A Baltic Furniture Retailer Navigating Supply Chain Disruptions**",
         "## Executive Summary Baltic Breeze Imports (BBI) faces a critical supply chain disruption due to the delayed arrival of the \"Evergreen Falcon\" and an impending labor strike at the Port of Gdansk. This situation threatens inventory levels, customer satisfaction, and profitability. This plan outlines a multi-pronged approach to mitigate these risks, focusing on communication, alternative routing, cost management, and regulatory compliance. The solution prioritizes immediate action to assess the damage, explore alternative shipping options, proactively communicate with stakeholders, and ensure compliance with Latvian and EU customs regulations. ## Detailed Solution Steps **Step 1: Immediate Damage Assessment and Communication (June 10th - 11th)** * **Action:** BBI must immediately quantify the potential impact of the delay. This includes: * Calculating the exact number of pre-orders affected. * Determining the cost of potential lost sales and penalties for late deliveries. * Assessing the impact on warehouse space and subsequent shipments. * **Communication:** * **Internal:** Hold an emergency meeting with key stakeholders (sales, marketing, logistics, finance, customer service) to review the situation and coordinate responses. * **External:** * Contact OceanWave Shipping Lines for a detailed breakdown of the delay, including the exact revised ETA at Gdansk and confirmation of the amended Ship's Manifest. Request information on potential demurrage charges. * Contact Golden Dragon Manufacturing (GDM) to inform them of the situation and explore potential options for expediting future shipments. * Contact the Riga Container Terminal (RCT) to inform them of the potential delay and discuss storage options if the shipment arrives later than expected. * Prepare a communication plan for customers affected by the delay. This plan should include proactive updates, realistic delivery estimates, and potential compensation options (e.g., discounts, free upgrades). * **Regulatory Reference:** * **EU Regulation 952/2013 (Union Customs Code - UCC):** This regulation covers the general rules and procedures for customs within the EU. BBI needs to be aware of its obligations regarding reporting changes to the shipment schedule to Latvian Customs (VID). * **Reasoning:** A swift and accurate assessment of the damage is crucial for informed decision-making. Proactive communication builds trust with stakeholders and minimizes negative impacts. **Step 2: Explore Alternative Shipping Options (June 11th - 13th)** * **Action:** Investigate alternative shipping options to expedite the delivery of the furniture components. * **Option 1: Air Freight:** Explore air freight options from a port near Guangdong (e.g., Hong Kong, Shenzhen) to Riga. Obtain quotes from multiple air freight carriers. * **Option 2: Alternative Port Routing:** Investigate if OceanWave Shipping Lines can transship the containers to another port in the Baltic region (e.g., Klaipeda, Tallinn) that is less affected by the strike. This would require amending the Bill of Lading. * **Option 3: Partial Shipment via Rail:** Explore the possibility of moving a portion of the shipment from Gdansk to Riga via rail, bypassing the port congestion. * **Regulatory Reference:** * **EU Regulation 952/2013 (UCC), Article 179 (Amendment of Declarations):** If BBI chooses an alternative port or mode of transport, they must amend their Entry Summary Declaration (ENS) filed with Polish Customs and notify Latvian Customs (VID) of the changes. This includes updating the transport details, port of discharge, and estimated time of arrival. * **International Maritime Dangerous Goods (IMDG) Code:** Ensure that any alternative transport methods comply with the IMDG Code if the shipment contains any hazardous materials (unlikely for furniture components, but worth verifying). * **Reasoning:** Exploring alternative shipping options provides flexibility and reduces reliance on the original plan. Air freight, while expensive, can significantly reduce delivery time. Alternative port routing can circumvent the strike at Gdansk. **Step 3: Cost-Benefit Analysis and Decision Making (June 13th - 14th)** * **Action:** Conduct a thorough cost-benefit analysis of each alternative shipping option. Consider the following factors: * **Transportation Costs:** Compare the costs of air freight, alternative port routing, and rail transport to the original sea freight cost. * **Demurrage and Detention Charges:** Estimate potential demurrage and detention charges at the Port of Gdansk due to the delay and strike. * **Customs Clearance Costs:** Determine if alternative shipping options will incur additional customs clearance costs. * **Lost Sales and Penalties:** Quantify the potential cost of lost sales and penalties for late deliveries if the shipment is not expedited. * **Customer Satisfaction:** Consider the impact of the delay on customer satisfaction and brand reputation. * **Decision:** Based on the cost-benefit analysis, choose the most viable shipping option that minimizes financial losses and customer dissatisfaction. * **Regulatory Reference:** * **Latvian Customs Regulations (VID):** BBI needs to understand the implications of any changes to the shipment on import duties, VAT, and other levies. Consult with a customs broker to ensure compliance. * **Reasoning:** A data-driven decision-making process ensures that the chosen solution is the most cost-effective and minimizes negative impacts. **Step 4: Implementation and Communication (June 14th - 17th)** * **Action:** Implement the chosen shipping solution. * **Air Freight:** Book air freight capacity with a reputable carrier. Coordinate with GDM to arrange for the shipment to be transported to the airport. * **Alternative Port Routing:** Work with OceanWave Shipping Lines to arrange for the containers to be transshipped to the alternative port. * **Partial Shipment via Rail:** Coordinate with a rail freight operator to arrange for the containers to be transported from Gdansk to Riga. * **Communication:** * **Update Customers:** Provide customers with updated delivery estimates based on the chosen shipping solution. * **Notify Latvian Customs (VID):** Formally notify Latvian Customs (VID) of any changes to the shipping schedule or mode of transport. Provide all necessary documentation, including the amended Bill of Lading, Commercial Invoice, and Packing List. * **Inform RCT:** Keep the Riga Container Terminal (RCT) informed of the revised arrival date and any changes to the shipment details. * **Regulatory Reference:** * **EU Regulation 952/2013 (UCC), Article 163 (Presentation of Goods to Customs):** BBI must ensure that the goods are presented to Latvian Customs (VID) upon arrival at RCT. * **ISPS Code (International Ship and Port Facility Security Code):** Ensure that all parties involved in the shipment (OceanWave Shipping Lines, Port of Gdansk, RCT) comply with the ISPS Code to maintain port security. * **Reasoning:** Effective implementation and communication are crucial for a smooth transition to the alternative shipping solution. Compliance with customs regulations is essential to avoid fines and delays. **Step 5: Monitoring and Contingency Planning (June 17th onwards)** * **Action:** Continuously monitor the progress of the shipment and be prepared to adjust the plan as needed. * Track the location of the containers using the carrier's tracking system. * Monitor the situation at the Port of Gdansk and be prepared to adjust the plan if the strike worsens. * Develop a contingency plan in case the chosen shipping solution encounters unforeseen delays. * **Regulatory Reference:** * **Latvian Customs Regulations (VID):** Stay informed of any changes to Latvian Customs regulations that may affect the shipment. * **Reasoning:** Proactive monitoring and contingency planning ensure that BBI is prepared to respond to any unexpected challenges. ## Recommendations * **Diversify Suppliers:** Reduce reliance on a single supplier in Guangdong by diversifying the supply base to include manufacturers in other regions or countries. * **Negotiate Incoterms:** Re-evaluate the Incoterms with GDM. Consider changing to FOB (Free on Board) at the origin port to gain more control over the shipping process. * **Improve Inventory Management:** Implement a more robust inventory management system to better forecast demand and manage inventory levels. * **Strengthen Communication:** Establish clear communication channels with all stakeholders in the supply chain, including suppliers, carriers, and customs brokers. * **Insurance Review:** Review BBI's insurance coverage to determine if any losses are covered under their policy. Specifically, check for coverage related to delays, strikes, and business interruption. * **Develop a Crisis Management Plan:** Create a comprehensive crisis management plan that outlines procedures for responding to supply chain disruptions. ## Risk Mitigation | Risk | Mitigation Strategy | | ------------------------------------- | ---------------------------------------------------------------------------------------------------------------------------------------------------------------------------------------------------------------------------------------------------------------------------------------------------------------------------------------------------------------------------------------------------------------------------------------------------------------------------------------------------- | | Further Delays | Maintain close communication with OceanWave Shipping Lines and the chosen alternative carrier. Develop a backup plan in case the chosen shipping solution encounters unforeseen delays. | | Increased Costs | Negotiate rates with carriers and suppliers. Explore options for cost sharing with GDM. Implement cost control measures throughout the supply chain. | | Customer Dissatisfaction | Proactively communicate with customers. Offer compensation for delays (e.g., discounts, free upgrades). Provide accurate and realistic delivery estimates. | | Customs and Regulatory Issues | Consult with a customs broker to ensure compliance with all relevant regulations. Maintain accurate and complete documentation. Notify Latvian Customs (VID) of any changes to the shipment. | | Strike Escalation at Port of Gdansk | Monitor the situation at the Port of Gdansk closely. Be prepared to divert the shipment to an alternative port if the strike escalates. | | Damage to Goods During Transport | Ensure that the goods are properly packaged and secured for transport. Obtain adequate insurance coverage to protect against damage or loss. | | Demurrage and Detention Charges | Negotiate with OceanWave Shipping Lines to minimize demurrage and detention charges. Expedite the customs clearance process to avoid delays. |",
         "**Guangdong Gale: A Baltic Furniture Retailer Navigating Supply Chain Disruptions**\n\n**Scenario:** Baltic Breeze Imports (BBI), a rapidly growing furniture retailer based in Riga, Latvia, sources a significant portion of its flat-pack furniture components from manufacturers in Southeast Asia. Their primary supplier is Golden Dragon Manufacturing (GDM) located in the Guangdong province of China. BBI relies on timely and cost-effective container shipping to maintain its inventory levels and meet customer demand, particularly during peak seasons like the summer construction boom in the Baltic region. BBI operates under Latvian Customs regulations (VID), ensuring compliance with import duties, VAT, and other relevant levies. **Key Entities:** * **Baltic Breeze Imports (BBI):** Furniture retailer based in Riga, Latvia, registered with Latvian Customs (VID) as an importer. * **Golden Dragon Manufacturing (GDM):** Furniture component manufacturer in Guangdong, China, responsible for ensuring goods are properly documented and packaged for export in accordance with Chinese regulations for international maritime transportation. * **OceanWave Shipping Lines:** A major container shipping company operating on the Asia-Europe route. As a carrier, OceanWave is responsible for the accurate completion and submission of the Ship's Manifest to customs authorities at the port of discharge (Gdansk). * **\"Evergreen Falcon\":** A fictional but representative container vessel owned and operated by OceanWave Shipping Lines, carrying a significant shipment for BBI. * **Port of Gdansk:** A major port in Poland, serving as a key transshipment hub for Baltic-bound cargo. The port is subject to EU regulations concerning port security (ISPS Code compliance) and customs procedures. * **Riga Container Terminal (RCT):** The primary container terminal in Riga, Latvia, where BBI expects to receive its shipment. RCT must comply with Latvian and EU regulations regarding container handling and security. **The Situation:** BBI has placed a large order with GDM, consisting of various flat-pack furniture components essential for their summer catalogue launch. This shipment, comprising 40 TEUs (Twenty-foot Equivalent Units), is aboard the \"Evergreen Falcon,\" scheduled to arrive at the Port of Gdansk on June 15th. From Gdansk, the containers are to be transshipped to Riga via a feeder vessel, with an expected arrival date at RCT of June 18th. This timeline is critical, as BBI has already started marketing the new furniture line and pre-orders are pouring in. The Incoterms agreed upon between BBI and GDM are DAP (Delivered at Place) Riga Container Terminal, meaning GDM is responsible for arranging and paying for transport to RCT, excluding import duties and taxes, which are BBI's responsibility. BBI has submitted the required Entry Summary Declaration (ENS) to Polish Customs before the cargo was loaded onto the \"Evergreen Falcon\" in China. This is a mandatory pre-loading notification required by EU customs regulations. However, on June 10th, BBI receives an urgent notification from OceanWave Shipping Lines: the \"Evergreen Falcon\" has encountered a severe engine malfunction in the Indian Ocean and is proceeding at a significantly reduced speed. The estimated time of arrival (ETA) at the Port of Gdansk is now June 22nd – a week later than initially scheduled. OceanWave Shipping Lines also informs BBI that they will need to amend the Ship's Manifest to reflect the revised ETA. Further complicating matters, a labor strike has been announced at the Port of Gdansk, scheduled to begin on June 20th and last for an indefinite period. The strike is anticipated to severely disrupt port operations, including container handling and transshipment. Initial reports suggest that container handling rates could be reduced by as much as 75% during the strike. **The Problem:** The delay of the \"Evergreen Falcon\" and the impending strike at the Port of Gdansk have created a significant supply chain crisis for Baltic Breeze Imports. The company faces several critical challenges: * **Inventory Shortages:** The delayed shipment threatens to create significant inventory shortages, potentially leading to lost sales, customer dissatisfaction, and damage to BBI's reputation. Failure to deliver pre-ordered items could lead to breach of contract claims from customers. * **Increased Costs:** Expediting the shipment via alternative routes or modes of transport will incur significant additional costs, impacting BBI's profit margins. BBI needs to factor in potential demurrage charges at the Port of Gdansk due to the delay and strike. * **Contractual Obligations:** BBI has contractual obligations to its customers regarding delivery dates. Failing to meet these obligations could result in penalties and legal disputes. * **Warehouse Space:** BBI's warehouse space is limited. A delayed shipment could disrupt existing inventory management and storage plans. The delay may also impact the timing of subsequent shipments already en route. * **Customs and Regulatory Compliance:** Any changes to the shipping schedule or mode of transport must be communicated to Latvian Customs (VID) to ensure compliance with import regulations. Failure to do so could result in fines or delays in customs clearance. BBI must also ensure that all documentation, including the Bill of Lading, Commercial Invoice, and Packing List, are accurate and complete to avoid customs delays. **BBI's management team needs to develop a comprehensive plan to mitigate the impact of the \"Evergreen Falcon\" delay and the Port of Gdansk strike, ensuring minimal disruption to their operations and minimizing financial losses. They must consider all available options, weighing the costs and benefits of each alternative. This plan must also address potential customs and regulatory issues arising from the disruptions. BBI must also review its insurance coverage to determine if any losses are covered under their policy.**"
        ]
       ],
       "shape": {
        "columns": 4,
        "rows": 5
       }
      },
      "text/html": [
       "<div>\n",
       "<style scoped>\n",
       "    .dataframe tbody tr th:only-of-type {\n",
       "        vertical-align: middle;\n",
       "    }\n",
       "\n",
       "    .dataframe tbody tr th {\n",
       "        vertical-align: top;\n",
       "    }\n",
       "\n",
       "    .dataframe thead th {\n",
       "        text-align: right;\n",
       "    }\n",
       "</style>\n",
       "<table border=\"1\" class=\"dataframe\">\n",
       "  <thead>\n",
       "    <tr style=\"text-align: right;\">\n",
       "      <th></th>\n",
       "      <th>case_id</th>\n",
       "      <th>title</th>\n",
       "      <th>solution</th>\n",
       "      <th>case_for_embedding</th>\n",
       "    </tr>\n",
       "  </thead>\n",
       "  <tbody>\n",
       "    <tr>\n",
       "      <th>240</th>\n",
       "      <td>case-20250330-081720-dj177a</td>\n",
       "      <td>**Baltic Salmon Run: Navigating Regulatory Hur...</td>\n",
       "      <td>## Executive Summary Baltic Breeze Seafood fac...</td>\n",
       "      <td>**Baltic Salmon Run: Navigating Regulatory Hur...</td>\n",
       "    </tr>\n",
       "    <tr>\n",
       "      <th>143</th>\n",
       "      <td>case-20250329-201544-4yus0r</td>\n",
       "      <td>Baltic Bottleneck: Optimizing Timber Exports A...</td>\n",
       "      <td>## Executive Summary Scandinavian Timber Expor...</td>\n",
       "      <td>Baltic Bottleneck: Optimizing Timber Exports A...</td>\n",
       "    </tr>\n",
       "    <tr>\n",
       "      <th>253</th>\n",
       "      <td>case-20250329-200538-utxdtj</td>\n",
       "      <td>Arctic Sunrise: Navigating Rotterdams Congesti...</td>\n",
       "      <td>## Executive Summary Neptune Shipping faces a ...</td>\n",
       "      <td>Arctic Sunrise: Navigating Rotterdams Congesti...</td>\n",
       "    </tr>\n",
       "    <tr>\n",
       "      <th>76</th>\n",
       "      <td>case-20250329-083901-mhaul2</td>\n",
       "      <td>Arctic Peril: GlobalTechs Smartphone Shipment ...</td>\n",
       "      <td>Okay, here's a detailed solution to the \"Arcti...</td>\n",
       "      <td>Arctic Peril: GlobalTechs Smartphone Shipment ...</td>\n",
       "    </tr>\n",
       "    <tr>\n",
       "      <th>113</th>\n",
       "      <td>case-20250329-004330-witq8y</td>\n",
       "      <td>**Guangdong Gale: A Baltic Furniture Retailer ...</td>\n",
       "      <td>## Executive Summary Baltic Breeze Imports (BB...</td>\n",
       "      <td>**Guangdong Gale: A Baltic Furniture Retailer ...</td>\n",
       "    </tr>\n",
       "  </tbody>\n",
       "</table>\n",
       "</div>"
      ],
      "text/plain": [
       "                         case_id  \\\n",
       "240  case-20250330-081720-dj177a   \n",
       "143  case-20250329-201544-4yus0r   \n",
       "253  case-20250329-200538-utxdtj   \n",
       "76   case-20250329-083901-mhaul2   \n",
       "113  case-20250329-004330-witq8y   \n",
       "\n",
       "                                                 title  \\\n",
       "240  **Baltic Salmon Run: Navigating Regulatory Hur...   \n",
       "143  Baltic Bottleneck: Optimizing Timber Exports A...   \n",
       "253  Arctic Sunrise: Navigating Rotterdams Congesti...   \n",
       "76   Arctic Peril: GlobalTechs Smartphone Shipment ...   \n",
       "113  **Guangdong Gale: A Baltic Furniture Retailer ...   \n",
       "\n",
       "                                              solution  \\\n",
       "240  ## Executive Summary Baltic Breeze Seafood fac...   \n",
       "143  ## Executive Summary Scandinavian Timber Expor...   \n",
       "253  ## Executive Summary Neptune Shipping faces a ...   \n",
       "76   Okay, here's a detailed solution to the \"Arcti...   \n",
       "113  ## Executive Summary Baltic Breeze Imports (BB...   \n",
       "\n",
       "                                    case_for_embedding  \n",
       "240  **Baltic Salmon Run: Navigating Regulatory Hur...  \n",
       "143  Baltic Bottleneck: Optimizing Timber Exports A...  \n",
       "253  Arctic Sunrise: Navigating Rotterdams Congesti...  \n",
       "76   Arctic Peril: GlobalTechs Smartphone Shipment ...  \n",
       "113  **Guangdong Gale: A Baltic Furniture Retailer ...  "
      ]
     },
     "execution_count": 11,
     "metadata": {},
     "output_type": "execute_result"
    }
   ],
   "source": [
    "qdrant_df.head()"
   ]
  },
  {
   "cell_type": "code",
   "execution_count": 13,
   "metadata": {},
   "outputs": [],
   "source": [
    "def create_qdrant_point(row):\n",
    "    \"\"\"Create a Qdrant point from a dataframe row\"\"\"\n",
    "    import uuid\n",
    "    \n",
    "    # Generate embedding\n",
    "    case_embedding = get_embedding(row[\"case_for_embedding\"])\n",
    "    \n",
    "    if not case_embedding:\n",
    "        return None\n",
    "    \n",
    "    # Create simplified payload\n",
    "    payload = {\n",
    "        \"case_id\": row[\"case_id\"],\n",
    "        \"title\": row[\"title\"],\n",
    "        \"solution\": row[\"solution\"]\n",
    "    }\n",
    "    \n",
    "    # Create UUID based on case_id for consistent retrieval\n",
    "    # This ensures the same case always gets the same UUID\n",
    "    point_id = str(uuid.uuid5(uuid.NAMESPACE_DNS, row[\"case_id\"]))\n",
    "    \n",
    "    # Create point\n",
    "    point = models.PointStruct(\n",
    "        id=point_id,  # Use UUID string\n",
    "        vector=case_embedding,\n",
    "        payload=payload\n",
    "    )\n",
    "    \n",
    "    return point"
   ]
  },
  {
   "cell_type": "markdown",
   "metadata": {},
   "source": [
    "## 6. Test Upload with 2 Records"
   ]
  },
  {
   "cell_type": "code",
   "execution_count": 14,
   "metadata": {},
   "outputs": [
    {
     "name": "stdout",
     "output_type": "stream",
     "text": [
      "Testing upload with 2 records...\n",
      "Created point for case: case-20250330-081720-dj177a\n",
      "Created point for case: case-20250329-201544-4yus0r\n",
      "✅ Successfully uploaded 2 test points to Qdrant\n",
      "Collection now contains 2 points\n"
     ]
    }
   ],
   "source": [
    "# Test upload with just 2 records\n",
    "print(\"Testing upload with 2 records...\")\n",
    "\n",
    "test_points = []\n",
    "for idx, row in qdrant_df.head(2).iterrows():\n",
    "    point = create_qdrant_point(row)\n",
    "    if point:\n",
    "        test_points.append(point)\n",
    "        print(f\"Created point for case: {row['case_id']}\")\n",
    "\n",
    "# Upload test points\n",
    "if test_points:\n",
    "    try:\n",
    "        client.upsert(\n",
    "            collection_name=CASE_COLLECTION_NAME,\n",
    "            points=test_points\n",
    "        )\n",
    "        print(f\"✅ Successfully uploaded {len(test_points)} test points to Qdrant\")\n",
    "        \n",
    "        # Verify points were uploaded\n",
    "        count = client.count(collection_name=CASE_COLLECTION_NAME).count\n",
    "        print(f\"Collection now contains {count} points\")\n",
    "        \n",
    "    except Exception as e:\n",
    "        print(f\"⚠️ Error uploading test points: {e}\")\n",
    "else:\n",
    "    print(\"⚠️ No test points were created - check embedding generation\")"
   ]
  },
  {
   "cell_type": "markdown",
   "metadata": {},
   "source": [
    "## 7. Upload All Records"
   ]
  },
  {
   "cell_type": "code",
   "execution_count": 15,
   "metadata": {},
   "outputs": [
    {
     "name": "stdout",
     "output_type": "stream",
     "text": [
      "Starting caffeinate for full upload process...\n",
      "\n",
      "Uploading all 243 remaining training cases to Qdrant...\n"
     ]
    },
    {
     "data": {
      "application/vnd.jupyter.widget-view+json": {
       "model_id": "9e9c4bc3f7384e5786094738bdafa288",
       "version_major": 2,
       "version_minor": 0
      },
      "text/plain": [
       "  0%|          | 0/13 [00:00<?, ?it/s]"
      ]
     },
     "metadata": {},
     "output_type": "display_data"
    },
    {
     "name": "stdout",
     "output_type": "stream",
     "text": [
      "✅ Upload complete! Collection contains 245 points\n",
      "Successfully uploaded 243 cases in this run + 2 test cases\n",
      "Terminating caffeinate - your Mac can sleep again...\n"
     ]
    }
   ],
   "source": [
    "# Start caffeinate for the full upload process\n",
    "print(\"Starting caffeinate for full upload process...\")\n",
    "caffeinate_process = subprocess.Popen([\"caffeinate\", \"-i\", \"-d\", \"-m\"], \n",
    "                                     stdout=subprocess.DEVNULL, \n",
    "                                     stderr=subprocess.DEVNULL)\n",
    "\n",
    "try:\n",
    "    # Upload remaining training cases to collection\n",
    "    print(f\"\\nUploading all {len(qdrant_df) - 2} remaining training cases to Qdrant...\")\n",
    "    \n",
    "    # Batch size for uploads\n",
    "    BATCH_SIZE = 20\n",
    "    \n",
    "    # Skip the first 2 we already uploaded\n",
    "    remaining_df = qdrant_df.iloc[2:]\n",
    "    \n",
    "    # Process in batches to avoid overloading API\n",
    "    total_uploaded = 0\n",
    "    \n",
    "    for i in tqdm(range(0, len(remaining_df), BATCH_SIZE)):\n",
    "        batch = remaining_df.iloc[i:i+BATCH_SIZE]\n",
    "        points = []\n",
    "        \n",
    "        for _, row in batch.iterrows():\n",
    "            point = create_qdrant_point(row)  # Using the same function that works\n",
    "            if point:\n",
    "                points.append(point)\n",
    "        \n",
    "        # Upload batch\n",
    "        if points:\n",
    "            try:\n",
    "                client.upsert(\n",
    "                    collection_name=CASE_COLLECTION_NAME,\n",
    "                    points=points\n",
    "                )\n",
    "                total_uploaded += len(points)\n",
    "            except Exception as e:\n",
    "                print(f\"Error uploading batch: {e}\")\n",
    "    \n",
    "    # Verify total upload\n",
    "    final_count = client.count(collection_name=CASE_COLLECTION_NAME).count\n",
    "    print(f\"✅ Upload complete! Collection contains {final_count} points\")\n",
    "    print(f\"Successfully uploaded {total_uploaded} cases in this run + 2 test cases\")\n",
    "    \n",
    "finally:\n",
    "    # Make sure to terminate caffeinate when done\n",
    "    if 'caffeinate_process' in locals():\n",
    "        print(\"Terminating caffeinate - your Mac can sleep again...\")\n",
    "        caffeinate_process.terminate()"
   ]
  },
  {
   "cell_type": "markdown",
   "metadata": {},
   "source": [
    "## 8. Test Retrieval with Mock Question"
   ]
  },
  {
   "cell_type": "code",
   "execution_count": 16,
   "metadata": {},
   "outputs": [
    {
     "name": "stdout",
     "output_type": "stream",
     "text": [
      "Testing case retrieval with a mock question...\n"
     ]
    },
    {
     "name": "stderr",
     "output_type": "stream",
     "text": [
      "/var/folders/1c/rpbky_9916s5qf9w4zg2hyv00000gn/T/ipykernel_12889/2530183588.py:16: DeprecationWarning: `search` method is deprecated and will be removed in the future. Use `query_points` instead.\n",
      "  results = client.search(\n"
     ]
    },
    {
     "name": "stdout",
     "output_type": "stream",
     "text": [
      "\n",
      "Most relevant cases for in-context learning:\n",
      "\n",
      "Example 1: The Baltic Bottleneck: Navigating Semiconductor Supply Chain Disruptions in Northern Europe (Similarity: 0.77)\n",
      "Solution excerpt: ## Executive Summary Sunbeam Electronics faces significant challenges in its semiconductor supply chain from China to Northern Europe, resulting in costly delays and potential contract losses. This so...\n",
      "\n",
      "Example 2: Suez Squeeze: Nordic Seafoods Blockchain-Enabled Resilience (Similarity: 0.76)\n",
      "Solution excerpt: ## Executive Summary Nordic Seafood Importers (NSI) faces significant disruptions due to Suez Canal congestion and geopolitical instability, impacting transit times, freight costs, and cold chain inte...\n",
      "\n",
      "Testing retrieval with a case from test set...\n",
      "Test case: The Jade Dragon Debacle: Navigating Congestion, Compliance, and Contingencies in the Baltic Supply Chain\n"
     ]
    },
    {
     "name": "stderr",
     "output_type": "stream",
     "text": [
      "/var/folders/1c/rpbky_9916s5qf9w4zg2hyv00000gn/T/ipykernel_12889/2530183588.py:42: DeprecationWarning: `search` method is deprecated and will be removed in the future. Use `query_points` instead.\n",
      "  results = client.search(\n"
     ]
    },
    {
     "name": "stdout",
     "output_type": "stream",
     "text": [
      "\n",
      "Most relevant cases for in-context learning:\n",
      "\n",
      "Example 1: Stranded Serenity: Navigating Baltic Port Congestion and Maritime Delays (Similarity: 0.91)\n",
      "Solution excerpt: ## Executive Summary OceanTech Logistics faces a significant challenge due to the MV *Jade Dragon*'s engine malfunction and the resulting delays impacting Nordic Furnishings' critical furniture shipme...\n",
      "\n",
      "Example 2: **Jade Dragon Delay: Navigating Congestion, Compliance, and Contractual Risk in Global Logistics** (Similarity: 0.90)\n",
      "Solution excerpt: ## Executive Summary The \"Jade Dragon\" delay presents a significant challenge to StellarFlow Logistics, threatening both financial losses due to contractual penalties and reputational damage with a ke...\n",
      "\n",
      "Testing with manually created retrieval function...\n",
      "\n",
      "Example 1: The Baltic Bottleneck: Navigating Semiconductor Supply Chain Disruptions in Northern Europe (Similarity: 0.77)\n",
      "Solution excerpt: ## Executive Summary Sunbeam Electronics faces significant challenges in its semiconductor supply chain from China to Northern Europe, resulting in costly delays and potential contract losses. This so...\n",
      "\n",
      "Example 2: Suez Squeeze: Nordic Seafoods Blockchain-Enabled Resilience (Similarity: 0.76)\n",
      "Solution excerpt: ## Executive Summary Nordic Seafood Importers (NSI) faces significant disruptions due to Suez Canal congestion and geopolitical instability, impacting transit times, freight costs, and cold chain inte...\n"
     ]
    }
   ],
   "source": [
    "# Test the retrieval with a mock question\n",
    "print(\"Testing case retrieval with a mock question...\")\n",
    "\n",
    "# Create a test query\n",
    "mock_question = \"\"\"\n",
    "We are a European automotive parts manufacturer shipping components to assembly plants in Asia. \n",
    "Recently, we've experienced significant delays at the Suez Canal and container shortages. \n",
    "What's the best approach to mitigate these logistics challenges?\n",
    "\"\"\"\n",
    "\n",
    "# Generate embedding for mock question\n",
    "mock_embedding = get_embedding(mock_question)\n",
    "\n",
    "if mock_embedding:\n",
    "    # Search for similar cases\n",
    "    results = client.search(\n",
    "        collection_name=CASE_COLLECTION_NAME,\n",
    "        query_vector=mock_embedding,\n",
    "        limit=2\n",
    "    )\n",
    "    \n",
    "    # Display results\n",
    "    print(\"\\nMost relevant cases for in-context learning:\")\n",
    "    for i, result in enumerate(results):\n",
    "        print(f\"\\nExample {i+1}: {result.payload['title']} (Similarity: {result.score:.2f})\")\n",
    "        print(f\"Solution excerpt: {result.payload['solution'][:200]}...\")\n",
    "else:\n",
    "    print(\"⚠️ Failed to generate embedding for mock question\")\n",
    "\n",
    "# Now test with a case from the test set\n",
    "print(\"\\nTesting retrieval with a case from test set...\")\n",
    "\n",
    "# Pick a random case from test set\n",
    "test_case = test_df.sample(1).iloc[0]\n",
    "print(f\"Test case: {test_case['title']}\")\n",
    "\n",
    "# Generate embedding for test case\n",
    "test_embedding = get_embedding(test_case[\"case_for_embedding\"])\n",
    "\n",
    "if test_embedding:\n",
    "    # Search for similar cases\n",
    "    results = client.search(\n",
    "        collection_name=CASE_COLLECTION_NAME,\n",
    "        query_vector=test_embedding,\n",
    "        limit=2\n",
    "    )\n",
    "    \n",
    "    # Display results\n",
    "    print(\"\\nMost relevant cases for in-context learning:\")\n",
    "    for i, result in enumerate(results):\n",
    "        print(f\"\\nExample {i+1}: {result.payload['title']} (Similarity: {result.score:.2f})\")\n",
    "        print(f\"Solution excerpt: {result.payload['solution'][:200]}...\")\n",
    "else:\n",
    "    print(\"⚠️ Failed to generate embedding for test case\")\n",
    "\n",
    "# Test with manually created retrieval function\n",
    "print(\"\\nTesting with manually created retrieval function...\")\n",
    "\n",
    "# Import the function (if it exists)\n",
    "try:\n",
    "    from utils.case_retrieval import retrieve_similar_cases\n",
    "    \n",
    "    # Use the function with our mock question\n",
    "    similar_examples = retrieve_similar_cases(\n",
    "        mock_question, \n",
    "        num_examples=2,\n",
    "        collection_name=CASE_COLLECTION_NAME  # Make sure this matches what we used above\n",
    "    )\n",
    "    \n",
    "    # Display results\n",
    "    for i, example in enumerate(similar_examples):\n",
    "        print(f\"\\nExample {i+1}: {example['title']} (Similarity: {example['similarity_score']:.2f})\")\n",
    "        print(f\"Solution excerpt: {example['solution'][:200]}...\")\n",
    "        \n",
    "except ImportError:\n",
    "    print(\"⚠️ Could not import retrieve_similar_cases - make sure utils/case_retrieval.py exists\")\n",
    "except Exception as e:\n",
    "    print(f\"⚠️ Error using retrieve_similar_cases: {e}\")"
   ]
  },
  {
   "cell_type": "code",
   "execution_count": null,
   "metadata": {},
   "outputs": [],
   "source": []
  }
 ],
 "metadata": {
  "kernelspec": {
   "display_name": "tsi",
   "language": "python",
   "name": "python3"
  },
  "language_info": {
   "codemirror_mode": {
    "name": "ipython",
    "version": 3
   },
   "file_extension": ".py",
   "mimetype": "text/x-python",
   "name": "python",
   "nbconvert_exporter": "python",
   "pygments_lexer": "ipython3",
   "version": "3.11.8"
  }
 },
 "nbformat": 4,
 "nbformat_minor": 2
}
